{
 "cells": [
  {
   "cell_type": "markdown",
   "metadata": {},
   "source": [
    "# Capstone : Forcasting Water Levels in Chennai India\n",
    "\n",
    "\n",
    "*By: Asher Lewis* [Github](https://github.com/abrahamlewis4867)"
   ]
  },
  {
   "cell_type": "markdown",
   "metadata": {},
   "source": [
    "<img src=\"D9HGx7FVUAEawA-.jpeg\" width=\"1400px\">"
   ]
  },
  {
   "cell_type": "markdown",
   "metadata": {},
   "source": [
    "---"
   ]
  },
  {
   "cell_type": "markdown",
   "metadata": {},
   "source": [
    "## Problem Statement"
   ]
  },
  {
   "cell_type": "markdown",
   "metadata": {},
   "source": [
    " Water shortage is a massive issue. India is a country that most poised for a water crisis. In June of 2019, water taps ran dry in Chennai, India, severely impacting the city’s 10.6 million residents. We are going to use water data from the cities' 4 main reservoirs in order to forecast if a cities water demands are going to exceed its capacity In order prevent a future water shortage. We are going to be using time series and linear regression. We are going to be using RMSE to score."
   ]
  },
  {
   "cell_type": "markdown",
   "metadata": {},
   "source": [
    "The 2019 Chennai water crisis was a water crisis occurring in India, most notably in the city of Chennai in Tamil Nadu. On 19 June 2019, Chennai city officials declared that \"Day Zero\", or the day when almost no water is left, had been reached, as all the four main reservoirs supplying water to the city had run dry.[1][2] Two years of deficient monsoon rainfall, particularly in late 2017 and throughout much of 2018 had led to this crisis.[3]\n",
    "\n",
    "Because tap water has stopped running, some families have been relying on alternative water sources such as distant, unreliable public water pumps, and costly private water tankers.[4]"
   ]
  },
  {
   "cell_type": "markdown",
   "metadata": {},
   "source": [
    "The 2019 Chennai water crisis was a water crisis occurring in India, most notably in the city of Chennai in Tamil Nadu. On 19 June 2019, Chennai city officials declared that \"Day Zero\", or the day when almost no water is left, had been reached, as all the four main reservoirs supplying water to the city had run dry.[1][2] Two years of deficient monsoon rainfall, particularly in late 2017 and throughout much of 2018 had led to this crisis.[3]"
   ]
  },
  {
   "cell_type": "markdown",
   "metadata": {},
   "source": [
    "Chennai is a city of over 8 million people, around the size of New York City, and is the fourth largest city in India.[5] The city is an automotive engineering hub and contains many automotive factories that are built around the reservoirs of the city. Mismanagement of the city’s water resources and weak monsoons for the last four years reduced the city’s reservoirs to 0.1% of normal capacity in June 2019.[5] Water became a valuable resource in Chennai and experienced exploitation as wealthier residents paid to dig deep bore wells on their land and sold water to other residents or businesses.[6] This practice was allowed by the government and resulted in the groundwater aquifer to be drained dramatically at twice the level of annual recharge. Protests erupted over the Chennai government’s lack of action on the issue as water was no longer a basic human right in Chennai.[6] The government also faced pressure on their management of the city’s four main reservoirs; Poondi, Cholavaram, Redhills and Chembarambakkam.[5] Factories and infrastructure built in the catchments of these reservoirs were unregulated and therefore much of the rain that fell ended up in the ocean or used in excess by these factories. This further exacerbated the issue and limited the amount of water that entered the reservoirs for public consumption. Monsoon rains in 2019 have been more plentiful in years past and have raised the reservoir levels to around 30% capacity.[7] Chennai has declared itself water secure because of the recent rains but concern remains about the future of water security in Chennai and many other Indian cities such as Bangalore which have similar regulation issues. An Indian government think tank predicted that 21 Indian cities will be out of groundwater by 2020, and the impact of future droughts in India brought upon by climate change will put the entire country at risk unless stronger regulations are put in place.[8]"
   ]
  },
  {
   "cell_type": "markdown",
   "metadata": {},
   "source": [
    "There are four reservoirs in the city, namely, Red Hills, Cholavaram, Poondi and Chembarambakkam, with a combined capacity of 11,057 mcft.[9]\n",
    "\n"
   ]
  },
  {
   "cell_type": "markdown",
   "metadata": {},
   "source": [
    "Three years of failed monsoon in 2016, 2017, and 2018. The 2018 northeast monsoon season was one of the driest ever recorded in Chennai, as only 343.7 mm of rain had fallen compared to an average of 757.6 mm, which was a 55% rainfall deficit. Additionally, the entire state of Tamil Nadu had recorded a 23% rainfall deficit in that season.[10] A major heat wave in India from May to June 2019 further exacerbated the problem by evaporating any water still left in reservoirs.\n",
    "\n"
   ]
  },
  {
   "cell_type": "markdown",
   "metadata": {},
   "source": [
    "he construction of a lined channel from Poondi to Tamaraipakkam for a length of 15 km. to convey water from Poondi to Tamaraipakkam was completed in 1972 to reduce the transmission loss. The combined capacities of Sholavaram and Redhills lakes were increased by 700 Mcft by raising the lake bunds. Thus, the combined storage capacity of Poondi, Sholavaram and Redhills was increased to 6296 Mcft (Poondi: 2573 + Cholavaram: 881 + Redhills: 2842). The irrigation rights of Sholavaram lake and Redhills lake were acquired in 1962 and the entire storage was made available for the City supply."
   ]
  },
  {
   "cell_type": "code",
   "execution_count": null,
   "metadata": {},
   "outputs": [],
   "source": []
  },
  {
   "cell_type": "markdown",
   "metadata": {},
   "source": [
    "## Executive Summary\n"
   ]
  },
  {
   "cell_type": "markdown",
   "metadata": {},
   "source": [
    "First we looked at the varbiles   \n",
    "and then we modeledl  \n",
    "base line model\n",
    "the models got a score of   "
   ]
  },
  {
   "cell_type": "code",
   "execution_count": null,
   "metadata": {},
   "outputs": [],
   "source": []
  },
  {
   "cell_type": "code",
   "execution_count": null,
   "metadata": {},
   "outputs": [],
   "source": []
  },
  {
   "cell_type": "markdown",
   "metadata": {},
   "source": [
    "---"
   ]
  },
  {
   "cell_type": "markdown",
   "metadata": {},
   "source": [
    "## Table of Contents\n",
    "\n",
    "\n",
    "1. [Data Dictionary](#Data-Dictionary)\n",
    "1. [Loading packages and data](#Loading-packages-and-data)\n",
    "1. [Data Cleaning](#Data-Cleaning)\n",
    "1. [EDA](#EDA)\n",
    "1. [Model Preparation](#Model-Preparation)\n",
    "1. [Modeling](#Modeling)\n",
    " - [Baseline](#Basline)\n",
    "1. [Model evaluation](#Model-evaluation)\n",
    "1. [Conclusions and Recommendations](#Conclusions-and-Recommendations)\n",
    "2. [References](#References)"
   ]
  },
  {
   "cell_type": "markdown",
   "metadata": {},
   "source": [
    "---"
   ]
  },
  {
   "cell_type": "markdown",
   "metadata": {},
   "source": [
    "## Data Dictionary"
   ]
  },
  {
   "cell_type": "markdown",
   "metadata": {},
   "source": [
    "|Feature|Type|Dataset|Description|\n",
    "|---|---|---|---|\n",
    "|fire_id|object|fire.csv| Sequential unique whole numbers that are automatically generated and serve as an ID|\n",
    "|fire_name|object|fire.csv| Name of fire (UNNAMED if not identifiable from source fire occurrence databases)|\n",
    "|asmnt_type|object|fire.csv| Fire mapping assessment strategy (Initial (SS) (SS=single scene), Initial, or Extended)|"
   ]
  },
  {
   "cell_type": "markdown",
   "metadata": {},
   "source": [
    "Red Hills, Cholavaram, Poondi and Chembarambakkam, with a combined capacity of 11,057 mcft. These are the major sources of fresh water for the city."
   ]
  },
  {
   "cell_type": "markdown",
   "metadata": {},
   "source": [
    "info about the resvoirs"
   ]
  },
  {
   "cell_type": "markdown",
   "metadata": {},
   "source": [
    "picture of city and resvoirs"
   ]
  },
  {
   "cell_type": "markdown",
   "metadata": {},
   "source": [
    "## Loading packages and data"
   ]
  },
  {
   "cell_type": "code",
   "execution_count": 132,
   "metadata": {},
   "outputs": [],
   "source": [
    "import pandas as pd\n",
    "import numpy as np\n",
    "import matplotlib.pyplot as plt\n",
    "from matplotlib.patches import Rectangle\n",
    "import statsmodels.api as sm\n",
    "from statsmodels.tsa.stattools import acf, pacf\n",
    "from statsmodels.graphics.tsaplots import plot_acf, plot_pacf\n",
    "from statsmodels.tsa.arima_model import ARIMA\n",
    "from sklearn.metrics import r2_score\n",
    "from sklearn.dummy import DummyRegressor\n",
    "from sklearn.model_selection import train_test_split\n",
    "from sklearn.linear_model import LinearRegression\n",
    "from statsmodels.tsa.stattools import adfuller\n",
    "from pmdarima import auto_arima\n",
    "\n",
    "import seaborn as sns\n",
    "sns.set_style(\"darkgrid\")"
   ]
  },
  {
   "cell_type": "code",
   "execution_count": 133,
   "metadata": {},
   "outputs": [],
   "source": [
    "reserv= pd.read_csv(\"./data/chennai_reservoir_levels.csv\")"
   ]
  },
  {
   "cell_type": "code",
   "execution_count": 134,
   "metadata": {},
   "outputs": [],
   "source": [
    "rain = pd.read_csv(\"./data/chennai_reservoir_rainfall.csv\")"
   ]
  },
  {
   "cell_type": "markdown",
   "metadata": {},
   "source": [
    "p 3231  140\n",
    "ch 1081  65.50\n",
    "red hills 3300  50.20\n",
    "chen 3645  85.40"
   ]
  },
  {
   "cell_type": "code",
   "execution_count": 135,
   "metadata": {
    "scrolled": true
   },
   "outputs": [
    {
     "data": {
      "text/html": [
       "<div>\n",
       "<style scoped>\n",
       "    .dataframe tbody tr th:only-of-type {\n",
       "        vertical-align: middle;\n",
       "    }\n",
       "\n",
       "    .dataframe tbody tr th {\n",
       "        vertical-align: top;\n",
       "    }\n",
       "\n",
       "    .dataframe thead th {\n",
       "        text-align: right;\n",
       "    }\n",
       "</style>\n",
       "<table border=\"1\" class=\"dataframe\">\n",
       "  <thead>\n",
       "    <tr style=\"text-align: right;\">\n",
       "      <th></th>\n",
       "      <th>Date</th>\n",
       "      <th>POONDI</th>\n",
       "      <th>CHOLAVARAM</th>\n",
       "      <th>REDHILLS</th>\n",
       "      <th>CHEMBARAMBAKKAM</th>\n",
       "    </tr>\n",
       "  </thead>\n",
       "  <tbody>\n",
       "    <tr>\n",
       "      <th>0</th>\n",
       "      <td>01-01-2004</td>\n",
       "      <td>3.9</td>\n",
       "      <td>0.0</td>\n",
       "      <td>268.0</td>\n",
       "      <td>0.0</td>\n",
       "    </tr>\n",
       "    <tr>\n",
       "      <th>1</th>\n",
       "      <td>02-01-2004</td>\n",
       "      <td>3.9</td>\n",
       "      <td>0.0</td>\n",
       "      <td>268.0</td>\n",
       "      <td>0.0</td>\n",
       "    </tr>\n",
       "    <tr>\n",
       "      <th>2</th>\n",
       "      <td>03-01-2004</td>\n",
       "      <td>3.9</td>\n",
       "      <td>0.0</td>\n",
       "      <td>267.0</td>\n",
       "      <td>0.0</td>\n",
       "    </tr>\n",
       "    <tr>\n",
       "      <th>3</th>\n",
       "      <td>04-01-2004</td>\n",
       "      <td>3.9</td>\n",
       "      <td>0.0</td>\n",
       "      <td>267.0</td>\n",
       "      <td>0.0</td>\n",
       "    </tr>\n",
       "    <tr>\n",
       "      <th>4</th>\n",
       "      <td>05-01-2004</td>\n",
       "      <td>3.8</td>\n",
       "      <td>0.0</td>\n",
       "      <td>267.0</td>\n",
       "      <td>0.0</td>\n",
       "    </tr>\n",
       "  </tbody>\n",
       "</table>\n",
       "</div>"
      ],
      "text/plain": [
       "         Date  POONDI  CHOLAVARAM  REDHILLS  CHEMBARAMBAKKAM\n",
       "0  01-01-2004     3.9         0.0     268.0              0.0\n",
       "1  02-01-2004     3.9         0.0     268.0              0.0\n",
       "2  03-01-2004     3.9         0.0     267.0              0.0\n",
       "3  04-01-2004     3.9         0.0     267.0              0.0\n",
       "4  05-01-2004     3.8         0.0     267.0              0.0"
      ]
     },
     "execution_count": 135,
     "metadata": {},
     "output_type": "execute_result"
    }
   ],
   "source": [
    "reserv.head()"
   ]
  },
  {
   "cell_type": "code",
   "execution_count": 136,
   "metadata": {},
   "outputs": [
    {
     "data": {
      "text/plain": [
       "(5836, 5)"
      ]
     },
     "execution_count": 136,
     "metadata": {},
     "output_type": "execute_result"
    }
   ],
   "source": [
    "reserv.shape"
   ]
  },
  {
   "cell_type": "code",
   "execution_count": 57,
   "metadata": {
    "scrolled": false
   },
   "outputs": [
    {
     "data": {
      "text/html": [
       "<div>\n",
       "<style scoped>\n",
       "    .dataframe tbody tr th:only-of-type {\n",
       "        vertical-align: middle;\n",
       "    }\n",
       "\n",
       "    .dataframe tbody tr th {\n",
       "        vertical-align: top;\n",
       "    }\n",
       "\n",
       "    .dataframe thead th {\n",
       "        text-align: right;\n",
       "    }\n",
       "</style>\n",
       "<table border=\"1\" class=\"dataframe\">\n",
       "  <thead>\n",
       "    <tr style=\"text-align: right;\">\n",
       "      <th></th>\n",
       "      <th>Date</th>\n",
       "      <th>POONDI</th>\n",
       "      <th>CHOLAVARAM</th>\n",
       "      <th>REDHILLS</th>\n",
       "      <th>CHEMBARAMBAKKAM</th>\n",
       "    </tr>\n",
       "  </thead>\n",
       "  <tbody>\n",
       "    <tr>\n",
       "      <th>0</th>\n",
       "      <td>01-01-2004</td>\n",
       "      <td>0.0</td>\n",
       "      <td>0.0</td>\n",
       "      <td>0.0</td>\n",
       "      <td>0.0</td>\n",
       "    </tr>\n",
       "    <tr>\n",
       "      <th>1</th>\n",
       "      <td>02-01-2004</td>\n",
       "      <td>0.0</td>\n",
       "      <td>0.0</td>\n",
       "      <td>0.0</td>\n",
       "      <td>0.0</td>\n",
       "    </tr>\n",
       "    <tr>\n",
       "      <th>2</th>\n",
       "      <td>03-01-2004</td>\n",
       "      <td>0.0</td>\n",
       "      <td>0.0</td>\n",
       "      <td>0.0</td>\n",
       "      <td>0.0</td>\n",
       "    </tr>\n",
       "    <tr>\n",
       "      <th>3</th>\n",
       "      <td>04-01-2004</td>\n",
       "      <td>0.0</td>\n",
       "      <td>0.0</td>\n",
       "      <td>0.0</td>\n",
       "      <td>0.0</td>\n",
       "    </tr>\n",
       "    <tr>\n",
       "      <th>4</th>\n",
       "      <td>05-01-2004</td>\n",
       "      <td>0.0</td>\n",
       "      <td>0.0</td>\n",
       "      <td>0.0</td>\n",
       "      <td>0.0</td>\n",
       "    </tr>\n",
       "  </tbody>\n",
       "</table>\n",
       "</div>"
      ],
      "text/plain": [
       "         Date  POONDI  CHOLAVARAM  REDHILLS  CHEMBARAMBAKKAM\n",
       "0  01-01-2004     0.0         0.0       0.0              0.0\n",
       "1  02-01-2004     0.0         0.0       0.0              0.0\n",
       "2  03-01-2004     0.0         0.0       0.0              0.0\n",
       "3  04-01-2004     0.0         0.0       0.0              0.0\n",
       "4  05-01-2004     0.0         0.0       0.0              0.0"
      ]
     },
     "execution_count": 57,
     "metadata": {},
     "output_type": "execute_result"
    }
   ],
   "source": [
    "rain.head()"
   ]
  },
  {
   "cell_type": "code",
   "execution_count": 58,
   "metadata": {},
   "outputs": [
    {
     "data": {
      "text/plain": [
       "(5836, 5)"
      ]
     },
     "execution_count": 58,
     "metadata": {},
     "output_type": "execute_result"
    }
   ],
   "source": [
    "rain.shape"
   ]
  },
  {
   "cell_type": "markdown",
   "metadata": {},
   "source": [
    "## Cleaning"
   ]
  },
  {
   "cell_type": "code",
   "execution_count": null,
   "metadata": {},
   "outputs": [],
   "source": []
  },
  {
   "cell_type": "code",
   "execution_count": 59,
   "metadata": {},
   "outputs": [],
   "source": [
    "reserv.rename(columns={\"POONDI\": \"Poondi_water_level\", \n",
    "                     \"CHOLAVARAM\": \"Cholavaram_water_level\",\n",
    "                     \"REDHILLS\": \"Redhills_water_level\",\n",
    "                    \"CHEMBARAMBAKKAM\": \"Chembarambakkam_water_level\"},inplace =True)"
   ]
  },
  {
   "cell_type": "code",
   "execution_count": null,
   "metadata": {},
   "outputs": [],
   "source": []
  },
  {
   "cell_type": "code",
   "execution_count": 60,
   "metadata": {},
   "outputs": [],
   "source": [
    "rain.rename(columns={\"POONDI\": \"Poondi_rain\", \n",
    "                     \"CHOLAVARAM\": \"Cholavaram_rain\",\n",
    "                     \"REDHILLS\": \"Redhills_rain\",\n",
    "                    \"CHEMBARAMBAKKAM\": \"Chembarambakkam_rain\"},inplace =True)"
   ]
  },
  {
   "cell_type": "code",
   "execution_count": 61,
   "metadata": {},
   "outputs": [],
   "source": [
    "df = pd.merge(reserv, rain ,on =\"Date\", how=\"outer\") "
   ]
  },
  {
   "cell_type": "code",
   "execution_count": 62,
   "metadata": {},
   "outputs": [],
   "source": [
    "cols = df.columns.tolist()"
   ]
  },
  {
   "cell_type": "code",
   "execution_count": 63,
   "metadata": {
    "scrolled": false
   },
   "outputs": [
    {
     "data": {
      "text/plain": [
       "['Date',\n",
       " 'Poondi_water_level',\n",
       " 'Cholavaram_water_level',\n",
       " 'Redhills_water_level',\n",
       " 'Chembarambakkam_water_level',\n",
       " 'Poondi_rain',\n",
       " 'Cholavaram_rain',\n",
       " 'Redhills_rain',\n",
       " 'Chembarambakkam_rain']"
      ]
     },
     "execution_count": 63,
     "metadata": {},
     "output_type": "execute_result"
    }
   ],
   "source": [
    "cols"
   ]
  },
  {
   "cell_type": "code",
   "execution_count": 64,
   "metadata": {},
   "outputs": [],
   "source": [
    "water_cols =  ['Poondi_water_level',\n",
    " 'Cholavaram_water_level',\n",
    " 'Redhills_water_level',\n",
    " 'Chembarambakkam_water_level']"
   ]
  },
  {
   "cell_type": "code",
   "execution_count": 65,
   "metadata": {},
   "outputs": [],
   "source": [
    "rain_cols =['Poondi_rain',\n",
    " 'Cholavaram_rain',\n",
    " 'Redhills_rain',\n",
    " 'Chembarambakkam_rain']"
   ]
  },
  {
   "cell_type": "code",
   "execution_count": 66,
   "metadata": {},
   "outputs": [],
   "source": [
    "df = df[['Date', 'Poondi_water_level','Poondi_rain','Cholavaram_water_level',\n",
    "   'Cholavaram_rain', 'Redhills_water_level', 'Redhills_rain', 'Chembarambakkam_water_level','Chembarambakkam_rain'  ]]"
   ]
  },
  {
   "cell_type": "code",
   "execution_count": 67,
   "metadata": {},
   "outputs": [
    {
     "data": {
      "text/html": [
       "<div>\n",
       "<style scoped>\n",
       "    .dataframe tbody tr th:only-of-type {\n",
       "        vertical-align: middle;\n",
       "    }\n",
       "\n",
       "    .dataframe tbody tr th {\n",
       "        vertical-align: top;\n",
       "    }\n",
       "\n",
       "    .dataframe thead th {\n",
       "        text-align: right;\n",
       "    }\n",
       "</style>\n",
       "<table border=\"1\" class=\"dataframe\">\n",
       "  <thead>\n",
       "    <tr style=\"text-align: right;\">\n",
       "      <th></th>\n",
       "      <th>Date</th>\n",
       "      <th>Poondi_water_level</th>\n",
       "      <th>Poondi_rain</th>\n",
       "      <th>Cholavaram_water_level</th>\n",
       "      <th>Cholavaram_rain</th>\n",
       "      <th>Redhills_water_level</th>\n",
       "      <th>Redhills_rain</th>\n",
       "      <th>Chembarambakkam_water_level</th>\n",
       "      <th>Chembarambakkam_rain</th>\n",
       "    </tr>\n",
       "  </thead>\n",
       "  <tbody>\n",
       "    <tr>\n",
       "      <th>0</th>\n",
       "      <td>01-01-2004</td>\n",
       "      <td>3.9</td>\n",
       "      <td>0.0</td>\n",
       "      <td>0.0</td>\n",
       "      <td>0.0</td>\n",
       "      <td>268.0</td>\n",
       "      <td>0.0</td>\n",
       "      <td>0.0</td>\n",
       "      <td>0.0</td>\n",
       "    </tr>\n",
       "    <tr>\n",
       "      <th>1</th>\n",
       "      <td>02-01-2004</td>\n",
       "      <td>3.9</td>\n",
       "      <td>0.0</td>\n",
       "      <td>0.0</td>\n",
       "      <td>0.0</td>\n",
       "      <td>268.0</td>\n",
       "      <td>0.0</td>\n",
       "      <td>0.0</td>\n",
       "      <td>0.0</td>\n",
       "    </tr>\n",
       "    <tr>\n",
       "      <th>2</th>\n",
       "      <td>03-01-2004</td>\n",
       "      <td>3.9</td>\n",
       "      <td>0.0</td>\n",
       "      <td>0.0</td>\n",
       "      <td>0.0</td>\n",
       "      <td>267.0</td>\n",
       "      <td>0.0</td>\n",
       "      <td>0.0</td>\n",
       "      <td>0.0</td>\n",
       "    </tr>\n",
       "    <tr>\n",
       "      <th>3</th>\n",
       "      <td>04-01-2004</td>\n",
       "      <td>3.9</td>\n",
       "      <td>0.0</td>\n",
       "      <td>0.0</td>\n",
       "      <td>0.0</td>\n",
       "      <td>267.0</td>\n",
       "      <td>0.0</td>\n",
       "      <td>0.0</td>\n",
       "      <td>0.0</td>\n",
       "    </tr>\n",
       "    <tr>\n",
       "      <th>4</th>\n",
       "      <td>05-01-2004</td>\n",
       "      <td>3.8</td>\n",
       "      <td>0.0</td>\n",
       "      <td>0.0</td>\n",
       "      <td>0.0</td>\n",
       "      <td>267.0</td>\n",
       "      <td>0.0</td>\n",
       "      <td>0.0</td>\n",
       "      <td>0.0</td>\n",
       "    </tr>\n",
       "    <tr>\n",
       "      <th>...</th>\n",
       "      <td>...</td>\n",
       "      <td>...</td>\n",
       "      <td>...</td>\n",
       "      <td>...</td>\n",
       "      <td>...</td>\n",
       "      <td>...</td>\n",
       "      <td>...</td>\n",
       "      <td>...</td>\n",
       "      <td>...</td>\n",
       "    </tr>\n",
       "    <tr>\n",
       "      <th>5831</th>\n",
       "      <td>19-12-2019</td>\n",
       "      <td>1535.0</td>\n",
       "      <td>0.0</td>\n",
       "      <td>139.0</td>\n",
       "      <td>0.0</td>\n",
       "      <td>2318.0</td>\n",
       "      <td>0.0</td>\n",
       "      <td>1397.0</td>\n",
       "      <td>0.0</td>\n",
       "    </tr>\n",
       "    <tr>\n",
       "      <th>5832</th>\n",
       "      <td>20-12-2019</td>\n",
       "      <td>1529.0</td>\n",
       "      <td>0.0</td>\n",
       "      <td>131.0</td>\n",
       "      <td>0.0</td>\n",
       "      <td>2335.0</td>\n",
       "      <td>0.0</td>\n",
       "      <td>1435.0</td>\n",
       "      <td>0.0</td>\n",
       "    </tr>\n",
       "    <tr>\n",
       "      <th>5833</th>\n",
       "      <td>21-12-2019</td>\n",
       "      <td>1522.0</td>\n",
       "      <td>0.0</td>\n",
       "      <td>123.0</td>\n",
       "      <td>0.0</td>\n",
       "      <td>2351.0</td>\n",
       "      <td>0.0</td>\n",
       "      <td>1473.0</td>\n",
       "      <td>0.0</td>\n",
       "    </tr>\n",
       "    <tr>\n",
       "      <th>5834</th>\n",
       "      <td>22-12-2019</td>\n",
       "      <td>1514.0</td>\n",
       "      <td>0.0</td>\n",
       "      <td>115.0</td>\n",
       "      <td>0.0</td>\n",
       "      <td>2369.0</td>\n",
       "      <td>0.0</td>\n",
       "      <td>1510.0</td>\n",
       "      <td>0.0</td>\n",
       "    </tr>\n",
       "    <tr>\n",
       "      <th>5835</th>\n",
       "      <td>23-12-2019</td>\n",
       "      <td>1497.0</td>\n",
       "      <td>0.0</td>\n",
       "      <td>108.0</td>\n",
       "      <td>0.0</td>\n",
       "      <td>2382.0</td>\n",
       "      <td>0.0</td>\n",
       "      <td>1548.0</td>\n",
       "      <td>0.0</td>\n",
       "    </tr>\n",
       "  </tbody>\n",
       "</table>\n",
       "<p>5836 rows × 9 columns</p>\n",
       "</div>"
      ],
      "text/plain": [
       "            Date  Poondi_water_level  Poondi_rain  Cholavaram_water_level  \\\n",
       "0     01-01-2004                 3.9          0.0                     0.0   \n",
       "1     02-01-2004                 3.9          0.0                     0.0   \n",
       "2     03-01-2004                 3.9          0.0                     0.0   \n",
       "3     04-01-2004                 3.9          0.0                     0.0   \n",
       "4     05-01-2004                 3.8          0.0                     0.0   \n",
       "...          ...                 ...          ...                     ...   \n",
       "5831  19-12-2019              1535.0          0.0                   139.0   \n",
       "5832  20-12-2019              1529.0          0.0                   131.0   \n",
       "5833  21-12-2019              1522.0          0.0                   123.0   \n",
       "5834  22-12-2019              1514.0          0.0                   115.0   \n",
       "5835  23-12-2019              1497.0          0.0                   108.0   \n",
       "\n",
       "      Cholavaram_rain  Redhills_water_level  Redhills_rain  \\\n",
       "0                 0.0                 268.0            0.0   \n",
       "1                 0.0                 268.0            0.0   \n",
       "2                 0.0                 267.0            0.0   \n",
       "3                 0.0                 267.0            0.0   \n",
       "4                 0.0                 267.0            0.0   \n",
       "...               ...                   ...            ...   \n",
       "5831              0.0                2318.0            0.0   \n",
       "5832              0.0                2335.0            0.0   \n",
       "5833              0.0                2351.0            0.0   \n",
       "5834              0.0                2369.0            0.0   \n",
       "5835              0.0                2382.0            0.0   \n",
       "\n",
       "      Chembarambakkam_water_level  Chembarambakkam_rain  \n",
       "0                             0.0                   0.0  \n",
       "1                             0.0                   0.0  \n",
       "2                             0.0                   0.0  \n",
       "3                             0.0                   0.0  \n",
       "4                             0.0                   0.0  \n",
       "...                           ...                   ...  \n",
       "5831                       1397.0                   0.0  \n",
       "5832                       1435.0                   0.0  \n",
       "5833                       1473.0                   0.0  \n",
       "5834                       1510.0                   0.0  \n",
       "5835                       1548.0                   0.0  \n",
       "\n",
       "[5836 rows x 9 columns]"
      ]
     },
     "execution_count": 67,
     "metadata": {},
     "output_type": "execute_result"
    }
   ],
   "source": [
    "df"
   ]
  },
  {
   "cell_type": "code",
   "execution_count": 68,
   "metadata": {
    "scrolled": true
   },
   "outputs": [
    {
     "data": {
      "text/plain": [
       "Date                           0\n",
       "Poondi_water_level             0\n",
       "Poondi_rain                    0\n",
       "Cholavaram_water_level         0\n",
       "Cholavaram_rain                0\n",
       "Redhills_water_level           0\n",
       "Redhills_rain                  0\n",
       "Chembarambakkam_water_level    0\n",
       "Chembarambakkam_rain           0\n",
       "dtype: int64"
      ]
     },
     "execution_count": 68,
     "metadata": {},
     "output_type": "execute_result"
    }
   ],
   "source": [
    "df.isna().sum()"
   ]
  },
  {
   "cell_type": "code",
   "execution_count": 69,
   "metadata": {
    "scrolled": true
   },
   "outputs": [
    {
     "data": {
      "text/html": [
       "<div>\n",
       "<style scoped>\n",
       "    .dataframe tbody tr th:only-of-type {\n",
       "        vertical-align: middle;\n",
       "    }\n",
       "\n",
       "    .dataframe tbody tr th {\n",
       "        vertical-align: top;\n",
       "    }\n",
       "\n",
       "    .dataframe thead th {\n",
       "        text-align: right;\n",
       "    }\n",
       "</style>\n",
       "<table border=\"1\" class=\"dataframe\">\n",
       "  <thead>\n",
       "    <tr style=\"text-align: right;\">\n",
       "      <th></th>\n",
       "      <th>Poondi_water_level</th>\n",
       "      <th>Poondi_rain</th>\n",
       "      <th>Cholavaram_water_level</th>\n",
       "      <th>Cholavaram_rain</th>\n",
       "      <th>Redhills_water_level</th>\n",
       "      <th>Redhills_rain</th>\n",
       "      <th>Chembarambakkam_water_level</th>\n",
       "      <th>Chembarambakkam_rain</th>\n",
       "    </tr>\n",
       "  </thead>\n",
       "  <tbody>\n",
       "    <tr>\n",
       "      <th>count</th>\n",
       "      <td>5836.000000</td>\n",
       "      <td>5836.000000</td>\n",
       "      <td>5836.000000</td>\n",
       "      <td>5836.000000</td>\n",
       "      <td>5836.000000</td>\n",
       "      <td>5836.000000</td>\n",
       "      <td>5836.000000</td>\n",
       "      <td>5836.000000</td>\n",
       "    </tr>\n",
       "    <tr>\n",
       "      <th>mean</th>\n",
       "      <td>1116.271270</td>\n",
       "      <td>3.464402</td>\n",
       "      <td>234.265965</td>\n",
       "      <td>3.758773</td>\n",
       "      <td>1533.680166</td>\n",
       "      <td>3.828992</td>\n",
       "      <td>1285.674289</td>\n",
       "      <td>4.012688</td>\n",
       "    </tr>\n",
       "    <tr>\n",
       "      <th>std</th>\n",
       "      <td>1020.316805</td>\n",
       "      <td>13.065897</td>\n",
       "      <td>272.289990</td>\n",
       "      <td>14.267783</td>\n",
       "      <td>906.251292</td>\n",
       "      <td>15.011809</td>\n",
       "      <td>964.355749</td>\n",
       "      <td>16.251079</td>\n",
       "    </tr>\n",
       "    <tr>\n",
       "      <th>min</th>\n",
       "      <td>0.900000</td>\n",
       "      <td>0.000000</td>\n",
       "      <td>0.000000</td>\n",
       "      <td>0.000000</td>\n",
       "      <td>0.000000</td>\n",
       "      <td>0.000000</td>\n",
       "      <td>0.000000</td>\n",
       "      <td>0.000000</td>\n",
       "    </tr>\n",
       "    <tr>\n",
       "      <th>25%</th>\n",
       "      <td>200.225000</td>\n",
       "      <td>0.000000</td>\n",
       "      <td>18.375000</td>\n",
       "      <td>0.000000</td>\n",
       "      <td>791.000000</td>\n",
       "      <td>0.000000</td>\n",
       "      <td>408.000000</td>\n",
       "      <td>0.000000</td>\n",
       "    </tr>\n",
       "    <tr>\n",
       "      <th>50%</th>\n",
       "      <td>775.500000</td>\n",
       "      <td>0.000000</td>\n",
       "      <td>91.000000</td>\n",
       "      <td>0.000000</td>\n",
       "      <td>1596.000000</td>\n",
       "      <td>0.000000</td>\n",
       "      <td>1190.000000</td>\n",
       "      <td>0.000000</td>\n",
       "    </tr>\n",
       "    <tr>\n",
       "      <th>75%</th>\n",
       "      <td>1975.000000</td>\n",
       "      <td>0.000000</td>\n",
       "      <td>445.000000</td>\n",
       "      <td>0.000000</td>\n",
       "      <td>2212.250000</td>\n",
       "      <td>0.000000</td>\n",
       "      <td>2047.000000</td>\n",
       "      <td>0.000000</td>\n",
       "    </tr>\n",
       "    <tr>\n",
       "      <th>max</th>\n",
       "      <td>3231.000000</td>\n",
       "      <td>300.000000</td>\n",
       "      <td>896.000000</td>\n",
       "      <td>293.000000</td>\n",
       "      <td>3300.000000</td>\n",
       "      <td>320.000000</td>\n",
       "      <td>3396.000000</td>\n",
       "      <td>475.000000</td>\n",
       "    </tr>\n",
       "  </tbody>\n",
       "</table>\n",
       "</div>"
      ],
      "text/plain": [
       "       Poondi_water_level  Poondi_rain  Cholavaram_water_level  \\\n",
       "count         5836.000000  5836.000000             5836.000000   \n",
       "mean          1116.271270     3.464402              234.265965   \n",
       "std           1020.316805    13.065897              272.289990   \n",
       "min              0.900000     0.000000                0.000000   \n",
       "25%            200.225000     0.000000               18.375000   \n",
       "50%            775.500000     0.000000               91.000000   \n",
       "75%           1975.000000     0.000000              445.000000   \n",
       "max           3231.000000   300.000000              896.000000   \n",
       "\n",
       "       Cholavaram_rain  Redhills_water_level  Redhills_rain  \\\n",
       "count      5836.000000           5836.000000    5836.000000   \n",
       "mean          3.758773           1533.680166       3.828992   \n",
       "std          14.267783            906.251292      15.011809   \n",
       "min           0.000000              0.000000       0.000000   \n",
       "25%           0.000000            791.000000       0.000000   \n",
       "50%           0.000000           1596.000000       0.000000   \n",
       "75%           0.000000           2212.250000       0.000000   \n",
       "max         293.000000           3300.000000     320.000000   \n",
       "\n",
       "       Chembarambakkam_water_level  Chembarambakkam_rain  \n",
       "count                  5836.000000           5836.000000  \n",
       "mean                   1285.674289              4.012688  \n",
       "std                     964.355749             16.251079  \n",
       "min                       0.000000              0.000000  \n",
       "25%                     408.000000              0.000000  \n",
       "50%                    1190.000000              0.000000  \n",
       "75%                    2047.000000              0.000000  \n",
       "max                    3396.000000            475.000000  "
      ]
     },
     "execution_count": 69,
     "metadata": {},
     "output_type": "execute_result"
    }
   ],
   "source": [
    "df.describe()"
   ]
  },
  {
   "cell_type": "code",
   "execution_count": 70,
   "metadata": {},
   "outputs": [
    {
     "data": {
      "text/plain": [
       "Date                              0\n",
       "Poondi_water_level                0\n",
       "Poondi_rain                    4647\n",
       "Cholavaram_water_level         1207\n",
       "Cholavaram_rain                4780\n",
       "Redhills_water_level            206\n",
       "Redhills_rain                  4701\n",
       "Chembarambakkam_water_level     424\n",
       "Chembarambakkam_rain           4720\n",
       "dtype: int64"
      ]
     },
     "execution_count": 70,
     "metadata": {},
     "output_type": "execute_result"
    }
   ],
   "source": [
    "df.eq(0).sum()"
   ]
  },
  {
   "cell_type": "markdown",
   "metadata": {},
   "source": [
    "while the drastic change is the makes sense"
   ]
  },
  {
   "cell_type": "code",
   "execution_count": 71,
   "metadata": {},
   "outputs": [],
   "source": [
    "df[\"Date\"] = pd.to_datetime(reserv[\"Date\"], format='%d-%m-%Y')"
   ]
  },
  {
   "cell_type": "code",
   "execution_count": 72,
   "metadata": {
    "scrolled": true
   },
   "outputs": [
    {
     "data": {
      "text/plain": [
       "Date                           datetime64[ns]\n",
       "Poondi_water_level                    float64\n",
       "Poondi_rain                           float64\n",
       "Cholavaram_water_level                float64\n",
       "Cholavaram_rain                       float64\n",
       "Redhills_water_level                  float64\n",
       "Redhills_rain                         float64\n",
       "Chembarambakkam_water_level           float64\n",
       "Chembarambakkam_rain                  float64\n",
       "dtype: object"
      ]
     },
     "execution_count": 72,
     "metadata": {},
     "output_type": "execute_result"
    }
   ],
   "source": [
    "df.dtypes"
   ]
  },
  {
   "cell_type": "code",
   "execution_count": 73,
   "metadata": {},
   "outputs": [],
   "source": [
    "df.set_index(\"Date\", inplace= True)"
   ]
  },
  {
   "cell_type": "code",
   "execution_count": 74,
   "metadata": {},
   "outputs": [],
   "source": [
    "df.sort_index(inplace = True)"
   ]
  },
  {
   "cell_type": "markdown",
   "metadata": {},
   "source": [
    "## EDA"
   ]
  },
  {
   "cell_type": "code",
   "execution_count": 75,
   "metadata": {},
   "outputs": [],
   "source": [
    "# data.index = pd.date_range(data.index[0],             # start date\n",
    "#                            periods = len(data.index), # we want one period per entry\n",
    "#                            freq = 'M')    "
   ]
  },
  {
   "cell_type": "code",
   "execution_count": 76,
   "metadata": {},
   "outputs": [
    {
     "data": {
      "text/plain": [
       "Date                     object\n",
       "Poondi_rain             float64\n",
       "Cholavaram_rain         float64\n",
       "Redhills_rain           float64\n",
       "Chembarambakkam_rain    float64\n",
       "dtype: object"
      ]
     },
     "execution_count": 76,
     "metadata": {},
     "output_type": "execute_result"
    }
   ],
   "source": [
    "rain.dtypes"
   ]
  },
  {
   "cell_type": "code",
   "execution_count": 77,
   "metadata": {},
   "outputs": [],
   "source": [
    "# from https://towardsdatascience.com/advanced-histogram-using-python-bceae288e715\n",
    "\n",
    "def graph_percentile(col):\n",
    "    # Generate random data\n",
    "    data = col\n",
    "\n",
    "    # Colours for different percentiles\n",
    "    perc_25_colour = 'gold'\n",
    "    perc_50_colour = 'mediumaquamarine'\n",
    "    perc_75_colour = 'deepskyblue'\n",
    "    perc_95_colour = 'peachpuff'\n",
    "\n",
    "    # Plot the Histogram from the random data\n",
    "    fig, ax = plt.subplots(figsize=(8,8))\n",
    "\n",
    "    '''\n",
    "    counts  = numpy.ndarray of count of data ponts for each bin/column in the histogram\n",
    "    bins    = numpy.ndarray of bin edge/range values\n",
    "    patches = a list of Patch objects.\n",
    "            each Patch object contains a Rectnagle object. \n",
    "            e.g. Rectangle(xy=(-2.51953, 0), width=0.501013, height=3, angle=0)\n",
    "    '''\n",
    "    counts, bins, patches = ax.hist(data, facecolor=perc_50_colour, edgecolor='gray')\n",
    "\n",
    "\n",
    "    # Set the ticks to be at the edges of the bins.\n",
    "    ax.set_xticks(bins.round(2))\n",
    "    plt.xticks(rotation=70)\n",
    "\n",
    "    # Set the graph title and axes titles\n",
    "    plt.title(f'Distribution of rainfall for {col.name} reservoir in millimetres', fontsize=20)\n",
    "    plt.ylabel('Count of Distribution', fontsize=15)\n",
    "    plt.xlabel('Amount rainfall in millimetres', fontsize=15)\n",
    "\n",
    "    # Change the colors of bars at the edges\n",
    "    twentyfifth, seventyfifth, ninetyfifth = np.percentile(data, [25, 75, 95])\n",
    "    for patch, leftside, rightside in zip(patches, bins[:-1], bins[1:]):\n",
    "        if rightside < twentyfifth:\n",
    "            patch.set_facecolor(perc_25_colour)\n",
    "        elif leftside > ninetyfifth:\n",
    "            patch.set_facecolor(perc_95_colour)\n",
    "        elif leftside > seventyfifth:\n",
    "            patch.set_facecolor(perc_75_colour)\n",
    "\n",
    "    # Calculate bar centre to display the count of data points and %\n",
    "    bin_x_centers = 0.5 * np.diff(bins) + bins[:-1]\n",
    "    bin_y_centers = ax.get_yticks()[1] * 0.25\n",
    "\n",
    "    # Display the the count of data points and % for each bar in histogram\n",
    "    for i in range(len(bins)-1):\n",
    "        bin_label = \"{0:,}\".format(counts[i]) + \"  ({0:,.2f}%)\".format((counts[i]/counts.sum())*100)\n",
    "        plt.text(bin_x_centers[i], bin_y_centers, bin_label, rotation=90, rotation_mode='anchor')\n",
    "\n",
    "    # Annotation for bar values\n",
    "    ax.annotate('Each bar shows count and percentage of total',\n",
    "                xy=(.85,.30), xycoords='figure fraction',\n",
    "                horizontalalignment='center', verticalalignment='bottom',\n",
    "                fontsize=10, bbox=dict(boxstyle=\"round\", fc=\"white\"),\n",
    "                rotation=-90)\n",
    "\n",
    "    #create legend\n",
    "    handles = [Rectangle((0,0),1,1,color=c,ec=\"k\") for c in [perc_25_colour, perc_50_colour, perc_75_colour, perc_95_colour]]\n",
    "    labels= [\"0-25 Percentile\",\"25-50 Percentile\", \"50-75 Percentile\", \">95 Percentile\"]\n",
    "    plt.legend(handles, labels, bbox_to_anchor=(0.5, 0., 0.80, 0.99))\n",
    "\n"
   ]
  },
  {
   "cell_type": "code",
   "execution_count": 80,
   "metadata": {},
   "outputs": [
    {
     "ename": "KeyError",
     "evalue": "'Poondi_water_level'",
     "output_type": "error",
     "traceback": [
      "\u001b[0;31m---------------------------------------------------------------------------\u001b[0m",
      "\u001b[0;31mKeyError\u001b[0m                                  Traceback (most recent call last)",
      "\u001b[0;32m~/opt/anaconda3/lib/python3.7/site-packages/pandas/core/indexes/base.py\u001b[0m in \u001b[0;36mget_loc\u001b[0;34m(self, key, method, tolerance)\u001b[0m\n\u001b[1;32m   2645\u001b[0m             \u001b[0;32mtry\u001b[0m\u001b[0;34m:\u001b[0m\u001b[0;34m\u001b[0m\u001b[0;34m\u001b[0m\u001b[0m\n\u001b[0;32m-> 2646\u001b[0;31m                 \u001b[0;32mreturn\u001b[0m \u001b[0mself\u001b[0m\u001b[0;34m.\u001b[0m\u001b[0m_engine\u001b[0m\u001b[0;34m.\u001b[0m\u001b[0mget_loc\u001b[0m\u001b[0;34m(\u001b[0m\u001b[0mkey\u001b[0m\u001b[0;34m)\u001b[0m\u001b[0;34m\u001b[0m\u001b[0;34m\u001b[0m\u001b[0m\n\u001b[0m\u001b[1;32m   2647\u001b[0m             \u001b[0;32mexcept\u001b[0m \u001b[0mKeyError\u001b[0m\u001b[0;34m:\u001b[0m\u001b[0;34m\u001b[0m\u001b[0;34m\u001b[0m\u001b[0m\n",
      "\u001b[0;32mpandas/_libs/index.pyx\u001b[0m in \u001b[0;36mpandas._libs.index.IndexEngine.get_loc\u001b[0;34m()\u001b[0m\n",
      "\u001b[0;32mpandas/_libs/index.pyx\u001b[0m in \u001b[0;36mpandas._libs.index.IndexEngine.get_loc\u001b[0;34m()\u001b[0m\n",
      "\u001b[0;32mpandas/_libs/hashtable_class_helper.pxi\u001b[0m in \u001b[0;36mpandas._libs.hashtable.PyObjectHashTable.get_item\u001b[0;34m()\u001b[0m\n",
      "\u001b[0;32mpandas/_libs/hashtable_class_helper.pxi\u001b[0m in \u001b[0;36mpandas._libs.hashtable.PyObjectHashTable.get_item\u001b[0;34m()\u001b[0m\n",
      "\u001b[0;31mKeyError\u001b[0m: 'Poondi_water_level'",
      "\nDuring handling of the above exception, another exception occurred:\n",
      "\u001b[0;31mKeyError\u001b[0m                                  Traceback (most recent call last)",
      "\u001b[0;32m<ipython-input-80-a9622c4c3e40>\u001b[0m in \u001b[0;36m<module>\u001b[0;34m\u001b[0m\n\u001b[0;32m----> 1\u001b[0;31m \u001b[0mgraph_percentile\u001b[0m\u001b[0;34m(\u001b[0m\u001b[0mrain\u001b[0m\u001b[0;34m[\u001b[0m\u001b[0;34m\"Poondi_water_level\"\u001b[0m\u001b[0;34m]\u001b[0m\u001b[0;34m)\u001b[0m\u001b[0;34m\u001b[0m\u001b[0;34m\u001b[0m\u001b[0m\n\u001b[0m",
      "\u001b[0;32m~/opt/anaconda3/lib/python3.7/site-packages/pandas/core/frame.py\u001b[0m in \u001b[0;36m__getitem__\u001b[0;34m(self, key)\u001b[0m\n\u001b[1;32m   2798\u001b[0m             \u001b[0;32mif\u001b[0m \u001b[0mself\u001b[0m\u001b[0;34m.\u001b[0m\u001b[0mcolumns\u001b[0m\u001b[0;34m.\u001b[0m\u001b[0mnlevels\u001b[0m \u001b[0;34m>\u001b[0m \u001b[0;36m1\u001b[0m\u001b[0;34m:\u001b[0m\u001b[0;34m\u001b[0m\u001b[0;34m\u001b[0m\u001b[0m\n\u001b[1;32m   2799\u001b[0m                 \u001b[0;32mreturn\u001b[0m \u001b[0mself\u001b[0m\u001b[0;34m.\u001b[0m\u001b[0m_getitem_multilevel\u001b[0m\u001b[0;34m(\u001b[0m\u001b[0mkey\u001b[0m\u001b[0;34m)\u001b[0m\u001b[0;34m\u001b[0m\u001b[0;34m\u001b[0m\u001b[0m\n\u001b[0;32m-> 2800\u001b[0;31m             \u001b[0mindexer\u001b[0m \u001b[0;34m=\u001b[0m \u001b[0mself\u001b[0m\u001b[0;34m.\u001b[0m\u001b[0mcolumns\u001b[0m\u001b[0;34m.\u001b[0m\u001b[0mget_loc\u001b[0m\u001b[0;34m(\u001b[0m\u001b[0mkey\u001b[0m\u001b[0;34m)\u001b[0m\u001b[0;34m\u001b[0m\u001b[0;34m\u001b[0m\u001b[0m\n\u001b[0m\u001b[1;32m   2801\u001b[0m             \u001b[0;32mif\u001b[0m \u001b[0mis_integer\u001b[0m\u001b[0;34m(\u001b[0m\u001b[0mindexer\u001b[0m\u001b[0;34m)\u001b[0m\u001b[0;34m:\u001b[0m\u001b[0;34m\u001b[0m\u001b[0;34m\u001b[0m\u001b[0m\n\u001b[1;32m   2802\u001b[0m                 \u001b[0mindexer\u001b[0m \u001b[0;34m=\u001b[0m \u001b[0;34m[\u001b[0m\u001b[0mindexer\u001b[0m\u001b[0;34m]\u001b[0m\u001b[0;34m\u001b[0m\u001b[0;34m\u001b[0m\u001b[0m\n",
      "\u001b[0;32m~/opt/anaconda3/lib/python3.7/site-packages/pandas/core/indexes/base.py\u001b[0m in \u001b[0;36mget_loc\u001b[0;34m(self, key, method, tolerance)\u001b[0m\n\u001b[1;32m   2646\u001b[0m                 \u001b[0;32mreturn\u001b[0m \u001b[0mself\u001b[0m\u001b[0;34m.\u001b[0m\u001b[0m_engine\u001b[0m\u001b[0;34m.\u001b[0m\u001b[0mget_loc\u001b[0m\u001b[0;34m(\u001b[0m\u001b[0mkey\u001b[0m\u001b[0;34m)\u001b[0m\u001b[0;34m\u001b[0m\u001b[0;34m\u001b[0m\u001b[0m\n\u001b[1;32m   2647\u001b[0m             \u001b[0;32mexcept\u001b[0m \u001b[0mKeyError\u001b[0m\u001b[0;34m:\u001b[0m\u001b[0;34m\u001b[0m\u001b[0;34m\u001b[0m\u001b[0m\n\u001b[0;32m-> 2648\u001b[0;31m                 \u001b[0;32mreturn\u001b[0m \u001b[0mself\u001b[0m\u001b[0;34m.\u001b[0m\u001b[0m_engine\u001b[0m\u001b[0;34m.\u001b[0m\u001b[0mget_loc\u001b[0m\u001b[0;34m(\u001b[0m\u001b[0mself\u001b[0m\u001b[0;34m.\u001b[0m\u001b[0m_maybe_cast_indexer\u001b[0m\u001b[0;34m(\u001b[0m\u001b[0mkey\u001b[0m\u001b[0;34m)\u001b[0m\u001b[0;34m)\u001b[0m\u001b[0;34m\u001b[0m\u001b[0;34m\u001b[0m\u001b[0m\n\u001b[0m\u001b[1;32m   2649\u001b[0m         \u001b[0mindexer\u001b[0m \u001b[0;34m=\u001b[0m \u001b[0mself\u001b[0m\u001b[0;34m.\u001b[0m\u001b[0mget_indexer\u001b[0m\u001b[0;34m(\u001b[0m\u001b[0;34m[\u001b[0m\u001b[0mkey\u001b[0m\u001b[0;34m]\u001b[0m\u001b[0;34m,\u001b[0m \u001b[0mmethod\u001b[0m\u001b[0;34m=\u001b[0m\u001b[0mmethod\u001b[0m\u001b[0;34m,\u001b[0m \u001b[0mtolerance\u001b[0m\u001b[0;34m=\u001b[0m\u001b[0mtolerance\u001b[0m\u001b[0;34m)\u001b[0m\u001b[0;34m\u001b[0m\u001b[0;34m\u001b[0m\u001b[0m\n\u001b[1;32m   2650\u001b[0m         \u001b[0;32mif\u001b[0m \u001b[0mindexer\u001b[0m\u001b[0;34m.\u001b[0m\u001b[0mndim\u001b[0m \u001b[0;34m>\u001b[0m \u001b[0;36m1\u001b[0m \u001b[0;32mor\u001b[0m \u001b[0mindexer\u001b[0m\u001b[0;34m.\u001b[0m\u001b[0msize\u001b[0m \u001b[0;34m>\u001b[0m \u001b[0;36m1\u001b[0m\u001b[0;34m:\u001b[0m\u001b[0;34m\u001b[0m\u001b[0;34m\u001b[0m\u001b[0m\n",
      "\u001b[0;32mpandas/_libs/index.pyx\u001b[0m in \u001b[0;36mpandas._libs.index.IndexEngine.get_loc\u001b[0;34m()\u001b[0m\n",
      "\u001b[0;32mpandas/_libs/index.pyx\u001b[0m in \u001b[0;36mpandas._libs.index.IndexEngine.get_loc\u001b[0;34m()\u001b[0m\n",
      "\u001b[0;32mpandas/_libs/hashtable_class_helper.pxi\u001b[0m in \u001b[0;36mpandas._libs.hashtable.PyObjectHashTable.get_item\u001b[0;34m()\u001b[0m\n",
      "\u001b[0;32mpandas/_libs/hashtable_class_helper.pxi\u001b[0m in \u001b[0;36mpandas._libs.hashtable.PyObjectHashTable.get_item\u001b[0;34m()\u001b[0m\n",
      "\u001b[0;31mKeyError\u001b[0m: 'Poondi_water_level'"
     ]
    }
   ],
   "source": [
    "graph_percentile(rain[\"Poondi_water_level\"])"
   ]
  },
  {
   "cell_type": "code",
   "execution_count": null,
   "metadata": {},
   "outputs": [],
   "source": [
    "reserv.index.inferred_freq"
   ]
  },
  {
   "cell_type": "code",
   "execution_count": null,
   "metadata": {
    "scrolled": true
   },
   "outputs": [],
   "source": [
    "print(\"Data starts at:\", reserv.index[0])\n",
    "print(\"Data ends at:\", reserv.index[-1])\n",
    "print(\"Total time observed:\", reserv.index[-1] - reserv.index[0])"
   ]
  },
  {
   "cell_type": "markdown",
   "metadata": {},
   "source": [
    "#### Checking if data is time-series has constant frequency"
   ]
  },
  {
   "cell_type": "code",
   "execution_count": null,
   "metadata": {},
   "outputs": [],
   "source": [
    "rain.resample(\"m\").sum().plot(figsize=(20,10));"
   ]
  },
  {
   "cell_type": "code",
   "execution_count": null,
   "metadata": {},
   "outputs": [],
   "source": [
    "rain.index.inferred_freq"
   ]
  },
  {
   "cell_type": "code",
   "execution_count": null,
   "metadata": {},
   "outputs": [],
   "source": [
    "# from lesson\n",
    "print(\"Data starts at:\", rain.index[0])\n",
    "print(\"Data ends at:\", rain.index[-1])\n",
    "print(\"Total time observed:\", rain.index[-1] - reserv.index[0])"
   ]
  },
  {
   "cell_type": "code",
   "execution_count": null,
   "metadata": {},
   "outputs": [],
   "source": [
    "plt.title(\"water\")\n",
    "plt.hist(rain.index)\n",
    "plt.xlabel(\"Year\")\n",
    "plt.ylabel(\"Frequency\");"
   ]
  },
  {
   "cell_type": "code",
   "execution_count": null,
   "metadata": {},
   "outputs": [],
   "source": [
    "plt.title(\"water_level\")\n",
    "plt.hist(reserv.index)\n",
    "plt.xlabel(\"Year\")\n",
    "plt.ylabel(\"Frequency\");"
   ]
  },
  {
   "cell_type": "code",
   "execution_count": null,
   "metadata": {},
   "outputs": [],
   "source": []
  },
  {
   "cell_type": "code",
   "execution_count": null,
   "metadata": {
    "scrolled": true
   },
   "outputs": [],
   "source": [
    "reserv.resample(\"m\").mean().plot(figsize=(20,10))\n",
    "plt.title(\"rain\")\n",
    "plt.xlabel(\"rain\")\n",
    "plt.ylabel(\"water in\");"
   ]
  },
  {
   "cell_type": "code",
   "execution_count": null,
   "metadata": {
    "scrolled": true
   },
   "outputs": [],
   "source": [
    "rain.resample(\"y\").mean().plot(figsize=(20,10));"
   ]
  },
  {
   "cell_type": "code",
   "execution_count": null,
   "metadata": {},
   "outputs": [],
   "source": [
    "reserv.resample(\"m\").mean().plot(figsize=(20,10));"
   ]
  },
  {
   "cell_type": "code",
   "execution_count": null,
   "metadata": {
    "scrolled": true
   },
   "outputs": [],
   "source": [
    "\n",
    "rain[\"Redhills\"].plot(figsize=(12,6))\n",
    "plt.title(\"rain\")\n",
    "plt.xlabel(\"rain\")\n",
    "plt.ylabel(\"water in\");"
   ]
  },
  {
   "cell_type": "code",
   "execution_count": null,
   "metadata": {
    "scrolled": true
   },
   "outputs": [],
   "source": [
    "reserv.plot(figsize=(20,10))\n",
    "plt.title(\"rain\")\n",
    "plt.xlabel(\"rain\")\n",
    "plt.ylabel(\"water in\");"
   ]
  },
  {
   "cell_type": "code",
   "execution_count": null,
   "metadata": {},
   "outputs": [],
   "source": [
    "col_names= ['Poondi', 'Cholavaram', 'Redhills', 'Chembarambakkam']"
   ]
  },
  {
   "cell_type": "code",
   "execution_count": null,
   "metadata": {},
   "outputs": [],
   "source": [
    "rain.columns"
   ]
  },
  {
   "cell_type": "code",
   "execution_count": null,
   "metadata": {
    "scrolled": true
   },
   "outputs": [],
   "source": [
    "rain.sort_values(by=col_names, ascending=False).head()"
   ]
  },
  {
   "cell_type": "markdown",
   "metadata": {},
   "source": [
    "The 2015 South India floods resulted from heavy rainfall generated by the annual monsoon"
   ]
  },
  {
   "cell_type": "code",
   "execution_count": null,
   "metadata": {},
   "outputs": [],
   "source": [
    "plt.figure(figsize=(10, 6))\n",
    "sns.distplot(a=reserv[\"Poondi\"], kde=False);"
   ]
  },
  {
   "cell_type": "code",
   "execution_count": null,
   "metadata": {
    "scrolled": true
   },
   "outputs": [],
   "source": [
    "plt.figure(figsize=(10, 6))\n",
    "sns.distplot(a=reserv[\"Poondi\"], kde=False);"
   ]
  },
  {
   "cell_type": "code",
   "execution_count": null,
   "metadata": {
    "scrolled": true
   },
   "outputs": [],
   "source": [
    "plt.figure(figsize=(10, 6))\n",
    "sns.distplot(a=reserv[\"Redhills\"], kde=False);"
   ]
  },
  {
   "cell_type": "code",
   "execution_count": null,
   "metadata": {
    "scrolled": true
   },
   "outputs": [],
   "source": [
    "plt.figure(figsize=(10, 6))\n",
    "sns.distplot(a=reserv[\"Chembarambakkam\"], kde=False);"
   ]
  },
  {
   "cell_type": "markdown",
   "metadata": {},
   "source": [
    "With the major source of water for the city fully dry, the water needs is being partially met by other sources mentioned above. Of the estimated need of 830 MLD (Million Liters per Day) of water, 500 MLD is being met by following resources.b"
   ]
  },
  {
   "cell_type": "code",
   "execution_count": null,
   "metadata": {},
   "outputs": [],
   "source": [
    "rain"
   ]
  },
  {
   "cell_type": "code",
   "execution_count": null,
   "metadata": {
    "scrolled": false
   },
   "outputs": [],
   "source": [
    "rain.sort_values(by=\"Chembarambakkam\", ascending= False).head()"
   ]
  },
  {
   "cell_type": "markdown",
   "metadata": {},
   "source": [
    "### Determine significant lags\n",
    "\n"
   ]
  },
  {
   "cell_type": "markdown",
   "metadata": {},
   "source": [
    "---"
   ]
  },
  {
   "cell_type": "markdown",
   "metadata": {},
   "source": [
    "### Autocorrelation Function (ACF)\n",
    "Autocorrelation Function (ACF) shows the correlation of $Y$ versus it's lagged self for a specifed number of periods."
   ]
  },
  {
   "cell_type": "code",
   "execution_count": null,
   "metadata": {},
   "outputs": [],
   "source": [
    "# fig, axes = plt.subplots(figsize=(12,4),ncols = 2)\n",
    "# # Plot ACF with original data\n",
    "# plot_acf(data['bus_ridership'], lags = 10, ax = axes[0])\n",
    "# axes[0].set_title(\"Autocorrelation for original dataset\")\n",
    "\n",
    "# # Plot ACF with diff_2\n",
    "# plot_acf(diff_2.dropna(), lags = 10, ax = axes[1])\n",
    "# axes[1].set_title(\"Autocorrelation for twice differenced dataset\");"
   ]
  },
  {
   "cell_type": "code",
   "execution_count": 79,
   "metadata": {
    "scrolled": false
   },
   "outputs": [
    {
     "ename": "KeyError",
     "evalue": "'Chembarambakkam'",
     "output_type": "error",
     "traceback": [
      "\u001b[0;31m---------------------------------------------------------------------------\u001b[0m",
      "\u001b[0;31mKeyError\u001b[0m                                  Traceback (most recent call last)",
      "\u001b[0;32m~/opt/anaconda3/lib/python3.7/site-packages/pandas/core/indexes/base.py\u001b[0m in \u001b[0;36mget_loc\u001b[0;34m(self, key, method, tolerance)\u001b[0m\n\u001b[1;32m   2645\u001b[0m             \u001b[0;32mtry\u001b[0m\u001b[0;34m:\u001b[0m\u001b[0;34m\u001b[0m\u001b[0;34m\u001b[0m\u001b[0m\n\u001b[0;32m-> 2646\u001b[0;31m                 \u001b[0;32mreturn\u001b[0m \u001b[0mself\u001b[0m\u001b[0;34m.\u001b[0m\u001b[0m_engine\u001b[0m\u001b[0;34m.\u001b[0m\u001b[0mget_loc\u001b[0m\u001b[0;34m(\u001b[0m\u001b[0mkey\u001b[0m\u001b[0;34m)\u001b[0m\u001b[0;34m\u001b[0m\u001b[0;34m\u001b[0m\u001b[0m\n\u001b[0m\u001b[1;32m   2647\u001b[0m             \u001b[0;32mexcept\u001b[0m \u001b[0mKeyError\u001b[0m\u001b[0;34m:\u001b[0m\u001b[0;34m\u001b[0m\u001b[0;34m\u001b[0m\u001b[0m\n",
      "\u001b[0;32mpandas/_libs/index.pyx\u001b[0m in \u001b[0;36mpandas._libs.index.IndexEngine.get_loc\u001b[0;34m()\u001b[0m\n",
      "\u001b[0;32mpandas/_libs/index.pyx\u001b[0m in \u001b[0;36mpandas._libs.index.IndexEngine.get_loc\u001b[0;34m()\u001b[0m\n",
      "\u001b[0;32mpandas/_libs/hashtable_class_helper.pxi\u001b[0m in \u001b[0;36mpandas._libs.hashtable.PyObjectHashTable.get_item\u001b[0;34m()\u001b[0m\n",
      "\u001b[0;32mpandas/_libs/hashtable_class_helper.pxi\u001b[0m in \u001b[0;36mpandas._libs.hashtable.PyObjectHashTable.get_item\u001b[0;34m()\u001b[0m\n",
      "\u001b[0;31mKeyError\u001b[0m: 'Chembarambakkam'",
      "\nDuring handling of the above exception, another exception occurred:\n",
      "\u001b[0;31mKeyError\u001b[0m                                  Traceback (most recent call last)",
      "\u001b[0;32m<ipython-input-79-902acb727f15>\u001b[0m in \u001b[0;36m<module>\u001b[0;34m\u001b[0m\n\u001b[0;32m----> 1\u001b[0;31m \u001b[0mplot_acf\u001b[0m\u001b[0;34m(\u001b[0m\u001b[0mreserv\u001b[0m\u001b[0;34m[\u001b[0m\u001b[0;34m'Chembarambakkam'\u001b[0m\u001b[0;34m]\u001b[0m\u001b[0;34m,\u001b[0m \u001b[0mlags\u001b[0m \u001b[0;34m=\u001b[0m \u001b[0;36m24\u001b[0m\u001b[0;34m)\u001b[0m\u001b[0;34m\u001b[0m\u001b[0;34m\u001b[0m\u001b[0m\n\u001b[0m\u001b[1;32m      2\u001b[0m \u001b[0mplt\u001b[0m\u001b[0;34m.\u001b[0m\u001b[0mxlabel\u001b[0m\u001b[0;34m(\u001b[0m\u001b[0;34m\"Lag\"\u001b[0m\u001b[0;34m)\u001b[0m\u001b[0;34m\u001b[0m\u001b[0;34m\u001b[0m\u001b[0m\n\u001b[1;32m      3\u001b[0m \u001b[0mplt\u001b[0m\u001b[0;34m.\u001b[0m\u001b[0mylabel\u001b[0m\u001b[0;34m(\u001b[0m\u001b[0;34m\"Autocorrelation with $lag = 0$\"\u001b[0m\u001b[0;34m)\u001b[0m\u001b[0;34m;\u001b[0m\u001b[0;34m\u001b[0m\u001b[0;34m\u001b[0m\u001b[0m\n",
      "\u001b[0;32m~/opt/anaconda3/lib/python3.7/site-packages/pandas/core/frame.py\u001b[0m in \u001b[0;36m__getitem__\u001b[0;34m(self, key)\u001b[0m\n\u001b[1;32m   2798\u001b[0m             \u001b[0;32mif\u001b[0m \u001b[0mself\u001b[0m\u001b[0;34m.\u001b[0m\u001b[0mcolumns\u001b[0m\u001b[0;34m.\u001b[0m\u001b[0mnlevels\u001b[0m \u001b[0;34m>\u001b[0m \u001b[0;36m1\u001b[0m\u001b[0;34m:\u001b[0m\u001b[0;34m\u001b[0m\u001b[0;34m\u001b[0m\u001b[0m\n\u001b[1;32m   2799\u001b[0m                 \u001b[0;32mreturn\u001b[0m \u001b[0mself\u001b[0m\u001b[0;34m.\u001b[0m\u001b[0m_getitem_multilevel\u001b[0m\u001b[0;34m(\u001b[0m\u001b[0mkey\u001b[0m\u001b[0;34m)\u001b[0m\u001b[0;34m\u001b[0m\u001b[0;34m\u001b[0m\u001b[0m\n\u001b[0;32m-> 2800\u001b[0;31m             \u001b[0mindexer\u001b[0m \u001b[0;34m=\u001b[0m \u001b[0mself\u001b[0m\u001b[0;34m.\u001b[0m\u001b[0mcolumns\u001b[0m\u001b[0;34m.\u001b[0m\u001b[0mget_loc\u001b[0m\u001b[0;34m(\u001b[0m\u001b[0mkey\u001b[0m\u001b[0;34m)\u001b[0m\u001b[0;34m\u001b[0m\u001b[0;34m\u001b[0m\u001b[0m\n\u001b[0m\u001b[1;32m   2801\u001b[0m             \u001b[0;32mif\u001b[0m \u001b[0mis_integer\u001b[0m\u001b[0;34m(\u001b[0m\u001b[0mindexer\u001b[0m\u001b[0;34m)\u001b[0m\u001b[0;34m:\u001b[0m\u001b[0;34m\u001b[0m\u001b[0;34m\u001b[0m\u001b[0m\n\u001b[1;32m   2802\u001b[0m                 \u001b[0mindexer\u001b[0m \u001b[0;34m=\u001b[0m \u001b[0;34m[\u001b[0m\u001b[0mindexer\u001b[0m\u001b[0;34m]\u001b[0m\u001b[0;34m\u001b[0m\u001b[0;34m\u001b[0m\u001b[0m\n",
      "\u001b[0;32m~/opt/anaconda3/lib/python3.7/site-packages/pandas/core/indexes/base.py\u001b[0m in \u001b[0;36mget_loc\u001b[0;34m(self, key, method, tolerance)\u001b[0m\n\u001b[1;32m   2646\u001b[0m                 \u001b[0;32mreturn\u001b[0m \u001b[0mself\u001b[0m\u001b[0;34m.\u001b[0m\u001b[0m_engine\u001b[0m\u001b[0;34m.\u001b[0m\u001b[0mget_loc\u001b[0m\u001b[0;34m(\u001b[0m\u001b[0mkey\u001b[0m\u001b[0;34m)\u001b[0m\u001b[0;34m\u001b[0m\u001b[0;34m\u001b[0m\u001b[0m\n\u001b[1;32m   2647\u001b[0m             \u001b[0;32mexcept\u001b[0m \u001b[0mKeyError\u001b[0m\u001b[0;34m:\u001b[0m\u001b[0;34m\u001b[0m\u001b[0;34m\u001b[0m\u001b[0m\n\u001b[0;32m-> 2648\u001b[0;31m                 \u001b[0;32mreturn\u001b[0m \u001b[0mself\u001b[0m\u001b[0;34m.\u001b[0m\u001b[0m_engine\u001b[0m\u001b[0;34m.\u001b[0m\u001b[0mget_loc\u001b[0m\u001b[0;34m(\u001b[0m\u001b[0mself\u001b[0m\u001b[0;34m.\u001b[0m\u001b[0m_maybe_cast_indexer\u001b[0m\u001b[0;34m(\u001b[0m\u001b[0mkey\u001b[0m\u001b[0;34m)\u001b[0m\u001b[0;34m)\u001b[0m\u001b[0;34m\u001b[0m\u001b[0;34m\u001b[0m\u001b[0m\n\u001b[0m\u001b[1;32m   2649\u001b[0m         \u001b[0mindexer\u001b[0m \u001b[0;34m=\u001b[0m \u001b[0mself\u001b[0m\u001b[0;34m.\u001b[0m\u001b[0mget_indexer\u001b[0m\u001b[0;34m(\u001b[0m\u001b[0;34m[\u001b[0m\u001b[0mkey\u001b[0m\u001b[0;34m]\u001b[0m\u001b[0;34m,\u001b[0m \u001b[0mmethod\u001b[0m\u001b[0;34m=\u001b[0m\u001b[0mmethod\u001b[0m\u001b[0;34m,\u001b[0m \u001b[0mtolerance\u001b[0m\u001b[0;34m=\u001b[0m\u001b[0mtolerance\u001b[0m\u001b[0;34m)\u001b[0m\u001b[0;34m\u001b[0m\u001b[0;34m\u001b[0m\u001b[0m\n\u001b[1;32m   2650\u001b[0m         \u001b[0;32mif\u001b[0m \u001b[0mindexer\u001b[0m\u001b[0;34m.\u001b[0m\u001b[0mndim\u001b[0m \u001b[0;34m>\u001b[0m \u001b[0;36m1\u001b[0m \u001b[0;32mor\u001b[0m \u001b[0mindexer\u001b[0m\u001b[0;34m.\u001b[0m\u001b[0msize\u001b[0m \u001b[0;34m>\u001b[0m \u001b[0;36m1\u001b[0m\u001b[0;34m:\u001b[0m\u001b[0;34m\u001b[0m\u001b[0;34m\u001b[0m\u001b[0m\n",
      "\u001b[0;32mpandas/_libs/index.pyx\u001b[0m in \u001b[0;36mpandas._libs.index.IndexEngine.get_loc\u001b[0;34m()\u001b[0m\n",
      "\u001b[0;32mpandas/_libs/index.pyx\u001b[0m in \u001b[0;36mpandas._libs.index.IndexEngine.get_loc\u001b[0;34m()\u001b[0m\n",
      "\u001b[0;32mpandas/_libs/hashtable_class_helper.pxi\u001b[0m in \u001b[0;36mpandas._libs.hashtable.PyObjectHashTable.get_item\u001b[0;34m()\u001b[0m\n",
      "\u001b[0;32mpandas/_libs/hashtable_class_helper.pxi\u001b[0m in \u001b[0;36mpandas._libs.hashtable.PyObjectHashTable.get_item\u001b[0;34m()\u001b[0m\n",
      "\u001b[0;31mKeyError\u001b[0m: 'Chembarambakkam'"
     ]
    }
   ],
   "source": [
    "plot_acf(reserv['Chembarambakkam'], lags = 24)\n",
    "plt.xlabel(\"Lag\")\n",
    "plt.ylabel(\"Autocorrelation with $lag = 0$\");"
   ]
  },
  {
   "cell_type": "markdown",
   "metadata": {},
   "source": [
    "**ACF Interpretations**\n",
    "The blue band of an ACF plot indicates the 95% confidence interval for these correlations between each lag and the original target <br>\n",
    "_(THINK BACK: how would we use confidence intervals as an alternative to hypothesis testing?)_\n",
    "- Observations inside the blue band _(fail to reject $H_0$: not statistically significant)_ mean that there is NO significant correlations between $Y_t$ and $Y_{t-k}$ for lag $k$.\n",
    "- Observations outside the blue band _(reject $H_0$: statistically significant)_ mean that there **is** a significant correlation between $Y_t$ and $Y_{t-k}$ for lag $k$.\n",
    "\n",
    "However...the ACF looks at __the correlation between the two time periods, but has the effect of other time periods mixed into it.__ In other words, $ACF_3$ doesn't remove the effect of how $Y_{t-1}$ and $Y_{t-2}$ are correlated, amongst other lagged pairs. How do we account for this then?"
   ]
  },
  {
   "cell_type": "markdown",
   "metadata": {},
   "source": [
    "### Partial Autocorrelation Function (PACF)\n",
    "The partial autocorrelation is correlation at a given lag, controlling for the effect of previous lags. In other words, it is the __correlation that results after removing the effect of any correlations due to the terms at shorter lags__"
   ]
  },
  {
   "cell_type": "code",
   "execution_count": null,
   "metadata": {
    "scrolled": false
   },
   "outputs": [],
   "source": [
    "plot_pacf(reserv['Chembarambakkam'], lags = 24)\n",
    "plt.xlabel(\"Lag\")\n",
    "plt.ylabel(\"Partial Autocorrelation with $lag = 0$\");"
   ]
  },
  {
   "cell_type": "markdown",
   "metadata": {},
   "source": [
    "Each of the values above represent an autocorrelation coefficient for each of the lags:\n",
    "$$ACF_1 = \\text{corr}(Y_t, Y_{t-1})$$\n",
    "$$ACF_2 = \\text{corr}(Y_t, Y_{t-2})$$\n",
    "$$ACF_3 = \\text{corr}(Y_t, Y_{t-3})$$\n",
    "$$\\dots$$\n",
    "$$ACF_k = \\text{corr}(Y_t, Y_{t-k})$$"
   ]
  },
  {
   "cell_type": "markdown",
   "metadata": {},
   "source": [
    "### How does the ACF and PACF tell us the $p$ and $q$?\n",
    "\n",
    "By looking at these function graphs, we can elucidate the AR and MA components directly (difficult) or use them to better inform grid searching (easier).\n",
    "\n",
    "Determining each component is often difficult to do, as the decision \"rules\" are built on theoretical value and real data rarely follow these theoretical guidelines. __You can try your hand at the bottom [Challenge: Determining $p$ and $q$ the old-fashioned way](#Challenge:-Determining-$p$-and-$q$-the-old-fashioned-way)__\n",
    "\n",
    "Common alternatives include:\n",
    "- using `auto_arima`, which is a pre-made SARIMAX function for gridsearching both ARIMA and SARIMAX orders\n",
    "- using a custom grid search function\n",
    "- In general, the values for $p$ and $q$ are typically low values - between 0 and 2, but can be more.\n",
    "- _We can still use some intuition from the ACF and PACF to guild our process - this takes time and experience working with time-series data_"
   ]
  },
  {
   "cell_type": "code",
   "execution_count": 92,
   "metadata": {},
   "outputs": [],
   "source": [
    "df[\"time\"] = range(len(df))"
   ]
  },
  {
   "cell_type": "markdown",
   "metadata": {},
   "source": [
    "##### when you have a lot of zero values in p"
   ]
  },
  {
   "cell_type": "code",
   "execution_count": 93,
   "metadata": {},
   "outputs": [],
   "source": [
    "def multi_lag_appender(df, column, lags, inplace = False):\n",
    "    '''Appends the appropriate lag from the list of given lags to the give dataframe'''\n",
    "    # copying datafame unless inplace = True\n",
    "    df = df if inplace else df.copy()\n",
    "    for lag in lags:\n",
    "        df[f\"{column}_{lag}\"] = df[column].shift(lag)\n",
    "    \n",
    "    return None if inplace else df"
   ]
  },
  {
   "cell_type": "code",
   "execution_count": 94,
   "metadata": {
    "scrolled": true
   },
   "outputs": [
    {
     "data": {
      "text/html": [
       "<div>\n",
       "<style scoped>\n",
       "    .dataframe tbody tr th:only-of-type {\n",
       "        vertical-align: middle;\n",
       "    }\n",
       "\n",
       "    .dataframe tbody tr th {\n",
       "        vertical-align: top;\n",
       "    }\n",
       "\n",
       "    .dataframe thead th {\n",
       "        text-align: right;\n",
       "    }\n",
       "</style>\n",
       "<table border=\"1\" class=\"dataframe\">\n",
       "  <thead>\n",
       "    <tr style=\"text-align: right;\">\n",
       "      <th></th>\n",
       "      <th>Poondi_water_level</th>\n",
       "      <th>Poondi_rain</th>\n",
       "      <th>Cholavaram_water_level</th>\n",
       "      <th>Cholavaram_rain</th>\n",
       "      <th>Redhills_water_level</th>\n",
       "      <th>Redhills_rain</th>\n",
       "      <th>Chembarambakkam_water_level</th>\n",
       "      <th>Chembarambakkam_rain</th>\n",
       "      <th>time</th>\n",
       "      <th>Chembarambakkam_water_level_1</th>\n",
       "      <th>Chembarambakkam_water_level_2</th>\n",
       "      <th>Chembarambakkam_water_level_3</th>\n",
       "      <th>Chembarambakkam_water_level_4</th>\n",
       "      <th>Chembarambakkam_water_level_8</th>\n",
       "      <th>Chembarambakkam_water_level_9</th>\n",
       "      <th>Chembarambakkam_water_level_10</th>\n",
       "      <th>Chembarambakkam_water_level_11</th>\n",
       "      <th>Chembarambakkam_water_level_12</th>\n",
       "      <th>Chembarambakkam_water_level_13</th>\n",
       "    </tr>\n",
       "    <tr>\n",
       "      <th>Date</th>\n",
       "      <th></th>\n",
       "      <th></th>\n",
       "      <th></th>\n",
       "      <th></th>\n",
       "      <th></th>\n",
       "      <th></th>\n",
       "      <th></th>\n",
       "      <th></th>\n",
       "      <th></th>\n",
       "      <th></th>\n",
       "      <th></th>\n",
       "      <th></th>\n",
       "      <th></th>\n",
       "      <th></th>\n",
       "      <th></th>\n",
       "      <th></th>\n",
       "      <th></th>\n",
       "      <th></th>\n",
       "      <th></th>\n",
       "    </tr>\n",
       "  </thead>\n",
       "  <tbody>\n",
       "    <tr>\n",
       "      <th>2004-01-01</th>\n",
       "      <td>3.9</td>\n",
       "      <td>0.0</td>\n",
       "      <td>0.0</td>\n",
       "      <td>0.0</td>\n",
       "      <td>268.0</td>\n",
       "      <td>0.0</td>\n",
       "      <td>0.0</td>\n",
       "      <td>0.0</td>\n",
       "      <td>0</td>\n",
       "      <td>NaN</td>\n",
       "      <td>NaN</td>\n",
       "      <td>NaN</td>\n",
       "      <td>NaN</td>\n",
       "      <td>NaN</td>\n",
       "      <td>NaN</td>\n",
       "      <td>NaN</td>\n",
       "      <td>NaN</td>\n",
       "      <td>NaN</td>\n",
       "      <td>NaN</td>\n",
       "    </tr>\n",
       "    <tr>\n",
       "      <th>2004-01-02</th>\n",
       "      <td>3.9</td>\n",
       "      <td>0.0</td>\n",
       "      <td>0.0</td>\n",
       "      <td>0.0</td>\n",
       "      <td>268.0</td>\n",
       "      <td>0.0</td>\n",
       "      <td>0.0</td>\n",
       "      <td>0.0</td>\n",
       "      <td>1</td>\n",
       "      <td>0.0</td>\n",
       "      <td>NaN</td>\n",
       "      <td>NaN</td>\n",
       "      <td>NaN</td>\n",
       "      <td>NaN</td>\n",
       "      <td>NaN</td>\n",
       "      <td>NaN</td>\n",
       "      <td>NaN</td>\n",
       "      <td>NaN</td>\n",
       "      <td>NaN</td>\n",
       "    </tr>\n",
       "    <tr>\n",
       "      <th>2004-01-03</th>\n",
       "      <td>3.9</td>\n",
       "      <td>0.0</td>\n",
       "      <td>0.0</td>\n",
       "      <td>0.0</td>\n",
       "      <td>267.0</td>\n",
       "      <td>0.0</td>\n",
       "      <td>0.0</td>\n",
       "      <td>0.0</td>\n",
       "      <td>2</td>\n",
       "      <td>0.0</td>\n",
       "      <td>0.0</td>\n",
       "      <td>NaN</td>\n",
       "      <td>NaN</td>\n",
       "      <td>NaN</td>\n",
       "      <td>NaN</td>\n",
       "      <td>NaN</td>\n",
       "      <td>NaN</td>\n",
       "      <td>NaN</td>\n",
       "      <td>NaN</td>\n",
       "    </tr>\n",
       "    <tr>\n",
       "      <th>2004-01-04</th>\n",
       "      <td>3.9</td>\n",
       "      <td>0.0</td>\n",
       "      <td>0.0</td>\n",
       "      <td>0.0</td>\n",
       "      <td>267.0</td>\n",
       "      <td>0.0</td>\n",
       "      <td>0.0</td>\n",
       "      <td>0.0</td>\n",
       "      <td>3</td>\n",
       "      <td>0.0</td>\n",
       "      <td>0.0</td>\n",
       "      <td>0.0</td>\n",
       "      <td>NaN</td>\n",
       "      <td>NaN</td>\n",
       "      <td>NaN</td>\n",
       "      <td>NaN</td>\n",
       "      <td>NaN</td>\n",
       "      <td>NaN</td>\n",
       "      <td>NaN</td>\n",
       "    </tr>\n",
       "    <tr>\n",
       "      <th>2004-01-05</th>\n",
       "      <td>3.8</td>\n",
       "      <td>0.0</td>\n",
       "      <td>0.0</td>\n",
       "      <td>0.0</td>\n",
       "      <td>267.0</td>\n",
       "      <td>0.0</td>\n",
       "      <td>0.0</td>\n",
       "      <td>0.0</td>\n",
       "      <td>4</td>\n",
       "      <td>0.0</td>\n",
       "      <td>0.0</td>\n",
       "      <td>0.0</td>\n",
       "      <td>0.0</td>\n",
       "      <td>NaN</td>\n",
       "      <td>NaN</td>\n",
       "      <td>NaN</td>\n",
       "      <td>NaN</td>\n",
       "      <td>NaN</td>\n",
       "      <td>NaN</td>\n",
       "    </tr>\n",
       "    <tr>\n",
       "      <th>2004-01-06</th>\n",
       "      <td>3.8</td>\n",
       "      <td>0.0</td>\n",
       "      <td>0.0</td>\n",
       "      <td>0.0</td>\n",
       "      <td>266.0</td>\n",
       "      <td>0.0</td>\n",
       "      <td>0.0</td>\n",
       "      <td>0.0</td>\n",
       "      <td>5</td>\n",
       "      <td>0.0</td>\n",
       "      <td>0.0</td>\n",
       "      <td>0.0</td>\n",
       "      <td>0.0</td>\n",
       "      <td>NaN</td>\n",
       "      <td>NaN</td>\n",
       "      <td>NaN</td>\n",
       "      <td>NaN</td>\n",
       "      <td>NaN</td>\n",
       "      <td>NaN</td>\n",
       "    </tr>\n",
       "    <tr>\n",
       "      <th>2004-01-07</th>\n",
       "      <td>3.8</td>\n",
       "      <td>0.0</td>\n",
       "      <td>0.0</td>\n",
       "      <td>0.0</td>\n",
       "      <td>266.0</td>\n",
       "      <td>0.0</td>\n",
       "      <td>0.0</td>\n",
       "      <td>0.0</td>\n",
       "      <td>6</td>\n",
       "      <td>0.0</td>\n",
       "      <td>0.0</td>\n",
       "      <td>0.0</td>\n",
       "      <td>0.0</td>\n",
       "      <td>NaN</td>\n",
       "      <td>NaN</td>\n",
       "      <td>NaN</td>\n",
       "      <td>NaN</td>\n",
       "      <td>NaN</td>\n",
       "      <td>NaN</td>\n",
       "    </tr>\n",
       "    <tr>\n",
       "      <th>2004-01-08</th>\n",
       "      <td>3.7</td>\n",
       "      <td>0.0</td>\n",
       "      <td>0.0</td>\n",
       "      <td>0.0</td>\n",
       "      <td>265.0</td>\n",
       "      <td>0.0</td>\n",
       "      <td>0.0</td>\n",
       "      <td>0.0</td>\n",
       "      <td>7</td>\n",
       "      <td>0.0</td>\n",
       "      <td>0.0</td>\n",
       "      <td>0.0</td>\n",
       "      <td>0.0</td>\n",
       "      <td>NaN</td>\n",
       "      <td>NaN</td>\n",
       "      <td>NaN</td>\n",
       "      <td>NaN</td>\n",
       "      <td>NaN</td>\n",
       "      <td>NaN</td>\n",
       "    </tr>\n",
       "    <tr>\n",
       "      <th>2004-01-09</th>\n",
       "      <td>3.7</td>\n",
       "      <td>0.0</td>\n",
       "      <td>0.0</td>\n",
       "      <td>0.0</td>\n",
       "      <td>264.0</td>\n",
       "      <td>0.0</td>\n",
       "      <td>0.0</td>\n",
       "      <td>0.0</td>\n",
       "      <td>8</td>\n",
       "      <td>0.0</td>\n",
       "      <td>0.0</td>\n",
       "      <td>0.0</td>\n",
       "      <td>0.0</td>\n",
       "      <td>0.0</td>\n",
       "      <td>NaN</td>\n",
       "      <td>NaN</td>\n",
       "      <td>NaN</td>\n",
       "      <td>NaN</td>\n",
       "      <td>NaN</td>\n",
       "    </tr>\n",
       "    <tr>\n",
       "      <th>2004-01-10</th>\n",
       "      <td>3.7</td>\n",
       "      <td>0.0</td>\n",
       "      <td>0.0</td>\n",
       "      <td>0.0</td>\n",
       "      <td>264.0</td>\n",
       "      <td>0.0</td>\n",
       "      <td>0.0</td>\n",
       "      <td>0.0</td>\n",
       "      <td>9</td>\n",
       "      <td>0.0</td>\n",
       "      <td>0.0</td>\n",
       "      <td>0.0</td>\n",
       "      <td>0.0</td>\n",
       "      <td>0.0</td>\n",
       "      <td>0.0</td>\n",
       "      <td>NaN</td>\n",
       "      <td>NaN</td>\n",
       "      <td>NaN</td>\n",
       "      <td>NaN</td>\n",
       "    </tr>\n",
       "    <tr>\n",
       "      <th>2004-01-11</th>\n",
       "      <td>3.6</td>\n",
       "      <td>0.0</td>\n",
       "      <td>0.0</td>\n",
       "      <td>0.0</td>\n",
       "      <td>263.0</td>\n",
       "      <td>0.0</td>\n",
       "      <td>0.0</td>\n",
       "      <td>0.0</td>\n",
       "      <td>10</td>\n",
       "      <td>0.0</td>\n",
       "      <td>0.0</td>\n",
       "      <td>0.0</td>\n",
       "      <td>0.0</td>\n",
       "      <td>0.0</td>\n",
       "      <td>0.0</td>\n",
       "      <td>0.0</td>\n",
       "      <td>NaN</td>\n",
       "      <td>NaN</td>\n",
       "      <td>NaN</td>\n",
       "    </tr>\n",
       "    <tr>\n",
       "      <th>2004-01-12</th>\n",
       "      <td>3.6</td>\n",
       "      <td>0.0</td>\n",
       "      <td>0.0</td>\n",
       "      <td>0.0</td>\n",
       "      <td>262.0</td>\n",
       "      <td>0.0</td>\n",
       "      <td>0.0</td>\n",
       "      <td>0.0</td>\n",
       "      <td>11</td>\n",
       "      <td>0.0</td>\n",
       "      <td>0.0</td>\n",
       "      <td>0.0</td>\n",
       "      <td>0.0</td>\n",
       "      <td>0.0</td>\n",
       "      <td>0.0</td>\n",
       "      <td>0.0</td>\n",
       "      <td>0.0</td>\n",
       "      <td>NaN</td>\n",
       "      <td>NaN</td>\n",
       "    </tr>\n",
       "    <tr>\n",
       "      <th>2004-01-13</th>\n",
       "      <td>3.6</td>\n",
       "      <td>0.0</td>\n",
       "      <td>0.0</td>\n",
       "      <td>0.0</td>\n",
       "      <td>261.0</td>\n",
       "      <td>0.0</td>\n",
       "      <td>0.0</td>\n",
       "      <td>0.0</td>\n",
       "      <td>12</td>\n",
       "      <td>0.0</td>\n",
       "      <td>0.0</td>\n",
       "      <td>0.0</td>\n",
       "      <td>0.0</td>\n",
       "      <td>0.0</td>\n",
       "      <td>0.0</td>\n",
       "      <td>0.0</td>\n",
       "      <td>0.0</td>\n",
       "      <td>0.0</td>\n",
       "      <td>NaN</td>\n",
       "    </tr>\n",
       "    <tr>\n",
       "      <th>2004-01-14</th>\n",
       "      <td>3.5</td>\n",
       "      <td>0.0</td>\n",
       "      <td>0.0</td>\n",
       "      <td>0.0</td>\n",
       "      <td>260.0</td>\n",
       "      <td>0.0</td>\n",
       "      <td>0.0</td>\n",
       "      <td>0.0</td>\n",
       "      <td>13</td>\n",
       "      <td>0.0</td>\n",
       "      <td>0.0</td>\n",
       "      <td>0.0</td>\n",
       "      <td>0.0</td>\n",
       "      <td>0.0</td>\n",
       "      <td>0.0</td>\n",
       "      <td>0.0</td>\n",
       "      <td>0.0</td>\n",
       "      <td>0.0</td>\n",
       "      <td>0.0</td>\n",
       "    </tr>\n",
       "  </tbody>\n",
       "</table>\n",
       "</div>"
      ],
      "text/plain": [
       "            Poondi_water_level  Poondi_rain  Cholavaram_water_level  \\\n",
       "Date                                                                  \n",
       "2004-01-01                 3.9          0.0                     0.0   \n",
       "2004-01-02                 3.9          0.0                     0.0   \n",
       "2004-01-03                 3.9          0.0                     0.0   \n",
       "2004-01-04                 3.9          0.0                     0.0   \n",
       "2004-01-05                 3.8          0.0                     0.0   \n",
       "2004-01-06                 3.8          0.0                     0.0   \n",
       "2004-01-07                 3.8          0.0                     0.0   \n",
       "2004-01-08                 3.7          0.0                     0.0   \n",
       "2004-01-09                 3.7          0.0                     0.0   \n",
       "2004-01-10                 3.7          0.0                     0.0   \n",
       "2004-01-11                 3.6          0.0                     0.0   \n",
       "2004-01-12                 3.6          0.0                     0.0   \n",
       "2004-01-13                 3.6          0.0                     0.0   \n",
       "2004-01-14                 3.5          0.0                     0.0   \n",
       "\n",
       "            Cholavaram_rain  Redhills_water_level  Redhills_rain  \\\n",
       "Date                                                               \n",
       "2004-01-01              0.0                 268.0            0.0   \n",
       "2004-01-02              0.0                 268.0            0.0   \n",
       "2004-01-03              0.0                 267.0            0.0   \n",
       "2004-01-04              0.0                 267.0            0.0   \n",
       "2004-01-05              0.0                 267.0            0.0   \n",
       "2004-01-06              0.0                 266.0            0.0   \n",
       "2004-01-07              0.0                 266.0            0.0   \n",
       "2004-01-08              0.0                 265.0            0.0   \n",
       "2004-01-09              0.0                 264.0            0.0   \n",
       "2004-01-10              0.0                 264.0            0.0   \n",
       "2004-01-11              0.0                 263.0            0.0   \n",
       "2004-01-12              0.0                 262.0            0.0   \n",
       "2004-01-13              0.0                 261.0            0.0   \n",
       "2004-01-14              0.0                 260.0            0.0   \n",
       "\n",
       "            Chembarambakkam_water_level  Chembarambakkam_rain  time  \\\n",
       "Date                                                                  \n",
       "2004-01-01                          0.0                   0.0     0   \n",
       "2004-01-02                          0.0                   0.0     1   \n",
       "2004-01-03                          0.0                   0.0     2   \n",
       "2004-01-04                          0.0                   0.0     3   \n",
       "2004-01-05                          0.0                   0.0     4   \n",
       "2004-01-06                          0.0                   0.0     5   \n",
       "2004-01-07                          0.0                   0.0     6   \n",
       "2004-01-08                          0.0                   0.0     7   \n",
       "2004-01-09                          0.0                   0.0     8   \n",
       "2004-01-10                          0.0                   0.0     9   \n",
       "2004-01-11                          0.0                   0.0    10   \n",
       "2004-01-12                          0.0                   0.0    11   \n",
       "2004-01-13                          0.0                   0.0    12   \n",
       "2004-01-14                          0.0                   0.0    13   \n",
       "\n",
       "            Chembarambakkam_water_level_1  Chembarambakkam_water_level_2  \\\n",
       "Date                                                                       \n",
       "2004-01-01                            NaN                            NaN   \n",
       "2004-01-02                            0.0                            NaN   \n",
       "2004-01-03                            0.0                            0.0   \n",
       "2004-01-04                            0.0                            0.0   \n",
       "2004-01-05                            0.0                            0.0   \n",
       "2004-01-06                            0.0                            0.0   \n",
       "2004-01-07                            0.0                            0.0   \n",
       "2004-01-08                            0.0                            0.0   \n",
       "2004-01-09                            0.0                            0.0   \n",
       "2004-01-10                            0.0                            0.0   \n",
       "2004-01-11                            0.0                            0.0   \n",
       "2004-01-12                            0.0                            0.0   \n",
       "2004-01-13                            0.0                            0.0   \n",
       "2004-01-14                            0.0                            0.0   \n",
       "\n",
       "            Chembarambakkam_water_level_3  Chembarambakkam_water_level_4  \\\n",
       "Date                                                                       \n",
       "2004-01-01                            NaN                            NaN   \n",
       "2004-01-02                            NaN                            NaN   \n",
       "2004-01-03                            NaN                            NaN   \n",
       "2004-01-04                            0.0                            NaN   \n",
       "2004-01-05                            0.0                            0.0   \n",
       "2004-01-06                            0.0                            0.0   \n",
       "2004-01-07                            0.0                            0.0   \n",
       "2004-01-08                            0.0                            0.0   \n",
       "2004-01-09                            0.0                            0.0   \n",
       "2004-01-10                            0.0                            0.0   \n",
       "2004-01-11                            0.0                            0.0   \n",
       "2004-01-12                            0.0                            0.0   \n",
       "2004-01-13                            0.0                            0.0   \n",
       "2004-01-14                            0.0                            0.0   \n",
       "\n",
       "            Chembarambakkam_water_level_8  Chembarambakkam_water_level_9  \\\n",
       "Date                                                                       \n",
       "2004-01-01                            NaN                            NaN   \n",
       "2004-01-02                            NaN                            NaN   \n",
       "2004-01-03                            NaN                            NaN   \n",
       "2004-01-04                            NaN                            NaN   \n",
       "2004-01-05                            NaN                            NaN   \n",
       "2004-01-06                            NaN                            NaN   \n",
       "2004-01-07                            NaN                            NaN   \n",
       "2004-01-08                            NaN                            NaN   \n",
       "2004-01-09                            0.0                            NaN   \n",
       "2004-01-10                            0.0                            0.0   \n",
       "2004-01-11                            0.0                            0.0   \n",
       "2004-01-12                            0.0                            0.0   \n",
       "2004-01-13                            0.0                            0.0   \n",
       "2004-01-14                            0.0                            0.0   \n",
       "\n",
       "            Chembarambakkam_water_level_10  Chembarambakkam_water_level_11  \\\n",
       "Date                                                                         \n",
       "2004-01-01                             NaN                             NaN   \n",
       "2004-01-02                             NaN                             NaN   \n",
       "2004-01-03                             NaN                             NaN   \n",
       "2004-01-04                             NaN                             NaN   \n",
       "2004-01-05                             NaN                             NaN   \n",
       "2004-01-06                             NaN                             NaN   \n",
       "2004-01-07                             NaN                             NaN   \n",
       "2004-01-08                             NaN                             NaN   \n",
       "2004-01-09                             NaN                             NaN   \n",
       "2004-01-10                             NaN                             NaN   \n",
       "2004-01-11                             0.0                             NaN   \n",
       "2004-01-12                             0.0                             0.0   \n",
       "2004-01-13                             0.0                             0.0   \n",
       "2004-01-14                             0.0                             0.0   \n",
       "\n",
       "            Chembarambakkam_water_level_12  Chembarambakkam_water_level_13  \n",
       "Date                                                                        \n",
       "2004-01-01                             NaN                             NaN  \n",
       "2004-01-02                             NaN                             NaN  \n",
       "2004-01-03                             NaN                             NaN  \n",
       "2004-01-04                             NaN                             NaN  \n",
       "2004-01-05                             NaN                             NaN  \n",
       "2004-01-06                             NaN                             NaN  \n",
       "2004-01-07                             NaN                             NaN  \n",
       "2004-01-08                             NaN                             NaN  \n",
       "2004-01-09                             NaN                             NaN  \n",
       "2004-01-10                             NaN                             NaN  \n",
       "2004-01-11                             NaN                             NaN  \n",
       "2004-01-12                             NaN                             NaN  \n",
       "2004-01-13                             0.0                             NaN  \n",
       "2004-01-14                             0.0                             0.0  "
      ]
     },
     "execution_count": 94,
     "metadata": {},
     "output_type": "execute_result"
    }
   ],
   "source": [
    "desired_lags = [1, 2, 3, 4, 8, 9, 10, 11, 12, 13]\n",
    "reserv_with_lags = multi_lag_appender(df, \"Chembarambakkam_water_level\", desired_lags)\n",
    "reserv_with_lags.head(14)"
   ]
  },
  {
   "cell_type": "code",
   "execution_count": 95,
   "metadata": {},
   "outputs": [
    {
     "data": {
      "text/plain": [
       "(5836, 19)"
      ]
     },
     "execution_count": 95,
     "metadata": {},
     "output_type": "execute_result"
    }
   ],
   "source": [
    "reserv_with_lags.shape"
   ]
  },
  {
   "cell_type": "code",
   "execution_count": 96,
   "metadata": {},
   "outputs": [],
   "source": [
    "reserv_with_lags.dropna(inplace= True)"
   ]
  },
  {
   "cell_type": "code",
   "execution_count": 97,
   "metadata": {
    "scrolled": false
   },
   "outputs": [
    {
     "data": {
      "text/html": [
       "<div>\n",
       "<style scoped>\n",
       "    .dataframe tbody tr th:only-of-type {\n",
       "        vertical-align: middle;\n",
       "    }\n",
       "\n",
       "    .dataframe tbody tr th {\n",
       "        vertical-align: top;\n",
       "    }\n",
       "\n",
       "    .dataframe thead th {\n",
       "        text-align: right;\n",
       "    }\n",
       "</style>\n",
       "<table border=\"1\" class=\"dataframe\">\n",
       "  <thead>\n",
       "    <tr style=\"text-align: right;\">\n",
       "      <th></th>\n",
       "      <th>Poondi_water_level</th>\n",
       "      <th>Poondi_rain</th>\n",
       "      <th>Cholavaram_water_level</th>\n",
       "      <th>Cholavaram_rain</th>\n",
       "      <th>Redhills_water_level</th>\n",
       "      <th>Redhills_rain</th>\n",
       "      <th>Chembarambakkam_water_level</th>\n",
       "      <th>Chembarambakkam_rain</th>\n",
       "      <th>time</th>\n",
       "      <th>Chembarambakkam_water_level_1</th>\n",
       "      <th>Chembarambakkam_water_level_2</th>\n",
       "      <th>Chembarambakkam_water_level_3</th>\n",
       "      <th>Chembarambakkam_water_level_4</th>\n",
       "      <th>Chembarambakkam_water_level_8</th>\n",
       "      <th>Chembarambakkam_water_level_9</th>\n",
       "      <th>Chembarambakkam_water_level_10</th>\n",
       "      <th>Chembarambakkam_water_level_11</th>\n",
       "      <th>Chembarambakkam_water_level_12</th>\n",
       "      <th>Chembarambakkam_water_level_13</th>\n",
       "    </tr>\n",
       "    <tr>\n",
       "      <th>Date</th>\n",
       "      <th></th>\n",
       "      <th></th>\n",
       "      <th></th>\n",
       "      <th></th>\n",
       "      <th></th>\n",
       "      <th></th>\n",
       "      <th></th>\n",
       "      <th></th>\n",
       "      <th></th>\n",
       "      <th></th>\n",
       "      <th></th>\n",
       "      <th></th>\n",
       "      <th></th>\n",
       "      <th></th>\n",
       "      <th></th>\n",
       "      <th></th>\n",
       "      <th></th>\n",
       "      <th></th>\n",
       "      <th></th>\n",
       "    </tr>\n",
       "  </thead>\n",
       "  <tbody>\n",
       "    <tr>\n",
       "      <th>2004-01-14</th>\n",
       "      <td>3.5</td>\n",
       "      <td>0.0</td>\n",
       "      <td>0.0</td>\n",
       "      <td>0.0</td>\n",
       "      <td>260.0</td>\n",
       "      <td>0.0</td>\n",
       "      <td>0.0</td>\n",
       "      <td>0.0</td>\n",
       "      <td>13</td>\n",
       "      <td>0.0</td>\n",
       "      <td>0.0</td>\n",
       "      <td>0.0</td>\n",
       "      <td>0.0</td>\n",
       "      <td>0.0</td>\n",
       "      <td>0.0</td>\n",
       "      <td>0.0</td>\n",
       "      <td>0.0</td>\n",
       "      <td>0.0</td>\n",
       "      <td>0.0</td>\n",
       "    </tr>\n",
       "    <tr>\n",
       "      <th>2004-01-15</th>\n",
       "      <td>3.5</td>\n",
       "      <td>0.0</td>\n",
       "      <td>0.0</td>\n",
       "      <td>0.0</td>\n",
       "      <td>259.0</td>\n",
       "      <td>0.0</td>\n",
       "      <td>0.0</td>\n",
       "      <td>0.0</td>\n",
       "      <td>14</td>\n",
       "      <td>0.0</td>\n",
       "      <td>0.0</td>\n",
       "      <td>0.0</td>\n",
       "      <td>0.0</td>\n",
       "      <td>0.0</td>\n",
       "      <td>0.0</td>\n",
       "      <td>0.0</td>\n",
       "      <td>0.0</td>\n",
       "      <td>0.0</td>\n",
       "      <td>0.0</td>\n",
       "    </tr>\n",
       "    <tr>\n",
       "      <th>2004-01-16</th>\n",
       "      <td>3.4</td>\n",
       "      <td>0.0</td>\n",
       "      <td>0.0</td>\n",
       "      <td>0.0</td>\n",
       "      <td>258.0</td>\n",
       "      <td>0.0</td>\n",
       "      <td>0.0</td>\n",
       "      <td>0.0</td>\n",
       "      <td>15</td>\n",
       "      <td>0.0</td>\n",
       "      <td>0.0</td>\n",
       "      <td>0.0</td>\n",
       "      <td>0.0</td>\n",
       "      <td>0.0</td>\n",
       "      <td>0.0</td>\n",
       "      <td>0.0</td>\n",
       "      <td>0.0</td>\n",
       "      <td>0.0</td>\n",
       "      <td>0.0</td>\n",
       "    </tr>\n",
       "    <tr>\n",
       "      <th>2004-01-17</th>\n",
       "      <td>3.4</td>\n",
       "      <td>0.0</td>\n",
       "      <td>0.0</td>\n",
       "      <td>0.0</td>\n",
       "      <td>256.0</td>\n",
       "      <td>0.0</td>\n",
       "      <td>0.0</td>\n",
       "      <td>0.0</td>\n",
       "      <td>16</td>\n",
       "      <td>0.0</td>\n",
       "      <td>0.0</td>\n",
       "      <td>0.0</td>\n",
       "      <td>0.0</td>\n",
       "      <td>0.0</td>\n",
       "      <td>0.0</td>\n",
       "      <td>0.0</td>\n",
       "      <td>0.0</td>\n",
       "      <td>0.0</td>\n",
       "      <td>0.0</td>\n",
       "    </tr>\n",
       "    <tr>\n",
       "      <th>2004-01-18</th>\n",
       "      <td>3.4</td>\n",
       "      <td>0.0</td>\n",
       "      <td>0.0</td>\n",
       "      <td>0.0</td>\n",
       "      <td>254.0</td>\n",
       "      <td>0.0</td>\n",
       "      <td>0.0</td>\n",
       "      <td>0.0</td>\n",
       "      <td>17</td>\n",
       "      <td>0.0</td>\n",
       "      <td>0.0</td>\n",
       "      <td>0.0</td>\n",
       "      <td>0.0</td>\n",
       "      <td>0.0</td>\n",
       "      <td>0.0</td>\n",
       "      <td>0.0</td>\n",
       "      <td>0.0</td>\n",
       "      <td>0.0</td>\n",
       "      <td>0.0</td>\n",
       "    </tr>\n",
       "    <tr>\n",
       "      <th>...</th>\n",
       "      <td>...</td>\n",
       "      <td>...</td>\n",
       "      <td>...</td>\n",
       "      <td>...</td>\n",
       "      <td>...</td>\n",
       "      <td>...</td>\n",
       "      <td>...</td>\n",
       "      <td>...</td>\n",
       "      <td>...</td>\n",
       "      <td>...</td>\n",
       "      <td>...</td>\n",
       "      <td>...</td>\n",
       "      <td>...</td>\n",
       "      <td>...</td>\n",
       "      <td>...</td>\n",
       "      <td>...</td>\n",
       "      <td>...</td>\n",
       "      <td>...</td>\n",
       "      <td>...</td>\n",
       "    </tr>\n",
       "    <tr>\n",
       "      <th>2019-12-19</th>\n",
       "      <td>1535.0</td>\n",
       "      <td>0.0</td>\n",
       "      <td>139.0</td>\n",
       "      <td>0.0</td>\n",
       "      <td>2318.0</td>\n",
       "      <td>0.0</td>\n",
       "      <td>1397.0</td>\n",
       "      <td>0.0</td>\n",
       "      <td>5831</td>\n",
       "      <td>1359.0</td>\n",
       "      <td>1320.0</td>\n",
       "      <td>1298.0</td>\n",
       "      <td>1277.0</td>\n",
       "      <td>1205.0</td>\n",
       "      <td>1190.0</td>\n",
       "      <td>1178.0</td>\n",
       "      <td>1166.0</td>\n",
       "      <td>1154.0</td>\n",
       "      <td>1142.0</td>\n",
       "    </tr>\n",
       "    <tr>\n",
       "      <th>2019-12-20</th>\n",
       "      <td>1529.0</td>\n",
       "      <td>0.0</td>\n",
       "      <td>131.0</td>\n",
       "      <td>0.0</td>\n",
       "      <td>2335.0</td>\n",
       "      <td>0.0</td>\n",
       "      <td>1435.0</td>\n",
       "      <td>0.0</td>\n",
       "      <td>5832</td>\n",
       "      <td>1397.0</td>\n",
       "      <td>1359.0</td>\n",
       "      <td>1320.0</td>\n",
       "      <td>1298.0</td>\n",
       "      <td>1220.0</td>\n",
       "      <td>1205.0</td>\n",
       "      <td>1190.0</td>\n",
       "      <td>1178.0</td>\n",
       "      <td>1166.0</td>\n",
       "      <td>1154.0</td>\n",
       "    </tr>\n",
       "    <tr>\n",
       "      <th>2019-12-21</th>\n",
       "      <td>1522.0</td>\n",
       "      <td>0.0</td>\n",
       "      <td>123.0</td>\n",
       "      <td>0.0</td>\n",
       "      <td>2351.0</td>\n",
       "      <td>0.0</td>\n",
       "      <td>1473.0</td>\n",
       "      <td>0.0</td>\n",
       "      <td>5833</td>\n",
       "      <td>1435.0</td>\n",
       "      <td>1397.0</td>\n",
       "      <td>1359.0</td>\n",
       "      <td>1320.0</td>\n",
       "      <td>1235.0</td>\n",
       "      <td>1220.0</td>\n",
       "      <td>1205.0</td>\n",
       "      <td>1190.0</td>\n",
       "      <td>1178.0</td>\n",
       "      <td>1166.0</td>\n",
       "    </tr>\n",
       "    <tr>\n",
       "      <th>2019-12-22</th>\n",
       "      <td>1514.0</td>\n",
       "      <td>0.0</td>\n",
       "      <td>115.0</td>\n",
       "      <td>0.0</td>\n",
       "      <td>2369.0</td>\n",
       "      <td>0.0</td>\n",
       "      <td>1510.0</td>\n",
       "      <td>0.0</td>\n",
       "      <td>5834</td>\n",
       "      <td>1473.0</td>\n",
       "      <td>1435.0</td>\n",
       "      <td>1397.0</td>\n",
       "      <td>1359.0</td>\n",
       "      <td>1256.0</td>\n",
       "      <td>1235.0</td>\n",
       "      <td>1220.0</td>\n",
       "      <td>1205.0</td>\n",
       "      <td>1190.0</td>\n",
       "      <td>1178.0</td>\n",
       "    </tr>\n",
       "    <tr>\n",
       "      <th>2019-12-23</th>\n",
       "      <td>1497.0</td>\n",
       "      <td>0.0</td>\n",
       "      <td>108.0</td>\n",
       "      <td>0.0</td>\n",
       "      <td>2382.0</td>\n",
       "      <td>0.0</td>\n",
       "      <td>1548.0</td>\n",
       "      <td>0.0</td>\n",
       "      <td>5835</td>\n",
       "      <td>1510.0</td>\n",
       "      <td>1473.0</td>\n",
       "      <td>1435.0</td>\n",
       "      <td>1397.0</td>\n",
       "      <td>1277.0</td>\n",
       "      <td>1256.0</td>\n",
       "      <td>1235.0</td>\n",
       "      <td>1220.0</td>\n",
       "      <td>1205.0</td>\n",
       "      <td>1190.0</td>\n",
       "    </tr>\n",
       "  </tbody>\n",
       "</table>\n",
       "<p>5823 rows × 19 columns</p>\n",
       "</div>"
      ],
      "text/plain": [
       "            Poondi_water_level  Poondi_rain  Cholavaram_water_level  \\\n",
       "Date                                                                  \n",
       "2004-01-14                 3.5          0.0                     0.0   \n",
       "2004-01-15                 3.5          0.0                     0.0   \n",
       "2004-01-16                 3.4          0.0                     0.0   \n",
       "2004-01-17                 3.4          0.0                     0.0   \n",
       "2004-01-18                 3.4          0.0                     0.0   \n",
       "...                        ...          ...                     ...   \n",
       "2019-12-19              1535.0          0.0                   139.0   \n",
       "2019-12-20              1529.0          0.0                   131.0   \n",
       "2019-12-21              1522.0          0.0                   123.0   \n",
       "2019-12-22              1514.0          0.0                   115.0   \n",
       "2019-12-23              1497.0          0.0                   108.0   \n",
       "\n",
       "            Cholavaram_rain  Redhills_water_level  Redhills_rain  \\\n",
       "Date                                                               \n",
       "2004-01-14              0.0                 260.0            0.0   \n",
       "2004-01-15              0.0                 259.0            0.0   \n",
       "2004-01-16              0.0                 258.0            0.0   \n",
       "2004-01-17              0.0                 256.0            0.0   \n",
       "2004-01-18              0.0                 254.0            0.0   \n",
       "...                     ...                   ...            ...   \n",
       "2019-12-19              0.0                2318.0            0.0   \n",
       "2019-12-20              0.0                2335.0            0.0   \n",
       "2019-12-21              0.0                2351.0            0.0   \n",
       "2019-12-22              0.0                2369.0            0.0   \n",
       "2019-12-23              0.0                2382.0            0.0   \n",
       "\n",
       "            Chembarambakkam_water_level  Chembarambakkam_rain  time  \\\n",
       "Date                                                                  \n",
       "2004-01-14                          0.0                   0.0    13   \n",
       "2004-01-15                          0.0                   0.0    14   \n",
       "2004-01-16                          0.0                   0.0    15   \n",
       "2004-01-17                          0.0                   0.0    16   \n",
       "2004-01-18                          0.0                   0.0    17   \n",
       "...                                 ...                   ...   ...   \n",
       "2019-12-19                       1397.0                   0.0  5831   \n",
       "2019-12-20                       1435.0                   0.0  5832   \n",
       "2019-12-21                       1473.0                   0.0  5833   \n",
       "2019-12-22                       1510.0                   0.0  5834   \n",
       "2019-12-23                       1548.0                   0.0  5835   \n",
       "\n",
       "            Chembarambakkam_water_level_1  Chembarambakkam_water_level_2  \\\n",
       "Date                                                                       \n",
       "2004-01-14                            0.0                            0.0   \n",
       "2004-01-15                            0.0                            0.0   \n",
       "2004-01-16                            0.0                            0.0   \n",
       "2004-01-17                            0.0                            0.0   \n",
       "2004-01-18                            0.0                            0.0   \n",
       "...                                   ...                            ...   \n",
       "2019-12-19                         1359.0                         1320.0   \n",
       "2019-12-20                         1397.0                         1359.0   \n",
       "2019-12-21                         1435.0                         1397.0   \n",
       "2019-12-22                         1473.0                         1435.0   \n",
       "2019-12-23                         1510.0                         1473.0   \n",
       "\n",
       "            Chembarambakkam_water_level_3  Chembarambakkam_water_level_4  \\\n",
       "Date                                                                       \n",
       "2004-01-14                            0.0                            0.0   \n",
       "2004-01-15                            0.0                            0.0   \n",
       "2004-01-16                            0.0                            0.0   \n",
       "2004-01-17                            0.0                            0.0   \n",
       "2004-01-18                            0.0                            0.0   \n",
       "...                                   ...                            ...   \n",
       "2019-12-19                         1298.0                         1277.0   \n",
       "2019-12-20                         1320.0                         1298.0   \n",
       "2019-12-21                         1359.0                         1320.0   \n",
       "2019-12-22                         1397.0                         1359.0   \n",
       "2019-12-23                         1435.0                         1397.0   \n",
       "\n",
       "            Chembarambakkam_water_level_8  Chembarambakkam_water_level_9  \\\n",
       "Date                                                                       \n",
       "2004-01-14                            0.0                            0.0   \n",
       "2004-01-15                            0.0                            0.0   \n",
       "2004-01-16                            0.0                            0.0   \n",
       "2004-01-17                            0.0                            0.0   \n",
       "2004-01-18                            0.0                            0.0   \n",
       "...                                   ...                            ...   \n",
       "2019-12-19                         1205.0                         1190.0   \n",
       "2019-12-20                         1220.0                         1205.0   \n",
       "2019-12-21                         1235.0                         1220.0   \n",
       "2019-12-22                         1256.0                         1235.0   \n",
       "2019-12-23                         1277.0                         1256.0   \n",
       "\n",
       "            Chembarambakkam_water_level_10  Chembarambakkam_water_level_11  \\\n",
       "Date                                                                         \n",
       "2004-01-14                             0.0                             0.0   \n",
       "2004-01-15                             0.0                             0.0   \n",
       "2004-01-16                             0.0                             0.0   \n",
       "2004-01-17                             0.0                             0.0   \n",
       "2004-01-18                             0.0                             0.0   \n",
       "...                                    ...                             ...   \n",
       "2019-12-19                          1178.0                          1166.0   \n",
       "2019-12-20                          1190.0                          1178.0   \n",
       "2019-12-21                          1205.0                          1190.0   \n",
       "2019-12-22                          1220.0                          1205.0   \n",
       "2019-12-23                          1235.0                          1220.0   \n",
       "\n",
       "            Chembarambakkam_water_level_12  Chembarambakkam_water_level_13  \n",
       "Date                                                                        \n",
       "2004-01-14                             0.0                             0.0  \n",
       "2004-01-15                             0.0                             0.0  \n",
       "2004-01-16                             0.0                             0.0  \n",
       "2004-01-17                             0.0                             0.0  \n",
       "2004-01-18                             0.0                             0.0  \n",
       "...                                    ...                             ...  \n",
       "2019-12-19                          1154.0                          1142.0  \n",
       "2019-12-20                          1166.0                          1154.0  \n",
       "2019-12-21                          1178.0                          1166.0  \n",
       "2019-12-22                          1190.0                          1178.0  \n",
       "2019-12-23                          1205.0                          1190.0  \n",
       "\n",
       "[5823 rows x 19 columns]"
      ]
     },
     "execution_count": 97,
     "metadata": {},
     "output_type": "execute_result"
    }
   ],
   "source": [
    "reserv_with_lags"
   ]
  },
  {
   "cell_type": "markdown",
   "metadata": {},
   "source": [
    "## Determining $p$ and $q$ - A Deep Dive\n",
    "\n",
    "- This is annother important step in preparing data to be used in an ARIMA model!\n",
    "- The \"AR\" in ARIMA stands for \"Autoregressive\"\n",
    "    - Is denoted as $p$ in the model's order\n",
    "- The \"MA\" in ARIMA stands for \"Moving Average\"\n",
    "    - Is denoted as $q$ in the model's order\n",
    "- Both components are asking...\n",
    "\n",
    "#### How correlated is $y$ with its past selves?\n",
    "\n",
    "We have two measures of this: *Autocorrelation* and *Partial Autocorrelation*."
   ]
  },
  {
   "cell_type": "markdown",
   "metadata": {},
   "source": [
    "## Model Preparation"
   ]
  },
  {
   "cell_type": "code",
   "execution_count": 112,
   "metadata": {},
   "outputs": [
    {
     "data": {
      "text/plain": [
       "['Poondi_water_level',\n",
       " 'Cholavaram_water_level',\n",
       " 'Redhills_water_level',\n",
       " 'Chembarambakkam_water_level',\n",
       " 'Poondi_rain',\n",
       " 'Cholavaram_rain',\n",
       " 'Redhills_rain',\n",
       " 'Chembarambakkam_rain']"
      ]
     },
     "execution_count": 112,
     "metadata": {},
     "output_type": "execute_result"
    }
   ],
   "source": [
    "cols"
   ]
  },
  {
   "cell_type": "code",
   "execution_count": 99,
   "metadata": {},
   "outputs": [],
   "source": [
    "X = reserv_with_lags.drop(columns=cols[1:])\n",
    "y = reserv_with_lags[\"Chembarambakkam_water_level\"]\n",
    "\n",
    "# must NOT shuffle for time series\n",
    "X_train, X_test, y_train, y_test = train_test_split(X, y, test_size = .26, shuffle = False)"
   ]
  },
  {
   "cell_type": "code",
   "execution_count": 100,
   "metadata": {},
   "outputs": [
    {
     "data": {
      "text/plain": [
       "Date\n",
       "2004-01-14       0.0\n",
       "2004-01-15       0.0\n",
       "2004-01-16       0.0\n",
       "2004-01-17       0.0\n",
       "2004-01-18       0.0\n",
       "               ...  \n",
       "2019-12-19    1397.0\n",
       "2019-12-20    1435.0\n",
       "2019-12-21    1473.0\n",
       "2019-12-22    1510.0\n",
       "2019-12-23    1548.0\n",
       "Name: Chembarambakkam_water_level, Length: 5823, dtype: float64"
      ]
     },
     "execution_count": 100,
     "metadata": {},
     "output_type": "execute_result"
    }
   ],
   "source": [
    "y"
   ]
  },
  {
   "cell_type": "code",
   "execution_count": 101,
   "metadata": {},
   "outputs": [
    {
     "data": {
      "text/html": [
       "<div>\n",
       "<style scoped>\n",
       "    .dataframe tbody tr th:only-of-type {\n",
       "        vertical-align: middle;\n",
       "    }\n",
       "\n",
       "    .dataframe tbody tr th {\n",
       "        vertical-align: top;\n",
       "    }\n",
       "\n",
       "    .dataframe thead th {\n",
       "        text-align: right;\n",
       "    }\n",
       "</style>\n",
       "<table border=\"1\" class=\"dataframe\">\n",
       "  <thead>\n",
       "    <tr style=\"text-align: right;\">\n",
       "      <th></th>\n",
       "      <th>time</th>\n",
       "      <th>Chembarambakkam_water_level_1</th>\n",
       "      <th>Chembarambakkam_water_level_2</th>\n",
       "      <th>Chembarambakkam_water_level_3</th>\n",
       "      <th>Chembarambakkam_water_level_4</th>\n",
       "      <th>Chembarambakkam_water_level_8</th>\n",
       "      <th>Chembarambakkam_water_level_9</th>\n",
       "      <th>Chembarambakkam_water_level_10</th>\n",
       "      <th>Chembarambakkam_water_level_11</th>\n",
       "      <th>Chembarambakkam_water_level_12</th>\n",
       "      <th>Chembarambakkam_water_level_13</th>\n",
       "    </tr>\n",
       "    <tr>\n",
       "      <th>Date</th>\n",
       "      <th></th>\n",
       "      <th></th>\n",
       "      <th></th>\n",
       "      <th></th>\n",
       "      <th></th>\n",
       "      <th></th>\n",
       "      <th></th>\n",
       "      <th></th>\n",
       "      <th></th>\n",
       "      <th></th>\n",
       "      <th></th>\n",
       "    </tr>\n",
       "  </thead>\n",
       "  <tbody>\n",
       "    <tr>\n",
       "      <th>2004-01-14</th>\n",
       "      <td>13</td>\n",
       "      <td>0.0</td>\n",
       "      <td>0.0</td>\n",
       "      <td>0.0</td>\n",
       "      <td>0.0</td>\n",
       "      <td>0.0</td>\n",
       "      <td>0.0</td>\n",
       "      <td>0.0</td>\n",
       "      <td>0.0</td>\n",
       "      <td>0.0</td>\n",
       "      <td>0.0</td>\n",
       "    </tr>\n",
       "    <tr>\n",
       "      <th>2004-01-15</th>\n",
       "      <td>14</td>\n",
       "      <td>0.0</td>\n",
       "      <td>0.0</td>\n",
       "      <td>0.0</td>\n",
       "      <td>0.0</td>\n",
       "      <td>0.0</td>\n",
       "      <td>0.0</td>\n",
       "      <td>0.0</td>\n",
       "      <td>0.0</td>\n",
       "      <td>0.0</td>\n",
       "      <td>0.0</td>\n",
       "    </tr>\n",
       "    <tr>\n",
       "      <th>2004-01-16</th>\n",
       "      <td>15</td>\n",
       "      <td>0.0</td>\n",
       "      <td>0.0</td>\n",
       "      <td>0.0</td>\n",
       "      <td>0.0</td>\n",
       "      <td>0.0</td>\n",
       "      <td>0.0</td>\n",
       "      <td>0.0</td>\n",
       "      <td>0.0</td>\n",
       "      <td>0.0</td>\n",
       "      <td>0.0</td>\n",
       "    </tr>\n",
       "    <tr>\n",
       "      <th>2004-01-17</th>\n",
       "      <td>16</td>\n",
       "      <td>0.0</td>\n",
       "      <td>0.0</td>\n",
       "      <td>0.0</td>\n",
       "      <td>0.0</td>\n",
       "      <td>0.0</td>\n",
       "      <td>0.0</td>\n",
       "      <td>0.0</td>\n",
       "      <td>0.0</td>\n",
       "      <td>0.0</td>\n",
       "      <td>0.0</td>\n",
       "    </tr>\n",
       "    <tr>\n",
       "      <th>2004-01-18</th>\n",
       "      <td>17</td>\n",
       "      <td>0.0</td>\n",
       "      <td>0.0</td>\n",
       "      <td>0.0</td>\n",
       "      <td>0.0</td>\n",
       "      <td>0.0</td>\n",
       "      <td>0.0</td>\n",
       "      <td>0.0</td>\n",
       "      <td>0.0</td>\n",
       "      <td>0.0</td>\n",
       "      <td>0.0</td>\n",
       "    </tr>\n",
       "    <tr>\n",
       "      <th>...</th>\n",
       "      <td>...</td>\n",
       "      <td>...</td>\n",
       "      <td>...</td>\n",
       "      <td>...</td>\n",
       "      <td>...</td>\n",
       "      <td>...</td>\n",
       "      <td>...</td>\n",
       "      <td>...</td>\n",
       "      <td>...</td>\n",
       "      <td>...</td>\n",
       "      <td>...</td>\n",
       "    </tr>\n",
       "    <tr>\n",
       "      <th>2019-12-19</th>\n",
       "      <td>5831</td>\n",
       "      <td>1359.0</td>\n",
       "      <td>1320.0</td>\n",
       "      <td>1298.0</td>\n",
       "      <td>1277.0</td>\n",
       "      <td>1205.0</td>\n",
       "      <td>1190.0</td>\n",
       "      <td>1178.0</td>\n",
       "      <td>1166.0</td>\n",
       "      <td>1154.0</td>\n",
       "      <td>1142.0</td>\n",
       "    </tr>\n",
       "    <tr>\n",
       "      <th>2019-12-20</th>\n",
       "      <td>5832</td>\n",
       "      <td>1397.0</td>\n",
       "      <td>1359.0</td>\n",
       "      <td>1320.0</td>\n",
       "      <td>1298.0</td>\n",
       "      <td>1220.0</td>\n",
       "      <td>1205.0</td>\n",
       "      <td>1190.0</td>\n",
       "      <td>1178.0</td>\n",
       "      <td>1166.0</td>\n",
       "      <td>1154.0</td>\n",
       "    </tr>\n",
       "    <tr>\n",
       "      <th>2019-12-21</th>\n",
       "      <td>5833</td>\n",
       "      <td>1435.0</td>\n",
       "      <td>1397.0</td>\n",
       "      <td>1359.0</td>\n",
       "      <td>1320.0</td>\n",
       "      <td>1235.0</td>\n",
       "      <td>1220.0</td>\n",
       "      <td>1205.0</td>\n",
       "      <td>1190.0</td>\n",
       "      <td>1178.0</td>\n",
       "      <td>1166.0</td>\n",
       "    </tr>\n",
       "    <tr>\n",
       "      <th>2019-12-22</th>\n",
       "      <td>5834</td>\n",
       "      <td>1473.0</td>\n",
       "      <td>1435.0</td>\n",
       "      <td>1397.0</td>\n",
       "      <td>1359.0</td>\n",
       "      <td>1256.0</td>\n",
       "      <td>1235.0</td>\n",
       "      <td>1220.0</td>\n",
       "      <td>1205.0</td>\n",
       "      <td>1190.0</td>\n",
       "      <td>1178.0</td>\n",
       "    </tr>\n",
       "    <tr>\n",
       "      <th>2019-12-23</th>\n",
       "      <td>5835</td>\n",
       "      <td>1510.0</td>\n",
       "      <td>1473.0</td>\n",
       "      <td>1435.0</td>\n",
       "      <td>1397.0</td>\n",
       "      <td>1277.0</td>\n",
       "      <td>1256.0</td>\n",
       "      <td>1235.0</td>\n",
       "      <td>1220.0</td>\n",
       "      <td>1205.0</td>\n",
       "      <td>1190.0</td>\n",
       "    </tr>\n",
       "  </tbody>\n",
       "</table>\n",
       "<p>5823 rows × 11 columns</p>\n",
       "</div>"
      ],
      "text/plain": [
       "            time  Chembarambakkam_water_level_1  \\\n",
       "Date                                              \n",
       "2004-01-14    13                            0.0   \n",
       "2004-01-15    14                            0.0   \n",
       "2004-01-16    15                            0.0   \n",
       "2004-01-17    16                            0.0   \n",
       "2004-01-18    17                            0.0   \n",
       "...          ...                            ...   \n",
       "2019-12-19  5831                         1359.0   \n",
       "2019-12-20  5832                         1397.0   \n",
       "2019-12-21  5833                         1435.0   \n",
       "2019-12-22  5834                         1473.0   \n",
       "2019-12-23  5835                         1510.0   \n",
       "\n",
       "            Chembarambakkam_water_level_2  Chembarambakkam_water_level_3  \\\n",
       "Date                                                                       \n",
       "2004-01-14                            0.0                            0.0   \n",
       "2004-01-15                            0.0                            0.0   \n",
       "2004-01-16                            0.0                            0.0   \n",
       "2004-01-17                            0.0                            0.0   \n",
       "2004-01-18                            0.0                            0.0   \n",
       "...                                   ...                            ...   \n",
       "2019-12-19                         1320.0                         1298.0   \n",
       "2019-12-20                         1359.0                         1320.0   \n",
       "2019-12-21                         1397.0                         1359.0   \n",
       "2019-12-22                         1435.0                         1397.0   \n",
       "2019-12-23                         1473.0                         1435.0   \n",
       "\n",
       "            Chembarambakkam_water_level_4  Chembarambakkam_water_level_8  \\\n",
       "Date                                                                       \n",
       "2004-01-14                            0.0                            0.0   \n",
       "2004-01-15                            0.0                            0.0   \n",
       "2004-01-16                            0.0                            0.0   \n",
       "2004-01-17                            0.0                            0.0   \n",
       "2004-01-18                            0.0                            0.0   \n",
       "...                                   ...                            ...   \n",
       "2019-12-19                         1277.0                         1205.0   \n",
       "2019-12-20                         1298.0                         1220.0   \n",
       "2019-12-21                         1320.0                         1235.0   \n",
       "2019-12-22                         1359.0                         1256.0   \n",
       "2019-12-23                         1397.0                         1277.0   \n",
       "\n",
       "            Chembarambakkam_water_level_9  Chembarambakkam_water_level_10  \\\n",
       "Date                                                                        \n",
       "2004-01-14                            0.0                             0.0   \n",
       "2004-01-15                            0.0                             0.0   \n",
       "2004-01-16                            0.0                             0.0   \n",
       "2004-01-17                            0.0                             0.0   \n",
       "2004-01-18                            0.0                             0.0   \n",
       "...                                   ...                             ...   \n",
       "2019-12-19                         1190.0                          1178.0   \n",
       "2019-12-20                         1205.0                          1190.0   \n",
       "2019-12-21                         1220.0                          1205.0   \n",
       "2019-12-22                         1235.0                          1220.0   \n",
       "2019-12-23                         1256.0                          1235.0   \n",
       "\n",
       "            Chembarambakkam_water_level_11  Chembarambakkam_water_level_12  \\\n",
       "Date                                                                         \n",
       "2004-01-14                             0.0                             0.0   \n",
       "2004-01-15                             0.0                             0.0   \n",
       "2004-01-16                             0.0                             0.0   \n",
       "2004-01-17                             0.0                             0.0   \n",
       "2004-01-18                             0.0                             0.0   \n",
       "...                                    ...                             ...   \n",
       "2019-12-19                          1166.0                          1154.0   \n",
       "2019-12-20                          1178.0                          1166.0   \n",
       "2019-12-21                          1190.0                          1178.0   \n",
       "2019-12-22                          1205.0                          1190.0   \n",
       "2019-12-23                          1220.0                          1205.0   \n",
       "\n",
       "            Chembarambakkam_water_level_13  \n",
       "Date                                        \n",
       "2004-01-14                             0.0  \n",
       "2004-01-15                             0.0  \n",
       "2004-01-16                             0.0  \n",
       "2004-01-17                             0.0  \n",
       "2004-01-18                             0.0  \n",
       "...                                    ...  \n",
       "2019-12-19                          1142.0  \n",
       "2019-12-20                          1154.0  \n",
       "2019-12-21                          1166.0  \n",
       "2019-12-22                          1178.0  \n",
       "2019-12-23                          1190.0  \n",
       "\n",
       "[5823 rows x 11 columns]"
      ]
     },
     "execution_count": 101,
     "metadata": {},
     "output_type": "execute_result"
    }
   ],
   "source": [
    "X"
   ]
  },
  {
   "cell_type": "markdown",
   "metadata": {},
   "source": [
    "---"
   ]
  },
  {
   "cell_type": "markdown",
   "metadata": {},
   "source": [
    "## Modeling"
   ]
  },
  {
   "cell_type": "markdown",
   "metadata": {},
   "source": [
    "### Baseline"
   ]
  },
  {
   "cell_type": "code",
   "execution_count": 102,
   "metadata": {},
   "outputs": [],
   "source": [
    "dumb = DummyRegressor(strategy='mean')"
   ]
  },
  {
   "cell_type": "code",
   "execution_count": 103,
   "metadata": {},
   "outputs": [
    {
     "data": {
      "text/plain": [
       "1430.850812253423"
      ]
     },
     "execution_count": 103,
     "metadata": {},
     "output_type": "execute_result"
    }
   ],
   "source": [
    "y_train.mean()"
   ]
  },
  {
   "cell_type": "code",
   "execution_count": 104,
   "metadata": {},
   "outputs": [
    {
     "data": {
      "text/plain": [
       "DummyRegressor(constant=None, quantile=None, strategy='mean')"
      ]
     },
     "execution_count": 104,
     "metadata": {},
     "output_type": "execute_result"
    }
   ],
   "source": [
    "dumb.fit(X_train, y_train)"
   ]
  },
  {
   "cell_type": "code",
   "execution_count": 105,
   "metadata": {},
   "outputs": [
    {
     "data": {
      "text/plain": [
       "array([1430.85081225, 1430.85081225, 1430.85081225, ..., 1430.85081225,\n",
       "       1430.85081225, 1430.85081225])"
      ]
     },
     "execution_count": 105,
     "metadata": {},
     "output_type": "execute_result"
    }
   ],
   "source": [
    "dumb.predict(X)\n"
   ]
  },
  {
   "cell_type": "code",
   "execution_count": 106,
   "metadata": {
    "scrolled": true
   },
   "outputs": [
    {
     "data": {
      "text/plain": [
       "0.0"
      ]
     },
     "execution_count": 106,
     "metadata": {},
     "output_type": "execute_result"
    }
   ],
   "source": [
    "dumb.score(X_train, y_train)"
   ]
  },
  {
   "cell_type": "code",
   "execution_count": 107,
   "metadata": {
    "scrolled": false
   },
   "outputs": [
    {
     "data": {
      "text/plain": [
       "-0.33521409583375195"
      ]
     },
     "execution_count": 107,
     "metadata": {},
     "output_type": "execute_result"
    }
   ],
   "source": [
    "dumb.score(X_test, y_test)"
   ]
  },
  {
   "cell_type": "markdown",
   "metadata": {},
   "source": [
    "---"
   ]
  },
  {
   "cell_type": "markdown",
   "metadata": {},
   "source": [
    "### Linear Regression"
   ]
  },
  {
   "cell_type": "code",
   "execution_count": 108,
   "metadata": {},
   "outputs": [
    {
     "data": {
      "text/plain": [
       "LinearRegression(copy_X=True, fit_intercept=True, n_jobs=None, normalize=False)"
      ]
     },
     "execution_count": 108,
     "metadata": {},
     "output_type": "execute_result"
    }
   ],
   "source": [
    "# instantiate\n",
    "lr = LinearRegression()\n",
    "\n",
    "# fit (original model fitted)\n",
    "lr.fit(X_train, y_train)"
   ]
  },
  {
   "cell_type": "code",
   "execution_count": 110,
   "metadata": {},
   "outputs": [
    {
     "data": {
      "text/plain": [
       "0.9917212930931044"
      ]
     },
     "execution_count": 110,
     "metadata": {},
     "output_type": "execute_result"
    }
   ],
   "source": [
    "lr.score(X_train, y_train)"
   ]
  },
  {
   "cell_type": "code",
   "execution_count": 111,
   "metadata": {},
   "outputs": [
    {
     "data": {
      "text/plain": [
       "0.9954689001551672"
      ]
     },
     "execution_count": 111,
     "metadata": {},
     "output_type": "execute_result"
    }
   ],
   "source": [
    "lr.score(X_test, y_test)"
   ]
  },
  {
   "cell_type": "code",
   "execution_count": 114,
   "metadata": {},
   "outputs": [],
   "source": [
    "X = reserv_with_lags.drop(columns=cols[1:])\n",
    "\n",
    "X = sm.add_constant(X) # MUST add constant for statsmodels\n",
    "\n",
    "y = reserv_with_lags[\"Chembarambakkam_water_level\"]\n",
    "\n",
    "# must NOT shuffle for time series\n",
    "X_train, X_test, y_train, y_test = train_test_split(X, y, test_size = .2, shuffle = False)"
   ]
  },
  {
   "cell_type": "code",
   "execution_count": 115,
   "metadata": {},
   "outputs": [],
   "source": [
    "# instantiate\n",
    "ols = sm.OLS(y_train, X_train) # notice y goes first!\n",
    "\n",
    "# fit\n",
    "fitted_ols = ols.fit() # returned model is fitted, not the original!"
   ]
  },
  {
   "cell_type": "code",
   "execution_count": 116,
   "metadata": {
    "scrolled": true
   },
   "outputs": [
    {
     "data": {
      "text/html": [
       "<table class=\"simpletable\">\n",
       "<caption>OLS Regression Results</caption>\n",
       "<tr>\n",
       "  <th>Dep. Variable:</th>    <td>Chembarambakkam_water_level</td> <th>  R-squared:         </th> <td>   0.992</td> \n",
       "</tr>\n",
       "<tr>\n",
       "  <th>Model:</th>                        <td>OLS</td>             <th>  Adj. R-squared:    </th> <td>   0.992</td> \n",
       "</tr>\n",
       "<tr>\n",
       "  <th>Method:</th>                  <td>Least Squares</td>        <th>  F-statistic:       </th> <td>5.185e+04</td>\n",
       "</tr>\n",
       "<tr>\n",
       "  <th>Date:</th>                  <td>Tue, 01 Sep 2020</td>       <th>  Prob (F-statistic):</th>  <td>  0.00</td>  \n",
       "</tr>\n",
       "<tr>\n",
       "  <th>Time:</th>                      <td>23:39:08</td>           <th>  Log-Likelihood:    </th> <td> -27281.</td> \n",
       "</tr>\n",
       "<tr>\n",
       "  <th>No. Observations:</th>           <td>  4658</td>            <th>  AIC:               </th> <td>5.459e+04</td>\n",
       "</tr>\n",
       "<tr>\n",
       "  <th>Df Residuals:</th>               <td>  4646</td>            <th>  BIC:               </th> <td>5.466e+04</td>\n",
       "</tr>\n",
       "<tr>\n",
       "  <th>Df Model:</th>                   <td>    11</td>            <th>                     </th>     <td> </td>    \n",
       "</tr>\n",
       "<tr>\n",
       "  <th>Covariance Type:</th>           <td>nonrobust</td>          <th>                     </th>     <td> </td>    \n",
       "</tr>\n",
       "</table>\n",
       "<table class=\"simpletable\">\n",
       "<tr>\n",
       "                 <td></td>                   <th>coef</th>     <th>std err</th>      <th>t</th>      <th>P>|t|</th>  <th>[0.025</th>    <th>0.975]</th>  \n",
       "</tr>\n",
       "<tr>\n",
       "  <th>const</th>                          <td>    7.0227</td> <td>    3.036</td> <td>    2.313</td> <td> 0.021</td> <td>    1.070</td> <td>   12.975</td>\n",
       "</tr>\n",
       "<tr>\n",
       "  <th>time</th>                           <td>   -0.0003</td> <td>    0.001</td> <td>   -0.304</td> <td> 0.762</td> <td>   -0.002</td> <td>    0.002</td>\n",
       "</tr>\n",
       "<tr>\n",
       "  <th>Chembarambakkam_water_level_1</th>  <td>    0.7015</td> <td>    0.015</td> <td>   47.976</td> <td> 0.000</td> <td>    0.673</td> <td>    0.730</td>\n",
       "</tr>\n",
       "<tr>\n",
       "  <th>Chembarambakkam_water_level_2</th>  <td>    0.2393</td> <td>    0.018</td> <td>   13.379</td> <td> 0.000</td> <td>    0.204</td> <td>    0.274</td>\n",
       "</tr>\n",
       "<tr>\n",
       "  <th>Chembarambakkam_water_level_3</th>  <td>    0.0091</td> <td>    0.018</td> <td>    0.503</td> <td> 0.615</td> <td>   -0.026</td> <td>    0.044</td>\n",
       "</tr>\n",
       "<tr>\n",
       "  <th>Chembarambakkam_water_level_4</th>  <td>    0.0896</td> <td>    0.016</td> <td>    5.546</td> <td> 0.000</td> <td>    0.058</td> <td>    0.121</td>\n",
       "</tr>\n",
       "<tr>\n",
       "  <th>Chembarambakkam_water_level_8</th>  <td>    0.0082</td> <td>    0.016</td> <td>    0.504</td> <td> 0.614</td> <td>   -0.024</td> <td>    0.040</td>\n",
       "</tr>\n",
       "<tr>\n",
       "  <th>Chembarambakkam_water_level_9</th>  <td>   -0.0009</td> <td>    0.018</td> <td>   -0.048</td> <td> 0.962</td> <td>   -0.036</td> <td>    0.035</td>\n",
       "</tr>\n",
       "<tr>\n",
       "  <th>Chembarambakkam_water_level_10</th> <td>   -0.0028</td> <td>    0.018</td> <td>   -0.152</td> <td> 0.879</td> <td>   -0.039</td> <td>    0.033</td>\n",
       "</tr>\n",
       "<tr>\n",
       "  <th>Chembarambakkam_water_level_11</th> <td>   -0.0092</td> <td>    0.018</td> <td>   -0.506</td> <td> 0.613</td> <td>   -0.045</td> <td>    0.026</td>\n",
       "</tr>\n",
       "<tr>\n",
       "  <th>Chembarambakkam_water_level_12</th> <td>   -0.0058</td> <td>    0.018</td> <td>   -0.325</td> <td> 0.746</td> <td>   -0.041</td> <td>    0.029</td>\n",
       "</tr>\n",
       "<tr>\n",
       "  <th>Chembarambakkam_water_level_13</th> <td>   -0.0331</td> <td>    0.015</td> <td>   -2.255</td> <td> 0.024</td> <td>   -0.062</td> <td>   -0.004</td>\n",
       "</tr>\n",
       "</table>\n",
       "<table class=\"simpletable\">\n",
       "<tr>\n",
       "  <th>Omnibus:</th>       <td>6645.340</td> <th>  Durbin-Watson:     </th>   <td>   2.008</td>  \n",
       "</tr>\n",
       "<tr>\n",
       "  <th>Prob(Omnibus):</th>  <td> 0.000</td>  <th>  Jarque-Bera (JB):  </th> <td>37934638.922</td>\n",
       "</tr>\n",
       "<tr>\n",
       "  <th>Skew:</th>           <td> 7.282</td>  <th>  Prob(JB):          </th>   <td>    0.00</td>  \n",
       "</tr>\n",
       "<tr>\n",
       "  <th>Kurtosis:</th>       <td>444.863</td> <th>  Cond. No.          </th>   <td>1.46e+04</td>  \n",
       "</tr>\n",
       "</table><br/><br/>Warnings:<br/>[1] Standard Errors assume that the covariance matrix of the errors is correctly specified.<br/>[2] The condition number is large, 1.46e+04. This might indicate that there are<br/>strong multicollinearity or other numerical problems."
      ],
      "text/plain": [
       "<class 'statsmodels.iolib.summary.Summary'>\n",
       "\"\"\"\n",
       "                                 OLS Regression Results                                \n",
       "=======================================================================================\n",
       "Dep. Variable:     Chembarambakkam_water_level   R-squared:                       0.992\n",
       "Model:                                     OLS   Adj. R-squared:                  0.992\n",
       "Method:                          Least Squares   F-statistic:                 5.185e+04\n",
       "Date:                         Tue, 01 Sep 2020   Prob (F-statistic):               0.00\n",
       "Time:                                 23:39:08   Log-Likelihood:                -27281.\n",
       "No. Observations:                         4658   AIC:                         5.459e+04\n",
       "Df Residuals:                             4646   BIC:                         5.466e+04\n",
       "Df Model:                                   11                                         \n",
       "Covariance Type:                     nonrobust                                         \n",
       "==================================================================================================\n",
       "                                     coef    std err          t      P>|t|      [0.025      0.975]\n",
       "--------------------------------------------------------------------------------------------------\n",
       "const                              7.0227      3.036      2.313      0.021       1.070      12.975\n",
       "time                              -0.0003      0.001     -0.304      0.762      -0.002       0.002\n",
       "Chembarambakkam_water_level_1      0.7015      0.015     47.976      0.000       0.673       0.730\n",
       "Chembarambakkam_water_level_2      0.2393      0.018     13.379      0.000       0.204       0.274\n",
       "Chembarambakkam_water_level_3      0.0091      0.018      0.503      0.615      -0.026       0.044\n",
       "Chembarambakkam_water_level_4      0.0896      0.016      5.546      0.000       0.058       0.121\n",
       "Chembarambakkam_water_level_8      0.0082      0.016      0.504      0.614      -0.024       0.040\n",
       "Chembarambakkam_water_level_9     -0.0009      0.018     -0.048      0.962      -0.036       0.035\n",
       "Chembarambakkam_water_level_10    -0.0028      0.018     -0.152      0.879      -0.039       0.033\n",
       "Chembarambakkam_water_level_11    -0.0092      0.018     -0.506      0.613      -0.045       0.026\n",
       "Chembarambakkam_water_level_12    -0.0058      0.018     -0.325      0.746      -0.041       0.029\n",
       "Chembarambakkam_water_level_13    -0.0331      0.015     -2.255      0.024      -0.062      -0.004\n",
       "==============================================================================\n",
       "Omnibus:                     6645.340   Durbin-Watson:                   2.008\n",
       "Prob(Omnibus):                  0.000   Jarque-Bera (JB):         37934638.922\n",
       "Skew:                           7.282   Prob(JB):                         0.00\n",
       "Kurtosis:                     444.863   Cond. No.                     1.46e+04\n",
       "==============================================================================\n",
       "\n",
       "Warnings:\n",
       "[1] Standard Errors assume that the covariance matrix of the errors is correctly specified.\n",
       "[2] The condition number is large, 1.46e+04. This might indicate that there are\n",
       "strong multicollinearity or other numerical problems.\n",
       "\"\"\""
      ]
     },
     "execution_count": 116,
     "metadata": {},
     "output_type": "execute_result"
    }
   ],
   "source": [
    "fitted_ols.summary()"
   ]
  },
  {
   "cell_type": "code",
   "execution_count": 117,
   "metadata": {},
   "outputs": [
    {
     "data": {
      "text/plain": [
       "0.9919203727152522"
      ]
     },
     "execution_count": 117,
     "metadata": {},
     "output_type": "execute_result"
    }
   ],
   "source": [
    "y_train_preds = fitted_ols.predict(X_train)\n",
    "r2_score(y_train, y_train_preds)"
   ]
  },
  {
   "cell_type": "code",
   "execution_count": 118,
   "metadata": {},
   "outputs": [
    {
     "data": {
      "text/plain": [
       "0.9907998834085031"
      ]
     },
     "execution_count": 118,
     "metadata": {},
     "output_type": "execute_result"
    }
   ],
   "source": [
    "y_test_preds = fitted_ols.predict(X_test)\n",
    "r2_score(y_test, y_test_preds)"
   ]
  },
  {
   "cell_type": "code",
   "execution_count": 119,
   "metadata": {},
   "outputs": [
    {
     "data": {
      "image/png": "[encoded data removed]",
      "text/plain": [
       "<Figure size 864x432 with 1 Axes>"
      ]
     },
     "metadata": {},
     "output_type": "display_data"
    }
   ],
   "source": [
    "# Get forecasts for testing set\n",
    "preds = fitted_ols.predict(X_test)\n",
    "\n",
    "plt.figure(figsize=(12,6))\n",
    "plt.title(\"Water levels\")\n",
    "\n",
    "# Plot time series predictions against actual values for ENTIRE dataset\n",
    "y_train.plot(style=\"b\")\n",
    "y_test.plot(style=\"g\")\n",
    "preds.plot(style=\"r--\") # red with dash\n",
    "plt.xlabel(\"Year\")\n",
    "plt.ylabel(\"Chembarambakkam\")\n",
    "plt.legend(labels = [\"Training Dataset\", \"Testing Dataset\", \"Predictions\"]);"
   ]
  },
  {
   "cell_type": "code",
   "execution_count": 120,
   "metadata": {
    "scrolled": true
   },
   "outputs": [
    {
     "data": {
      "image/png": "[encoded data removed]",
      "text/plain": [
       "<Figure size 432x288 with 1 Axes>"
      ]
     },
     "metadata": {},
     "output_type": "display_data"
    }
   ],
   "source": [
    "y_test.plot(style='g') \n",
    "preds.plot(style='r--')\n",
    "plt.xlabel(\"Year\")\n",
    "plt.ylabel(\"Chembarambakkam\")\n",
    "plt.title(\"Water levels\");"
   ]
  },
  {
   "cell_type": "markdown",
   "metadata": {},
   "source": [
    "### ARIMA"
   ]
  },
  {
   "cell_type": "code",
   "execution_count": 121,
   "metadata": {},
   "outputs": [
    {
     "name": "stdout",
     "output_type": "stream",
     "text": [
      "Performing stepwise search to minimize aic\n",
      " ARIMA(0,2,0)(0,0,0)[0] intercept   : AIC=59362.984, Time=0.14 sec\n",
      " ARIMA(1,2,0)(0,0,0)[0] intercept   : AIC=57045.177, Time=0.20 sec\n",
      " ARIMA(0,2,1)(0,0,0)[0] intercept   : AIC=inf, Time=2.15 sec\n",
      " ARIMA(0,2,0)(0,0,0)[0]             : AIC=59360.984, Time=0.05 sec\n",
      " ARIMA(2,2,0)(0,0,0)[0] intercept   : AIC=56339.560, Time=0.32 sec\n",
      " ARIMA(2,2,1)(0,0,0)[0] intercept   : AIC=inf, Time=1.96 sec\n",
      " ARIMA(1,2,1)(0,0,0)[0] intercept   : AIC=inf, Time=2.57 sec\n",
      " ARIMA(2,2,0)(0,0,0)[0]             : AIC=56337.560, Time=0.12 sec\n",
      " ARIMA(1,2,0)(0,0,0)[0]             : AIC=57043.177, Time=0.08 sec\n",
      " ARIMA(2,2,1)(0,0,0)[0]             : AIC=inf, Time=1.77 sec\n",
      " ARIMA(1,2,1)(0,0,0)[0]             : AIC=inf, Time=1.12 sec\n",
      "\n",
      "Best model:  ARIMA(2,2,0)(0,0,0)[0]          \n",
      "Total fit time: 10.480 seconds\n"
     ]
    }
   ],
   "source": [
    "fitted_arima = auto_arima(\n",
    "    y_train, # data\n",
    "    start_p = 0,\n",
    "    start_q = 0,\n",
    "    max_p = 2,\n",
    "    max_q = 2,\n",
    "    d = 2, # we know how much to difference, so don't need to waste time searching for this\n",
    "    stationary = False, # being explicit our original dataset is not stationary\n",
    "    seasonal=False, # ignoring seasonality (for this lesson...)\n",
    "    solver='lbfgs', # might change, depending on data\n",
    "    trace=True,\n",
    "    error_action='ignore',  # don't want to know if an order does not work\n",
    "    suppress_warnings=True  # don't want convergence warnings\n",
    ")"
   ]
  },
  {
   "cell_type": "code",
   "execution_count": 122,
   "metadata": {},
   "outputs": [
    {
     "data": {
      "text/html": [
       "<table class=\"simpletable\">\n",
       "<caption>SARIMAX Results</caption>\n",
       "<tr>\n",
       "  <th>Dep. Variable:</th>           <td>y</td>        <th>  No. Observations:  </th>    <td>4658</td>   \n",
       "</tr>\n",
       "<tr>\n",
       "  <th>Model:</th>           <td>SARIMAX(2, 2, 0)</td> <th>  Log Likelihood     </th> <td>-28165.780</td>\n",
       "</tr>\n",
       "<tr>\n",
       "  <th>Date:</th>            <td>Tue, 01 Sep 2020</td> <th>  AIC                </th>  <td>56337.560</td>\n",
       "</tr>\n",
       "<tr>\n",
       "  <th>Time:</th>                <td>23:39:53</td>     <th>  BIC                </th>  <td>56356.898</td>\n",
       "</tr>\n",
       "<tr>\n",
       "  <th>Sample:</th>                  <td>0</td>        <th>  HQIC               </th>  <td>56344.362</td>\n",
       "</tr>\n",
       "<tr>\n",
       "  <th></th>                      <td> - 4658</td>     <th>                     </th>      <td> </td>    \n",
       "</tr>\n",
       "<tr>\n",
       "  <th>Covariance Type:</th>        <td>opg</td>       <th>                     </th>      <td> </td>    \n",
       "</tr>\n",
       "</table>\n",
       "<table class=\"simpletable\">\n",
       "<tr>\n",
       "     <td></td>       <th>coef</th>     <th>std err</th>      <th>z</th>      <th>P>|z|</th>  <th>[0.025</th>    <th>0.975]</th>  \n",
       "</tr>\n",
       "<tr>\n",
       "  <th>ar.L1</th>  <td>   -0.8616</td> <td>    0.001</td> <td> -772.277</td> <td> 0.000</td> <td>   -0.864</td> <td>   -0.859</td>\n",
       "</tr>\n",
       "<tr>\n",
       "  <th>ar.L2</th>  <td>   -0.3754</td> <td>    0.002</td> <td> -240.725</td> <td> 0.000</td> <td>   -0.378</td> <td>   -0.372</td>\n",
       "</tr>\n",
       "<tr>\n",
       "  <th>sigma2</th> <td> 1.052e+04</td> <td>   16.988</td> <td>  619.284</td> <td> 0.000</td> <td> 1.05e+04</td> <td> 1.06e+04</td>\n",
       "</tr>\n",
       "</table>\n",
       "<table class=\"simpletable\">\n",
       "<tr>\n",
       "  <th>Ljung-Box (Q):</th>          <td>673.85</td> <th>  Jarque-Bera (JB):  </th> <td>41000528.40</td>\n",
       "</tr>\n",
       "<tr>\n",
       "  <th>Prob(Q):</th>                 <td>0.00</td>  <th>  Prob(JB):          </th>    <td>0.00</td>    \n",
       "</tr>\n",
       "<tr>\n",
       "  <th>Heteroskedasticity (H):</th>  <td>0.48</td>  <th>  Skew:              </th>    <td>-4.56</td>   \n",
       "</tr>\n",
       "<tr>\n",
       "  <th>Prob(H) (two-sided):</th>     <td>0.00</td>  <th>  Kurtosis:          </th>   <td>462.63</td>   \n",
       "</tr>\n",
       "</table><br/><br/>Warnings:<br/>[1] Covariance matrix calculated using the outer product of gradients (complex-step)."
      ],
      "text/plain": [
       "<class 'statsmodels.iolib.summary.Summary'>\n",
       "\"\"\"\n",
       "                               SARIMAX Results                                \n",
       "==============================================================================\n",
       "Dep. Variable:                      y   No. Observations:                 4658\n",
       "Model:               SARIMAX(2, 2, 0)   Log Likelihood              -28165.780\n",
       "Date:                Tue, 01 Sep 2020   AIC                          56337.560\n",
       "Time:                        23:39:53   BIC                          56356.898\n",
       "Sample:                             0   HQIC                         56344.362\n",
       "                               - 4658                                         \n",
       "Covariance Type:                  opg                                         \n",
       "==============================================================================\n",
       "                 coef    std err          z      P>|z|      [0.025      0.975]\n",
       "------------------------------------------------------------------------------\n",
       "ar.L1         -0.8616      0.001   -772.277      0.000      -0.864      -0.859\n",
       "ar.L2         -0.3754      0.002   -240.725      0.000      -0.378      -0.372\n",
       "sigma2      1.052e+04     16.988    619.284      0.000    1.05e+04    1.06e+04\n",
       "===================================================================================\n",
       "Ljung-Box (Q):                      673.85   Jarque-Bera (JB):          41000528.40\n",
       "Prob(Q):                              0.00   Prob(JB):                         0.00\n",
       "Heteroskedasticity (H):               0.48   Skew:                            -4.56\n",
       "Prob(H) (two-sided):                  0.00   Kurtosis:                       462.63\n",
       "===================================================================================\n",
       "\n",
       "Warnings:\n",
       "[1] Covariance matrix calculated using the outer product of gradients (complex-step).\n",
       "\"\"\""
      ]
     },
     "execution_count": 122,
     "metadata": {},
     "output_type": "execute_result"
    }
   ],
   "source": [
    "fitted_arima.summary()"
   ]
  },
  {
   "cell_type": "markdown",
   "metadata": {},
   "source": [
    "Remember: ARIMA(p,d,q)  \n",
    "\n",
    "𝑝 = the number of autoregression lags  \n",
    "𝑑 = degree of differencing  \n",
    "𝑞 = the number of moving average lags  "
   ]
  },
  {
   "cell_type": "code",
   "execution_count": 123,
   "metadata": {},
   "outputs": [
    {
     "data": {
      "image/png": "[encoded data removed]",
      "text/plain": [
       "<Figure size 864x576 with 4 Axes>"
      ]
     },
     "metadata": {},
     "output_type": "display_data"
    }
   ],
   "source": [
    "fitted_arima.plot_diagnostics(figsize = (12, 8));"
   ]
  },
  {
   "cell_type": "code",
   "execution_count": 126,
   "metadata": {},
   "outputs": [
    {
     "name": "stderr",
     "output_type": "stream",
     "text": [
      "/Users/abrahamlewis/opt/anaconda3/lib/python3.7/site-packages/statsmodels/tsa/base/tsa_model.py:162: ValueWarning: No frequency information was provided, so inferred frequency D will be used.\n",
      "  % freq, ValueWarning)\n",
      "/Users/abrahamlewis/opt/anaconda3/lib/python3.7/site-packages/statsmodels/tsa/base/tsa_model.py:162: ValueWarning: No frequency information was provided, so inferred frequency D will be used.\n",
      "  % freq, ValueWarning)\n"
     ]
    }
   ],
   "source": [
    "order = (2,2,0) # the order I want to use\n",
    "\n",
    "# instantiate\n",
    "bus_arima = ARIMA(y_train, order = order) # freq is optional\n",
    "\n",
    "# fit\n",
    "fitted_bus_arima = bus_arima.fit() "
   ]
  },
  {
   "cell_type": "code",
   "execution_count": 127,
   "metadata": {},
   "outputs": [
    {
     "data": {
      "text/html": [
       "<table class=\"simpletable\">\n",
       "<caption>ARIMA Model Results</caption>\n",
       "<tr>\n",
       "  <th>Dep. Variable:</th> <td>D2.Chembarambakkam_water_level</td> <th>  No. Observations:  </th>    <td>4656</td>   \n",
       "</tr>\n",
       "<tr>\n",
       "  <th>Model:</th>                 <td>ARIMA(2, 2, 0)</td>         <th>  Log Likelihood     </th> <td>-28165.787</td>\n",
       "</tr>\n",
       "<tr>\n",
       "  <th>Method:</th>                    <td>css-mle</td>            <th>  S.D. of innovations</th>   <td>102.548</td> \n",
       "</tr>\n",
       "<tr>\n",
       "  <th>Date:</th>                 <td>Tue, 01 Sep 2020</td>        <th>  AIC                </th>  <td>56339.573</td>\n",
       "</tr>\n",
       "<tr>\n",
       "  <th>Time:</th>                     <td>23:42:20</td>            <th>  BIC                </th>  <td>56365.357</td>\n",
       "</tr>\n",
       "<tr>\n",
       "  <th>Sample:</th>                  <td>01-16-2004</td>           <th>  HQIC               </th>  <td>56348.643</td>\n",
       "</tr>\n",
       "<tr>\n",
       "  <th></th>                        <td>- 10-14-2016</td>          <th>                     </th>      <td> </td>    \n",
       "</tr>\n",
       "</table>\n",
       "<table class=\"simpletable\">\n",
       "<tr>\n",
       "                    <td></td>                      <th>coef</th>     <th>std err</th>      <th>z</th>      <th>P>|z|</th>  <th>[0.025</th>    <th>0.975]</th>  \n",
       "</tr>\n",
       "<tr>\n",
       "  <th>const</th>                                <td>   -0.0028</td> <td>    0.672</td> <td>   -0.004</td> <td> 0.997</td> <td>   -1.320</td> <td>    1.314</td>\n",
       "</tr>\n",
       "<tr>\n",
       "  <th>ar.L1.D2.Chembarambakkam_water_level</th> <td>   -0.8616</td> <td>    0.014</td> <td>  -63.441</td> <td> 0.000</td> <td>   -0.888</td> <td>   -0.835</td>\n",
       "</tr>\n",
       "<tr>\n",
       "  <th>ar.L2.D2.Chembarambakkam_water_level</th> <td>   -0.3754</td> <td>    0.014</td> <td>  -27.647</td> <td> 0.000</td> <td>   -0.402</td> <td>   -0.349</td>\n",
       "</tr>\n",
       "</table>\n",
       "<table class=\"simpletable\">\n",
       "<caption>Roots</caption>\n",
       "<tr>\n",
       "    <td></td>   <th>            Real</th>  <th>         Imaginary</th> <th>         Modulus</th>  <th>        Frequency</th>\n",
       "</tr>\n",
       "<tr>\n",
       "  <th>AR.1</th> <td>          -1.1475</td> <td>          -1.1606j</td> <td>           1.6321</td> <td>          -0.3741</td>\n",
       "</tr>\n",
       "<tr>\n",
       "  <th>AR.2</th> <td>          -1.1475</td> <td>          +1.1606j</td> <td>           1.6321</td> <td>           0.3741</td>\n",
       "</tr>\n",
       "</table>"
      ],
      "text/plain": [
       "<class 'statsmodels.iolib.summary.Summary'>\n",
       "\"\"\"\n",
       "                                   ARIMA Model Results                                    \n",
       "==========================================================================================\n",
       "Dep. Variable:     D2.Chembarambakkam_water_level   No. Observations:                 4656\n",
       "Model:                             ARIMA(2, 2, 0)   Log Likelihood              -28165.787\n",
       "Method:                                   css-mle   S.D. of innovations            102.548\n",
       "Date:                            Tue, 01 Sep 2020   AIC                          56339.573\n",
       "Time:                                    23:42:20   BIC                          56365.357\n",
       "Sample:                                01-16-2004   HQIC                         56348.643\n",
       "                                     - 10-14-2016                                         \n",
       "========================================================================================================\n",
       "                                           coef    std err          z      P>|z|      [0.025      0.975]\n",
       "--------------------------------------------------------------------------------------------------------\n",
       "const                                   -0.0028      0.672     -0.004      0.997      -1.320       1.314\n",
       "ar.L1.D2.Chembarambakkam_water_level    -0.8616      0.014    -63.441      0.000      -0.888      -0.835\n",
       "ar.L2.D2.Chembarambakkam_water_level    -0.3754      0.014    -27.647      0.000      -0.402      -0.349\n",
       "                                    Roots                                    \n",
       "=============================================================================\n",
       "                  Real          Imaginary           Modulus         Frequency\n",
       "-----------------------------------------------------------------------------\n",
       "AR.1           -1.1475           -1.1606j            1.6321           -0.3741\n",
       "AR.2           -1.1475           +1.1606j            1.6321            0.3741\n",
       "-----------------------------------------------------------------------------\n",
       "\"\"\""
      ]
     },
     "execution_count": 127,
     "metadata": {},
     "output_type": "execute_result"
    }
   ],
   "source": [
    "fitted_bus_arima.summary()"
   ]
  },
  {
   "cell_type": "markdown",
   "metadata": {},
   "source": [
    "#### Determining Stationarity"
   ]
  },
  {
   "cell_type": "code",
   "execution_count": 128,
   "metadata": {},
   "outputs": [],
   "source": [
    "num_steps = len(y_test)\n",
    "forecast, std_error, conf_int = fitted_bus_arima.forecast(steps = num_steps)"
   ]
  },
  {
   "cell_type": "code",
   "execution_count": 129,
   "metadata": {},
   "outputs": [
    {
     "data": {
      "image/png": "[encoded data removed]",
      "text/plain": [
       "<Figure size 864x360 with 1 Axes>"
      ]
     },
     "metadata": {},
     "output_type": "display_data"
    }
   ],
   "source": [
    "lower_conf_int = conf_int[:,0]\n",
    "upper_conf_int = conf_int[:,1]\n",
    "\n",
    "plt.figure(figsize=(12,5))\n",
    "plt.title(\"Average Bus Ridership by month\")\n",
    "\n",
    "# train data\n",
    "plt.plot(y_train.index, y_train, lw=1, color='green', ls='solid',label='Train Data')\n",
    "\n",
    "# test data\n",
    "plt.plot(y_test.index, y_test, lw=1, color='blue', ls='solid',label='Test Data')\n",
    "\n",
    "# forecast data\n",
    "plt.plot(y_test.index, forecast, lw=1, color='red', ls=\"solid\",  label='Out-of-sample predictions')\n",
    "plt.xlabel(\"Date\")\n",
    "plt.ylabel(\"Ridership (in thousands)\")\n",
    "\n",
    "# conf int\n",
    "plt.fill_between(y_test.index, lower_conf_int, upper_conf_int, color='k', alpha=0.1);\n",
    "plt.legend(loc = \"upper left\");"
   ]
  },
  {
   "cell_type": "markdown",
   "metadata": {},
   "source": [
    "Formally speaking, a stationary time series is one that\n",
    "\n",
    "has a mean and variance that are constant over time. It is easier to predict when the series is stationary (no trend).\n",
    "has an autocorrelation that depends only on lag 𝑘, but not on \"base\" time 𝑡 (target is independent from time)\n",
    "e.g. AR(1) is a stationary process because corr(𝑌𝑡,𝑌𝑡−𝑘)=𝛽𝑘1, which is a constant that depends on 𝑘 but not 𝑡\n",
    "The simple story: to check stationarity, we can...\n",
    "\n",
    "Visually look at the mean and variance: is it constant? If not, then our time series is not stationary (it should look like noise).\n",
    "Visually look at the autocorrelation: does the relationship between, for example, 𝑌1 and 𝑌11 look the same as the relationship between 𝑌51 and 𝑌61? If not, then our time series is not stationary.\n",
    "Apply Augmented Dickey-Fuller test."
   ]
  },
  {
   "cell_type": "code",
   "execution_count": null,
   "metadata": {},
   "outputs": [],
   "source": [
    "def interpret_dftest(target_column):\n",
    "    '''Returns the Test Statistic and p-value for Augmented Dickey-Fuller test on given target column'''\n",
    "    dftest = adfuller(target_column)\n",
    "    dfoutput = pd.Series(dftest[0:2], index=['Test Statistic','p-value'])\n",
    "    return dfoutput"
   ]
  },
  {
   "cell_type": "code",
   "execution_count": null,
   "metadata": {
    "scrolled": false
   },
   "outputs": [],
   "source": [
    "plt.plot(reserv['Chembarambakkam']);\n",
    "plt.title(label='Monthly Ridership (d = 0)', fontsize = 16)\n",
    "plt.xlabel(\"Year\")\n",
    "plt.ylabel(\"Ridership (in thousands)\");"
   ]
  },
  {
   "cell_type": "code",
   "execution_count": null,
   "metadata": {
    "scrolled": true
   },
   "outputs": [],
   "source": [
    "reserv.diff()"
   ]
  },
  {
   "cell_type": "code",
   "execution_count": null,
   "metadata": {},
   "outputs": [],
   "source": [
    "reserv.pct_change().head()"
   ]
  },
  {
   "cell_type": "code",
   "execution_count": null,
   "metadata": {},
   "outputs": [],
   "source": [
    "interpret_dftest(reserv['Chembarambakkam'])"
   ]
  },
  {
   "cell_type": "code",
   "execution_count": null,
   "metadata": {},
   "outputs": [],
   "source": []
  },
  {
   "cell_type": "markdown",
   "metadata": {},
   "source": [
    "## Conclusions and Recommendations"
   ]
  },
  {
   "cell_type": "markdown",
   "metadata": {},
   "source": [
    "calling to an email you sent fail claim if you go into do page weeks to be claimed will give you call back"
   ]
  },
  {
   "cell_type": "code",
   "execution_count": null,
   "metadata": {},
   "outputs": [],
   "source": []
  },
  {
   "cell_type": "code",
   "execution_count": null,
   "metadata": {},
   "outputs": [],
   "source": []
  },
  {
   "cell_type": "code",
   "execution_count": null,
   "metadata": {},
   "outputs": [],
   "source": []
  },
  {
   "cell_type": "markdown",
   "metadata": {},
   "source": [
    "## References"
   ]
  }
 ],
 "metadata": {
  "kernelspec": {
   "display_name": "Python 3",
   "language": "python",
   "name": "python3"
  },
  "language_info": {
   "codemirror_mode": {
    "name": "ipython",
    "version": 3
   },
   "file_extension": ".py",
   "mimetype": "text/x-python",
   "name": "python",
   "nbconvert_exporter": "python",
   "pygments_lexer": "ipython3",
   "version": "3.7.6"
  }
 },
 "nbformat": 4,
 "nbformat_minor": 4
}
