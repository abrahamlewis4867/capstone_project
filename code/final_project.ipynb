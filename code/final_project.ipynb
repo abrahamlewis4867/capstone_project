{
 "cells": [
  {
   "cell_type": "markdown",
   "metadata": {},
   "source": [
    "# Capstone : Forcasting Water Levels in Chennai India\n",
    "\n",
    "\n",
    "*By: Asher Lewis* [Github](https://github.com/abrahamlewis4867)"
   ]
  },
  {
   "cell_type": "markdown",
   "metadata": {},
   "source": [
    "<img src=\"../assets/D9HGx7FVUAEawA-.jpeg\" width=\"1400px\">"
   ]
  },
  {
   "cell_type": "markdown",
   "metadata": {},
   "source": [
    "## Problem Statement"
   ]
  },
  {
   "cell_type": "markdown",
   "metadata": {},
   "source": [
    "## Executive Summary\n"
   ]
  },
  {
   "cell_type": "code",
   "execution_count": null,
   "metadata": {},
   "outputs": [],
   "source": []
  },
  {
   "cell_type": "code",
   "execution_count": null,
   "metadata": {},
   "outputs": [],
   "source": []
  },
  {
   "cell_type": "markdown",
   "metadata": {},
   "source": [
    "---"
   ]
  },
  {
   "cell_type": "markdown",
   "metadata": {},
   "source": [
    "## Table of Contents\n",
    "\n",
    "\n",
    "1. [Data Dictionary](#Data-Dictionary)\n",
    "1. [Loading packages and data](#Loading-packages-and-data)\n",
    "1. [Data Cleaning](#Data-Cleaning)\n",
    "1. [EDA](#EDA)\n",
    "1. [Model Preparation](#Model-Preparation)\n",
    "1. [Modeling](#Modeling)\n",
    " - [Baseline](#Basline)\n",
    "1. [Model evaluation](#Model-evaluation)\n",
    "1. [Conclusions and Recommendations](#Conclusions-and-Recommendations)\n",
    "2. [References](#References)"
   ]
  },
  {
   "cell_type": "markdown",
   "metadata": {},
   "source": [
    "## Data Dictionary"
   ]
  },
  {
   "cell_type": "markdown",
   "metadata": {},
   "source": [
    "|Feature|Type|Dataset|Description|\n",
    "|---|---|---|---|\n",
    "|fire_id|object|fire.csv| Sequential unique whole numbers that are automatically generated and serve as an ID|\n",
    "|fire_name|object|fire.csv| Name of fire (UNNAMED if not identifiable from source fire occurrence databases)|\n",
    "|asmnt_type|object|fire.csv| Fire mapping assessment strategy (Initial (SS) (SS=single scene), Initial, or Extended)|"
   ]
  },
  {
   "cell_type": "markdown",
   "metadata": {},
   "source": [
    "Red Hills, Cholavaram, Poondi and Chembarambakkam, with a combined capacity of 11,057 mcft. These are the major sources of fresh water for the city."
   ]
  },
  {
   "cell_type": "markdown",
   "metadata": {},
   "source": [
    "## Loading packages and data"
   ]
  },
  {
   "cell_type": "code",
   "execution_count": 1,
   "metadata": {},
   "outputs": [],
   "source": [
    "import pandas as pd\n",
    "import numpy as np\n",
    "import matplotlib.pyplot as plt\n",
    "from matplotlib.patches import Rectangle\n",
    "import statsmodels.api as sm\n",
    "from statsmodels.tsa.stattools import acf, pacf\n",
    "from statsmodels.graphics.tsaplots import plot_acf, plot_pacf\n",
    "from statsmodels.tsa.arima_model import ARIMA\n",
    "from sklearn.metrics import r2_score\n",
    "from sklearn.dummy import DummyRegressor\n",
    "from sklearn.model_selection import train_test_split\n",
    "from sklearn.linear_model import LinearRegression\n",
    "from statsmodels.tsa.stattools import adfuller\n",
    "from pmdarima import auto_arima\n",
    "\n",
    "import seaborn as sns\n",
    "sns.set_style(\"darkgrid\")"
   ]
  },
  {
   "cell_type": "code",
   "execution_count": 2,
   "metadata": {},
   "outputs": [],
   "source": [
    "reserv= pd.read_csv(\"../data/chennai_reservoir_levels.csv\")"
   ]
  },
  {
   "cell_type": "code",
   "execution_count": 3,
   "metadata": {},
   "outputs": [],
   "source": [
    "rain = pd.read_csv(\"../data/chennai_reservoir_rainfall.csv\")"
   ]
  },
  {
   "cell_type": "markdown",
   "metadata": {},
   "source": [
    "## Cleaning"
   ]
  },
  {
   "cell_type": "code",
   "execution_count": 4,
   "metadata": {},
   "outputs": [],
   "source": [
    "reserv.rename(columns={\"POONDI\": \"Poondi_water_level\", \n",
    "                     \"CHOLAVARAM\": \"Cholavaram_water_level\",\n",
    "                     \"REDHILLS\": \"Redhills_water_level\",\n",
    "                    \"CHEMBARAMBAKKAM\": \"Chembarambakkam_water_level\"},inplace =True)"
   ]
  },
  {
   "cell_type": "code",
   "execution_count": 5,
   "metadata": {},
   "outputs": [],
   "source": [
    "rain.rename(columns={\"POONDI\": \"Poondi_rain\", \n",
    "                     \"CHOLAVARAM\": \"Cholavaram_rain\",\n",
    "                     \"REDHILLS\": \"Redhills_rain\",\n",
    "                    \"CHEMBARAMBAKKAM\": \"Chembarambakkam_rain\"},inplace =True)"
   ]
  },
  {
   "cell_type": "code",
   "execution_count": 6,
   "metadata": {},
   "outputs": [],
   "source": [
    "df = pd.merge(reserv, rain ,on =\"Date\", how=\"outer\") "
   ]
  },
  {
   "cell_type": "code",
   "execution_count": 7,
   "metadata": {},
   "outputs": [],
   "source": [
    "cols = df.columns.tolist()"
   ]
  },
  {
   "cell_type": "code",
   "execution_count": 8,
   "metadata": {},
   "outputs": [],
   "source": [
    "water_cols =  ['Poondi_water_level',\n",
    " 'Cholavaram_water_level',\n",
    " 'Redhills_water_level',\n",
    " 'Chembarambakkam_water_level']"
   ]
  },
  {
   "cell_type": "code",
   "execution_count": 9,
   "metadata": {},
   "outputs": [],
   "source": [
    "rain_cols =['Poondi_rain',\n",
    " 'Cholavaram_rain',\n",
    " 'Redhills_rain',\n",
    " 'Chembarambakkam_rain']"
   ]
  },
  {
   "cell_type": "code",
   "execution_count": 10,
   "metadata": {},
   "outputs": [],
   "source": [
    "df = df[['Date', 'Poondi_water_level','Poondi_rain','Cholavaram_water_level',\n",
    "   'Cholavaram_rain', 'Redhills_water_level', 'Redhills_rain', 'Chembarambakkam_water_level','Chembarambakkam_rain'  ]]"
   ]
  },
  {
   "cell_type": "code",
   "execution_count": 11,
   "metadata": {},
   "outputs": [],
   "source": [
    "df[\"Date\"] = pd.to_datetime(reserv[\"Date\"], format='%d-%m-%Y')"
   ]
  },
  {
   "cell_type": "code",
   "execution_count": 12,
   "metadata": {},
   "outputs": [],
   "source": [
    "df.set_index(\"Date\", inplace= True)"
   ]
  },
  {
   "cell_type": "code",
   "execution_count": 13,
   "metadata": {},
   "outputs": [],
   "source": [
    "df.sort_index(inplace = True)"
   ]
  },
  {
   "cell_type": "code",
   "execution_count": 16,
   "metadata": {},
   "outputs": [
    {
     "data": {
      "text/plain": [
       "Poondi_water_level             0\n",
       "Poondi_rain                    0\n",
       "Cholavaram_water_level         0\n",
       "Cholavaram_rain                0\n",
       "Redhills_water_level           0\n",
       "Redhills_rain                  0\n",
       "Chembarambakkam_water_level    0\n",
       "Chembarambakkam_rain           0\n",
       "dtype: int64"
      ]
     },
     "execution_count": 16,
     "metadata": {},
     "output_type": "execute_result"
    }
   ],
   "source": [
    "df.isna().sum()"
   ]
  },
  {
   "cell_type": "markdown",
   "metadata": {},
   "source": [
    "## EDA"
   ]
  },
  {
   "cell_type": "code",
   "execution_count": 17,
   "metadata": {},
   "outputs": [
    {
     "data": {
      "text/plain": [
       "Poondi_water_level             float64\n",
       "Poondi_rain                    float64\n",
       "Cholavaram_water_level         float64\n",
       "Cholavaram_rain                float64\n",
       "Redhills_water_level           float64\n",
       "Redhills_rain                  float64\n",
       "Chembarambakkam_water_level    float64\n",
       "Chembarambakkam_rain           float64\n",
       "dtype: object"
      ]
     },
     "execution_count": 17,
     "metadata": {},
     "output_type": "execute_result"
    }
   ],
   "source": [
    "df.dtypes"
   ]
  },
  {
   "cell_type": "code",
   "execution_count": 19,
   "metadata": {},
   "outputs": [],
   "source": [
    "def graph_percentile(col):\n",
    "    # Generate random data\n",
    "    data = col\n",
    "\n",
    "    # Colours for different percentiles\n",
    "    perc_25_colour = 'gold'\n",
    "    perc_50_colour = 'mediumaquamarine'\n",
    "    perc_75_colour = 'deepskyblue'\n",
    "    perc_95_colour = 'peachpuff'\n",
    "\n",
    "    # Plot the Histogram from the random data\n",
    "    fig, ax = plt.subplots(figsize=(8,8))\n",
    "\n",
    "    '''\n",
    "    counts  = numpy.ndarray of count of data ponts for each bin/column in the histogram\n",
    "    bins    = numpy.ndarray of bin edge/range values\n",
    "    patches = a list of Patch objects.\n",
    "            each Patch object contains a Rectnagle object. \n",
    "            e.g. Rectangle(xy=(-2.51953, 0), width=0.501013, height=3, angle=0)\n",
    "    '''\n",
    "    counts, bins, patches = ax.hist(data, facecolor=perc_50_colour, edgecolor='gray')\n",
    "\n",
    "\n",
    "    # Set the ticks to be at the edges of the bins.\n",
    "    ax.set_xticks(bins.round(2))\n",
    "    plt.xticks(rotation=70)\n",
    "\n",
    "    # Set the graph title and axes titles\n",
    "    plt.title(f'Distribution of rainfall for {col.name} reservoir in millimetres', fontsize=20)\n",
    "    plt.ylabel('Count of Distribution', fontsize=15)\n",
    "    plt.xlabel('Amount rainfall in millimetres', fontsize=15)\n",
    "\n",
    "    # Change the colors of bars at the edges\n",
    "    twentyfifth, seventyfifth, ninetyfifth = np.percentile(data, [25, 75, 95])\n",
    "    for patch, leftside, rightside in zip(patches, bins[:-1], bins[1:]):\n",
    "        if rightside < twentyfifth:\n",
    "            patch.set_facecolor(perc_25_colour)\n",
    "        elif leftside > ninetyfifth:\n",
    "            patch.set_facecolor(perc_95_colour)\n",
    "        elif leftside > seventyfifth:\n",
    "            patch.set_facecolor(perc_75_colour)\n",
    "\n",
    "    # Calculate bar centre to display the count of data points and %\n",
    "    bin_x_centers = 0.5 * np.diff(bins) + bins[:-1]\n",
    "    bin_y_centers = ax.get_yticks()[1] * 0.25\n",
    "\n",
    "    # Display the the count of data points and % for each bar in histogram\n",
    "    for i in range(len(bins)-1):\n",
    "        bin_label = \"{0:,}\".format(counts[i]) + \"  ({0:,.2f}%)\".format((counts[i]/counts.sum())*100)\n",
    "        plt.text(bin_x_centers[i], bin_y_centers, bin_label, rotation=90, rotation_mode='anchor')\n",
    "\n",
    "    # Annotation for bar values\n",
    "    ax.annotate('Each bar shows count and percentage of total',\n",
    "                xy=(.85,.30), xycoords='figure fraction',\n",
    "                horizontalalignment='center', verticalalignment='bottom',\n",
    "                fontsize=10, bbox=dict(boxstyle=\"round\", fc=\"white\"),\n",
    "                rotation=-90)\n",
    "\n",
    "    #create legend\n",
    "    handles = [Rectangle((0,0),1,1,color=c,ec=\"k\") for c in [perc_25_colour, perc_50_colour, perc_75_colour, perc_95_colour]]\n",
    "    labels= [\"0-25 Percentile\",\"25-50 Percentile\", \"50-75 Percentile\", \">95 Percentile\"]\n",
    "    plt.legend(handles, labels, bbox_to_anchor=(0.5, 0., 0.80, 0.99))\n",
    "\n",
    "\n"
   ]
  },
  {
   "cell_type": "code",
   "execution_count": 21,
   "metadata": {
    "scrolled": true
   },
   "outputs": [
    {
     "data": {
      "image/png": "[encoded data removed]",
      "text/plain": [
       "<Figure size 576x576 with 1 Axes>"
      ]
     },
     "metadata": {},
     "output_type": "display_data"
    }
   ],
   "source": [
    "graph_percentile(df[\"Poondi_rain\"])"
   ]
  },
  {
   "cell_type": "code",
   "execution_count": 21,
   "metadata": {},
   "outputs": [],
   "source": [
    "df[\"time\"] = range(len(df))"
   ]
  },
  {
   "cell_type": "code",
   "execution_count": 22,
   "metadata": {},
   "outputs": [
    {
     "data": {
      "text/html": [
       "<div>\n",
       "<style scoped>\n",
       "    .dataframe tbody tr th:only-of-type {\n",
       "        vertical-align: middle;\n",
       "    }\n",
       "\n",
       "    .dataframe tbody tr th {\n",
       "        vertical-align: top;\n",
       "    }\n",
       "\n",
       "    .dataframe thead th {\n",
       "        text-align: right;\n",
       "    }\n",
       "</style>\n",
       "<table border=\"1\" class=\"dataframe\">\n",
       "  <thead>\n",
       "    <tr style=\"text-align: right;\">\n",
       "      <th></th>\n",
       "      <th>Poondi_water_level</th>\n",
       "      <th>Poondi_rain</th>\n",
       "      <th>Cholavaram_water_level</th>\n",
       "      <th>Cholavaram_rain</th>\n",
       "      <th>Redhills_water_level</th>\n",
       "      <th>Redhills_rain</th>\n",
       "      <th>Chembarambakkam_water_level</th>\n",
       "      <th>Chembarambakkam_rain</th>\n",
       "      <th>time</th>\n",
       "      <th>Chembarambakkam_water_level_1</th>\n",
       "      <th>Chembarambakkam_water_level_2</th>\n",
       "      <th>Chembarambakkam_water_level_3</th>\n",
       "      <th>Chembarambakkam_water_level_4</th>\n",
       "      <th>Chembarambakkam_water_level_8</th>\n",
       "      <th>Chembarambakkam_water_level_9</th>\n",
       "      <th>Chembarambakkam_water_level_10</th>\n",
       "      <th>Chembarambakkam_water_level_11</th>\n",
       "      <th>Chembarambakkam_water_level_12</th>\n",
       "      <th>Chembarambakkam_water_level_13</th>\n",
       "    </tr>\n",
       "    <tr>\n",
       "      <th>Date</th>\n",
       "      <th></th>\n",
       "      <th></th>\n",
       "      <th></th>\n",
       "      <th></th>\n",
       "      <th></th>\n",
       "      <th></th>\n",
       "      <th></th>\n",
       "      <th></th>\n",
       "      <th></th>\n",
       "      <th></th>\n",
       "      <th></th>\n",
       "      <th></th>\n",
       "      <th></th>\n",
       "      <th></th>\n",
       "      <th></th>\n",
       "      <th></th>\n",
       "      <th></th>\n",
       "      <th></th>\n",
       "      <th></th>\n",
       "    </tr>\n",
       "  </thead>\n",
       "  <tbody>\n",
       "    <tr>\n",
       "      <th>2004-01-01</th>\n",
       "      <td>3.9</td>\n",
       "      <td>0.0</td>\n",
       "      <td>0.0</td>\n",
       "      <td>0.0</td>\n",
       "      <td>268.0</td>\n",
       "      <td>0.0</td>\n",
       "      <td>0.0</td>\n",
       "      <td>0.0</td>\n",
       "      <td>0</td>\n",
       "      <td>NaN</td>\n",
       "      <td>NaN</td>\n",
       "      <td>NaN</td>\n",
       "      <td>NaN</td>\n",
       "      <td>NaN</td>\n",
       "      <td>NaN</td>\n",
       "      <td>NaN</td>\n",
       "      <td>NaN</td>\n",
       "      <td>NaN</td>\n",
       "      <td>NaN</td>\n",
       "    </tr>\n",
       "    <tr>\n",
       "      <th>2004-01-02</th>\n",
       "      <td>3.9</td>\n",
       "      <td>0.0</td>\n",
       "      <td>0.0</td>\n",
       "      <td>0.0</td>\n",
       "      <td>268.0</td>\n",
       "      <td>0.0</td>\n",
       "      <td>0.0</td>\n",
       "      <td>0.0</td>\n",
       "      <td>1</td>\n",
       "      <td>0.0</td>\n",
       "      <td>NaN</td>\n",
       "      <td>NaN</td>\n",
       "      <td>NaN</td>\n",
       "      <td>NaN</td>\n",
       "      <td>NaN</td>\n",
       "      <td>NaN</td>\n",
       "      <td>NaN</td>\n",
       "      <td>NaN</td>\n",
       "      <td>NaN</td>\n",
       "    </tr>\n",
       "    <tr>\n",
       "      <th>2004-01-03</th>\n",
       "      <td>3.9</td>\n",
       "      <td>0.0</td>\n",
       "      <td>0.0</td>\n",
       "      <td>0.0</td>\n",
       "      <td>267.0</td>\n",
       "      <td>0.0</td>\n",
       "      <td>0.0</td>\n",
       "      <td>0.0</td>\n",
       "      <td>2</td>\n",
       "      <td>0.0</td>\n",
       "      <td>0.0</td>\n",
       "      <td>NaN</td>\n",
       "      <td>NaN</td>\n",
       "      <td>NaN</td>\n",
       "      <td>NaN</td>\n",
       "      <td>NaN</td>\n",
       "      <td>NaN</td>\n",
       "      <td>NaN</td>\n",
       "      <td>NaN</td>\n",
       "    </tr>\n",
       "    <tr>\n",
       "      <th>2004-01-04</th>\n",
       "      <td>3.9</td>\n",
       "      <td>0.0</td>\n",
       "      <td>0.0</td>\n",
       "      <td>0.0</td>\n",
       "      <td>267.0</td>\n",
       "      <td>0.0</td>\n",
       "      <td>0.0</td>\n",
       "      <td>0.0</td>\n",
       "      <td>3</td>\n",
       "      <td>0.0</td>\n",
       "      <td>0.0</td>\n",
       "      <td>0.0</td>\n",
       "      <td>NaN</td>\n",
       "      <td>NaN</td>\n",
       "      <td>NaN</td>\n",
       "      <td>NaN</td>\n",
       "      <td>NaN</td>\n",
       "      <td>NaN</td>\n",
       "      <td>NaN</td>\n",
       "    </tr>\n",
       "    <tr>\n",
       "      <th>2004-01-05</th>\n",
       "      <td>3.8</td>\n",
       "      <td>0.0</td>\n",
       "      <td>0.0</td>\n",
       "      <td>0.0</td>\n",
       "      <td>267.0</td>\n",
       "      <td>0.0</td>\n",
       "      <td>0.0</td>\n",
       "      <td>0.0</td>\n",
       "      <td>4</td>\n",
       "      <td>0.0</td>\n",
       "      <td>0.0</td>\n",
       "      <td>0.0</td>\n",
       "      <td>0.0</td>\n",
       "      <td>NaN</td>\n",
       "      <td>NaN</td>\n",
       "      <td>NaN</td>\n",
       "      <td>NaN</td>\n",
       "      <td>NaN</td>\n",
       "      <td>NaN</td>\n",
       "    </tr>\n",
       "    <tr>\n",
       "      <th>2004-01-06</th>\n",
       "      <td>3.8</td>\n",
       "      <td>0.0</td>\n",
       "      <td>0.0</td>\n",
       "      <td>0.0</td>\n",
       "      <td>266.0</td>\n",
       "      <td>0.0</td>\n",
       "      <td>0.0</td>\n",
       "      <td>0.0</td>\n",
       "      <td>5</td>\n",
       "      <td>0.0</td>\n",
       "      <td>0.0</td>\n",
       "      <td>0.0</td>\n",
       "      <td>0.0</td>\n",
       "      <td>NaN</td>\n",
       "      <td>NaN</td>\n",
       "      <td>NaN</td>\n",
       "      <td>NaN</td>\n",
       "      <td>NaN</td>\n",
       "      <td>NaN</td>\n",
       "    </tr>\n",
       "    <tr>\n",
       "      <th>2004-01-07</th>\n",
       "      <td>3.8</td>\n",
       "      <td>0.0</td>\n",
       "      <td>0.0</td>\n",
       "      <td>0.0</td>\n",
       "      <td>266.0</td>\n",
       "      <td>0.0</td>\n",
       "      <td>0.0</td>\n",
       "      <td>0.0</td>\n",
       "      <td>6</td>\n",
       "      <td>0.0</td>\n",
       "      <td>0.0</td>\n",
       "      <td>0.0</td>\n",
       "      <td>0.0</td>\n",
       "      <td>NaN</td>\n",
       "      <td>NaN</td>\n",
       "      <td>NaN</td>\n",
       "      <td>NaN</td>\n",
       "      <td>NaN</td>\n",
       "      <td>NaN</td>\n",
       "    </tr>\n",
       "    <tr>\n",
       "      <th>2004-01-08</th>\n",
       "      <td>3.7</td>\n",
       "      <td>0.0</td>\n",
       "      <td>0.0</td>\n",
       "      <td>0.0</td>\n",
       "      <td>265.0</td>\n",
       "      <td>0.0</td>\n",
       "      <td>0.0</td>\n",
       "      <td>0.0</td>\n",
       "      <td>7</td>\n",
       "      <td>0.0</td>\n",
       "      <td>0.0</td>\n",
       "      <td>0.0</td>\n",
       "      <td>0.0</td>\n",
       "      <td>NaN</td>\n",
       "      <td>NaN</td>\n",
       "      <td>NaN</td>\n",
       "      <td>NaN</td>\n",
       "      <td>NaN</td>\n",
       "      <td>NaN</td>\n",
       "    </tr>\n",
       "    <tr>\n",
       "      <th>2004-01-09</th>\n",
       "      <td>3.7</td>\n",
       "      <td>0.0</td>\n",
       "      <td>0.0</td>\n",
       "      <td>0.0</td>\n",
       "      <td>264.0</td>\n",
       "      <td>0.0</td>\n",
       "      <td>0.0</td>\n",
       "      <td>0.0</td>\n",
       "      <td>8</td>\n",
       "      <td>0.0</td>\n",
       "      <td>0.0</td>\n",
       "      <td>0.0</td>\n",
       "      <td>0.0</td>\n",
       "      <td>0.0</td>\n",
       "      <td>NaN</td>\n",
       "      <td>NaN</td>\n",
       "      <td>NaN</td>\n",
       "      <td>NaN</td>\n",
       "      <td>NaN</td>\n",
       "    </tr>\n",
       "    <tr>\n",
       "      <th>2004-01-10</th>\n",
       "      <td>3.7</td>\n",
       "      <td>0.0</td>\n",
       "      <td>0.0</td>\n",
       "      <td>0.0</td>\n",
       "      <td>264.0</td>\n",
       "      <td>0.0</td>\n",
       "      <td>0.0</td>\n",
       "      <td>0.0</td>\n",
       "      <td>9</td>\n",
       "      <td>0.0</td>\n",
       "      <td>0.0</td>\n",
       "      <td>0.0</td>\n",
       "      <td>0.0</td>\n",
       "      <td>0.0</td>\n",
       "      <td>0.0</td>\n",
       "      <td>NaN</td>\n",
       "      <td>NaN</td>\n",
       "      <td>NaN</td>\n",
       "      <td>NaN</td>\n",
       "    </tr>\n",
       "    <tr>\n",
       "      <th>2004-01-11</th>\n",
       "      <td>3.6</td>\n",
       "      <td>0.0</td>\n",
       "      <td>0.0</td>\n",
       "      <td>0.0</td>\n",
       "      <td>263.0</td>\n",
       "      <td>0.0</td>\n",
       "      <td>0.0</td>\n",
       "      <td>0.0</td>\n",
       "      <td>10</td>\n",
       "      <td>0.0</td>\n",
       "      <td>0.0</td>\n",
       "      <td>0.0</td>\n",
       "      <td>0.0</td>\n",
       "      <td>0.0</td>\n",
       "      <td>0.0</td>\n",
       "      <td>0.0</td>\n",
       "      <td>NaN</td>\n",
       "      <td>NaN</td>\n",
       "      <td>NaN</td>\n",
       "    </tr>\n",
       "    <tr>\n",
       "      <th>2004-01-12</th>\n",
       "      <td>3.6</td>\n",
       "      <td>0.0</td>\n",
       "      <td>0.0</td>\n",
       "      <td>0.0</td>\n",
       "      <td>262.0</td>\n",
       "      <td>0.0</td>\n",
       "      <td>0.0</td>\n",
       "      <td>0.0</td>\n",
       "      <td>11</td>\n",
       "      <td>0.0</td>\n",
       "      <td>0.0</td>\n",
       "      <td>0.0</td>\n",
       "      <td>0.0</td>\n",
       "      <td>0.0</td>\n",
       "      <td>0.0</td>\n",
       "      <td>0.0</td>\n",
       "      <td>0.0</td>\n",
       "      <td>NaN</td>\n",
       "      <td>NaN</td>\n",
       "    </tr>\n",
       "    <tr>\n",
       "      <th>2004-01-13</th>\n",
       "      <td>3.6</td>\n",
       "      <td>0.0</td>\n",
       "      <td>0.0</td>\n",
       "      <td>0.0</td>\n",
       "      <td>261.0</td>\n",
       "      <td>0.0</td>\n",
       "      <td>0.0</td>\n",
       "      <td>0.0</td>\n",
       "      <td>12</td>\n",
       "      <td>0.0</td>\n",
       "      <td>0.0</td>\n",
       "      <td>0.0</td>\n",
       "      <td>0.0</td>\n",
       "      <td>0.0</td>\n",
       "      <td>0.0</td>\n",
       "      <td>0.0</td>\n",
       "      <td>0.0</td>\n",
       "      <td>0.0</td>\n",
       "      <td>NaN</td>\n",
       "    </tr>\n",
       "    <tr>\n",
       "      <th>2004-01-14</th>\n",
       "      <td>3.5</td>\n",
       "      <td>0.0</td>\n",
       "      <td>0.0</td>\n",
       "      <td>0.0</td>\n",
       "      <td>260.0</td>\n",
       "      <td>0.0</td>\n",
       "      <td>0.0</td>\n",
       "      <td>0.0</td>\n",
       "      <td>13</td>\n",
       "      <td>0.0</td>\n",
       "      <td>0.0</td>\n",
       "      <td>0.0</td>\n",
       "      <td>0.0</td>\n",
       "      <td>0.0</td>\n",
       "      <td>0.0</td>\n",
       "      <td>0.0</td>\n",
       "      <td>0.0</td>\n",
       "      <td>0.0</td>\n",
       "      <td>0.0</td>\n",
       "    </tr>\n",
       "  </tbody>\n",
       "</table>\n",
       "</div>"
      ],
      "text/plain": [
       "            Poondi_water_level  Poondi_rain  Cholavaram_water_level  \\\n",
       "Date                                                                  \n",
       "2004-01-01                 3.9          0.0                     0.0   \n",
       "2004-01-02                 3.9          0.0                     0.0   \n",
       "2004-01-03                 3.9          0.0                     0.0   \n",
       "2004-01-04                 3.9          0.0                     0.0   \n",
       "2004-01-05                 3.8          0.0                     0.0   \n",
       "2004-01-06                 3.8          0.0                     0.0   \n",
       "2004-01-07                 3.8          0.0                     0.0   \n",
       "2004-01-08                 3.7          0.0                     0.0   \n",
       "2004-01-09                 3.7          0.0                     0.0   \n",
       "2004-01-10                 3.7          0.0                     0.0   \n",
       "2004-01-11                 3.6          0.0                     0.0   \n",
       "2004-01-12                 3.6          0.0                     0.0   \n",
       "2004-01-13                 3.6          0.0                     0.0   \n",
       "2004-01-14                 3.5          0.0                     0.0   \n",
       "\n",
       "            Cholavaram_rain  Redhills_water_level  Redhills_rain  \\\n",
       "Date                                                               \n",
       "2004-01-01              0.0                 268.0            0.0   \n",
       "2004-01-02              0.0                 268.0            0.0   \n",
       "2004-01-03              0.0                 267.0            0.0   \n",
       "2004-01-04              0.0                 267.0            0.0   \n",
       "2004-01-05              0.0                 267.0            0.0   \n",
       "2004-01-06              0.0                 266.0            0.0   \n",
       "2004-01-07              0.0                 266.0            0.0   \n",
       "2004-01-08              0.0                 265.0            0.0   \n",
       "2004-01-09              0.0                 264.0            0.0   \n",
       "2004-01-10              0.0                 264.0            0.0   \n",
       "2004-01-11              0.0                 263.0            0.0   \n",
       "2004-01-12              0.0                 262.0            0.0   \n",
       "2004-01-13              0.0                 261.0            0.0   \n",
       "2004-01-14              0.0                 260.0            0.0   \n",
       "\n",
       "            Chembarambakkam_water_level  Chembarambakkam_rain  time  \\\n",
       "Date                                                                  \n",
       "2004-01-01                          0.0                   0.0     0   \n",
       "2004-01-02                          0.0                   0.0     1   \n",
       "2004-01-03                          0.0                   0.0     2   \n",
       "2004-01-04                          0.0                   0.0     3   \n",
       "2004-01-05                          0.0                   0.0     4   \n",
       "2004-01-06                          0.0                   0.0     5   \n",
       "2004-01-07                          0.0                   0.0     6   \n",
       "2004-01-08                          0.0                   0.0     7   \n",
       "2004-01-09                          0.0                   0.0     8   \n",
       "2004-01-10                          0.0                   0.0     9   \n",
       "2004-01-11                          0.0                   0.0    10   \n",
       "2004-01-12                          0.0                   0.0    11   \n",
       "2004-01-13                          0.0                   0.0    12   \n",
       "2004-01-14                          0.0                   0.0    13   \n",
       "\n",
       "            Chembarambakkam_water_level_1  Chembarambakkam_water_level_2  \\\n",
       "Date                                                                       \n",
       "2004-01-01                            NaN                            NaN   \n",
       "2004-01-02                            0.0                            NaN   \n",
       "2004-01-03                            0.0                            0.0   \n",
       "2004-01-04                            0.0                            0.0   \n",
       "2004-01-05                            0.0                            0.0   \n",
       "2004-01-06                            0.0                            0.0   \n",
       "2004-01-07                            0.0                            0.0   \n",
       "2004-01-08                            0.0                            0.0   \n",
       "2004-01-09                            0.0                            0.0   \n",
       "2004-01-10                            0.0                            0.0   \n",
       "2004-01-11                            0.0                            0.0   \n",
       "2004-01-12                            0.0                            0.0   \n",
       "2004-01-13                            0.0                            0.0   \n",
       "2004-01-14                            0.0                            0.0   \n",
       "\n",
       "            Chembarambakkam_water_level_3  Chembarambakkam_water_level_4  \\\n",
       "Date                                                                       \n",
       "2004-01-01                            NaN                            NaN   \n",
       "2004-01-02                            NaN                            NaN   \n",
       "2004-01-03                            NaN                            NaN   \n",
       "2004-01-04                            0.0                            NaN   \n",
       "2004-01-05                            0.0                            0.0   \n",
       "2004-01-06                            0.0                            0.0   \n",
       "2004-01-07                            0.0                            0.0   \n",
       "2004-01-08                            0.0                            0.0   \n",
       "2004-01-09                            0.0                            0.0   \n",
       "2004-01-10                            0.0                            0.0   \n",
       "2004-01-11                            0.0                            0.0   \n",
       "2004-01-12                            0.0                            0.0   \n",
       "2004-01-13                            0.0                            0.0   \n",
       "2004-01-14                            0.0                            0.0   \n",
       "\n",
       "            Chembarambakkam_water_level_8  Chembarambakkam_water_level_9  \\\n",
       "Date                                                                       \n",
       "2004-01-01                            NaN                            NaN   \n",
       "2004-01-02                            NaN                            NaN   \n",
       "2004-01-03                            NaN                            NaN   \n",
       "2004-01-04                            NaN                            NaN   \n",
       "2004-01-05                            NaN                            NaN   \n",
       "2004-01-06                            NaN                            NaN   \n",
       "2004-01-07                            NaN                            NaN   \n",
       "2004-01-08                            NaN                            NaN   \n",
       "2004-01-09                            0.0                            NaN   \n",
       "2004-01-10                            0.0                            0.0   \n",
       "2004-01-11                            0.0                            0.0   \n",
       "2004-01-12                            0.0                            0.0   \n",
       "2004-01-13                            0.0                            0.0   \n",
       "2004-01-14                            0.0                            0.0   \n",
       "\n",
       "            Chembarambakkam_water_level_10  Chembarambakkam_water_level_11  \\\n",
       "Date                                                                         \n",
       "2004-01-01                             NaN                             NaN   \n",
       "2004-01-02                             NaN                             NaN   \n",
       "2004-01-03                             NaN                             NaN   \n",
       "2004-01-04                             NaN                             NaN   \n",
       "2004-01-05                             NaN                             NaN   \n",
       "2004-01-06                             NaN                             NaN   \n",
       "2004-01-07                             NaN                             NaN   \n",
       "2004-01-08                             NaN                             NaN   \n",
       "2004-01-09                             NaN                             NaN   \n",
       "2004-01-10                             NaN                             NaN   \n",
       "2004-01-11                             0.0                             NaN   \n",
       "2004-01-12                             0.0                             0.0   \n",
       "2004-01-13                             0.0                             0.0   \n",
       "2004-01-14                             0.0                             0.0   \n",
       "\n",
       "            Chembarambakkam_water_level_12  Chembarambakkam_water_level_13  \n",
       "Date                                                                        \n",
       "2004-01-01                             NaN                             NaN  \n",
       "2004-01-02                             NaN                             NaN  \n",
       "2004-01-03                             NaN                             NaN  \n",
       "2004-01-04                             NaN                             NaN  \n",
       "2004-01-05                             NaN                             NaN  \n",
       "2004-01-06                             NaN                             NaN  \n",
       "2004-01-07                             NaN                             NaN  \n",
       "2004-01-08                             NaN                             NaN  \n",
       "2004-01-09                             NaN                             NaN  \n",
       "2004-01-10                             NaN                             NaN  \n",
       "2004-01-11                             NaN                             NaN  \n",
       "2004-01-12                             NaN                             NaN  \n",
       "2004-01-13                             0.0                             NaN  \n",
       "2004-01-14                             0.0                             0.0  "
      ]
     },
     "execution_count": 22,
     "metadata": {},
     "output_type": "execute_result"
    }
   ],
   "source": [
    "desired_lags = [1, 2, 3, 4, 8, 9, 10, 11, 12, 13]\n",
    "reserv_with_lags = multi_lag_appender(df, \"Chembarambakkam_water_level\", desired_lags)\n",
    "reserv_with_lags.head(14)"
   ]
  },
  {
   "cell_type": "markdown",
   "metadata": {},
   "source": [
    "## Lags"
   ]
  },
  {
   "cell_type": "code",
   "execution_count": 23,
   "metadata": {},
   "outputs": [],
   "source": [
    "def multi_lag_appender(df, column, lags, inplace = False):\n",
    "    '''Appends the appropriate lag from the list of given lags to the give dataframe'''\n",
    "    # copying datafame unless inplace = True\n",
    "    df = df if inplace else df.copy()\n",
    "    for lag in lags:\n",
    "        df[f\"{column}_{lag}\"] = df[column].shift(lag)\n",
    "    \n",
    "    return None if inplace else df"
   ]
  },
  {
   "cell_type": "markdown",
   "metadata": {},
   "source": [
    "\n",
    "\n",
    "## Model Preparation"
   ]
  },
  {
   "cell_type": "code",
   "execution_count": null,
   "metadata": {},
   "outputs": [],
   "source": []
  },
  {
   "cell_type": "code",
   "execution_count": 40,
   "metadata": {},
   "outputs": [],
   "source": [
    "reserv_with_lags.dropna(inplace= True)"
   ]
  },
  {
   "cell_type": "code",
   "execution_count": 41,
   "metadata": {},
   "outputs": [],
   "source": [
    "X = reserv_with_lags.drop(columns=cols[1:])\n",
    "y = reserv_with_lags[\"Chembarambakkam_water_level\"]\n",
    "\n",
    "# must NOT shuffle for time series\n",
    "X_train, X_test, y_train, y_test = train_test_split(X, y, test_size = .26, shuffle = False)"
   ]
  },
  {
   "cell_type": "markdown",
   "metadata": {},
   "source": [
    "### Baseline"
   ]
  },
  {
   "cell_type": "code",
   "execution_count": 42,
   "metadata": {},
   "outputs": [],
   "source": [
    "dumb = DummyRegressor(strategy='mean')"
   ]
  },
  {
   "cell_type": "code",
   "execution_count": 43,
   "metadata": {},
   "outputs": [
    {
     "data": {
      "text/plain": [
       "1430.850812253423"
      ]
     },
     "execution_count": 43,
     "metadata": {},
     "output_type": "execute_result"
    }
   ],
   "source": [
    "y_train.mean()"
   ]
  },
  {
   "cell_type": "code",
   "execution_count": 44,
   "metadata": {},
   "outputs": [
    {
     "data": {
      "text/plain": [
       "DummyRegressor(constant=None, quantile=None, strategy='mean')"
      ]
     },
     "execution_count": 44,
     "metadata": {},
     "output_type": "execute_result"
    }
   ],
   "source": [
    "dumb.fit(X_train, y_train)"
   ]
  },
  {
   "cell_type": "code",
   "execution_count": 45,
   "metadata": {},
   "outputs": [
    {
     "data": {
      "text/plain": [
       "0.0"
      ]
     },
     "execution_count": 45,
     "metadata": {},
     "output_type": "execute_result"
    }
   ],
   "source": [
    "dumb.score(X_train, y_train)"
   ]
  },
  {
   "cell_type": "code",
   "execution_count": 46,
   "metadata": {},
   "outputs": [
    {
     "data": {
      "text/plain": [
       "-0.33521409583375195"
      ]
     },
     "execution_count": 46,
     "metadata": {},
     "output_type": "execute_result"
    }
   ],
   "source": [
    "dumb.score(X_test, y_test)"
   ]
  },
  {
   "cell_type": "markdown",
   "metadata": {},
   "source": [
    "### Linear Regression"
   ]
  },
  {
   "cell_type": "code",
   "execution_count": 47,
   "metadata": {},
   "outputs": [
    {
     "data": {
      "text/plain": [
       "LinearRegression(copy_X=True, fit_intercept=True, n_jobs=None, normalize=False)"
      ]
     },
     "execution_count": 47,
     "metadata": {},
     "output_type": "execute_result"
    }
   ],
   "source": [
    "# instantiate\n",
    "lr = LinearRegression()\n",
    "\n",
    "# fit (original model fitted)\n",
    "lr.fit(X_train, y_train)"
   ]
  },
  {
   "cell_type": "code",
   "execution_count": 48,
   "metadata": {},
   "outputs": [
    {
     "data": {
      "text/plain": [
       "0.9917212930931044"
      ]
     },
     "execution_count": 48,
     "metadata": {},
     "output_type": "execute_result"
    }
   ],
   "source": [
    "lr.score(X_train, y_train)"
   ]
  },
  {
   "cell_type": "code",
   "execution_count": 49,
   "metadata": {},
   "outputs": [
    {
     "data": {
      "text/plain": [
       "0.9954689001551672"
      ]
     },
     "execution_count": 49,
     "metadata": {},
     "output_type": "execute_result"
    }
   ],
   "source": [
    "lr.score(X_test, y_test)"
   ]
  },
  {
   "cell_type": "code",
   "execution_count": 50,
   "metadata": {},
   "outputs": [],
   "source": [
    "X = reserv_with_lags.drop(columns=cols[1:])\n",
    "\n",
    "X = sm.add_constant(X) # MUST add constant for statsmodels\n",
    "\n",
    "y = reserv_with_lags[\"Chembarambakkam_water_level\"]\n",
    "\n",
    "# must NOT shuffle for time series\n",
    "X_train, X_test, y_train, y_test = train_test_split(X, y, test_size = .2, shuffle = False)"
   ]
  },
  {
   "cell_type": "code",
   "execution_count": 51,
   "metadata": {},
   "outputs": [],
   "source": [
    "# instantiate\n",
    "ols = sm.OLS(y_train, X_train) # notice y goes first!\n",
    "\n",
    "# fit\n",
    "fitted_ols = ols.fit() # returned model is fitted, not the original!"
   ]
  },
  {
   "cell_type": "code",
   "execution_count": 52,
   "metadata": {},
   "outputs": [
    {
     "data": {
      "text/html": [
       "<table class=\"simpletable\">\n",
       "<caption>OLS Regression Results</caption>\n",
       "<tr>\n",
       "  <th>Dep. Variable:</th>    <td>Chembarambakkam_water_level</td> <th>  R-squared:         </th> <td>   0.992</td> \n",
       "</tr>\n",
       "<tr>\n",
       "  <th>Model:</th>                        <td>OLS</td>             <th>  Adj. R-squared:    </th> <td>   0.992</td> \n",
       "</tr>\n",
       "<tr>\n",
       "  <th>Method:</th>                  <td>Least Squares</td>        <th>  F-statistic:       </th> <td>5.185e+04</td>\n",
       "</tr>\n",
       "<tr>\n",
       "  <th>Date:</th>                  <td>Thu, 03 Sep 2020</td>       <th>  Prob (F-statistic):</th>  <td>  0.00</td>  \n",
       "</tr>\n",
       "<tr>\n",
       "  <th>Time:</th>                      <td>00:15:46</td>           <th>  Log-Likelihood:    </th> <td> -27281.</td> \n",
       "</tr>\n",
       "<tr>\n",
       "  <th>No. Observations:</th>           <td>  4658</td>            <th>  AIC:               </th> <td>5.459e+04</td>\n",
       "</tr>\n",
       "<tr>\n",
       "  <th>Df Residuals:</th>               <td>  4646</td>            <th>  BIC:               </th> <td>5.466e+04</td>\n",
       "</tr>\n",
       "<tr>\n",
       "  <th>Df Model:</th>                   <td>    11</td>            <th>                     </th>     <td> </td>    \n",
       "</tr>\n",
       "<tr>\n",
       "  <th>Covariance Type:</th>           <td>nonrobust</td>          <th>                     </th>     <td> </td>    \n",
       "</tr>\n",
       "</table>\n",
       "<table class=\"simpletable\">\n",
       "<tr>\n",
       "                 <td></td>                   <th>coef</th>     <th>std err</th>      <th>t</th>      <th>P>|t|</th>  <th>[0.025</th>    <th>0.975]</th>  \n",
       "</tr>\n",
       "<tr>\n",
       "  <th>const</th>                          <td>    7.0227</td> <td>    3.036</td> <td>    2.313</td> <td> 0.021</td> <td>    1.070</td> <td>   12.975</td>\n",
       "</tr>\n",
       "<tr>\n",
       "  <th>time</th>                           <td>   -0.0003</td> <td>    0.001</td> <td>   -0.304</td> <td> 0.762</td> <td>   -0.002</td> <td>    0.002</td>\n",
       "</tr>\n",
       "<tr>\n",
       "  <th>Chembarambakkam_water_level_1</th>  <td>    0.7015</td> <td>    0.015</td> <td>   47.976</td> <td> 0.000</td> <td>    0.673</td> <td>    0.730</td>\n",
       "</tr>\n",
       "<tr>\n",
       "  <th>Chembarambakkam_water_level_2</th>  <td>    0.2393</td> <td>    0.018</td> <td>   13.379</td> <td> 0.000</td> <td>    0.204</td> <td>    0.274</td>\n",
       "</tr>\n",
       "<tr>\n",
       "  <th>Chembarambakkam_water_level_3</th>  <td>    0.0091</td> <td>    0.018</td> <td>    0.503</td> <td> 0.615</td> <td>   -0.026</td> <td>    0.044</td>\n",
       "</tr>\n",
       "<tr>\n",
       "  <th>Chembarambakkam_water_level_4</th>  <td>    0.0896</td> <td>    0.016</td> <td>    5.546</td> <td> 0.000</td> <td>    0.058</td> <td>    0.121</td>\n",
       "</tr>\n",
       "<tr>\n",
       "  <th>Chembarambakkam_water_level_8</th>  <td>    0.0082</td> <td>    0.016</td> <td>    0.504</td> <td> 0.614</td> <td>   -0.024</td> <td>    0.040</td>\n",
       "</tr>\n",
       "<tr>\n",
       "  <th>Chembarambakkam_water_level_9</th>  <td>   -0.0009</td> <td>    0.018</td> <td>   -0.048</td> <td> 0.962</td> <td>   -0.036</td> <td>    0.035</td>\n",
       "</tr>\n",
       "<tr>\n",
       "  <th>Chembarambakkam_water_level_10</th> <td>   -0.0028</td> <td>    0.018</td> <td>   -0.152</td> <td> 0.879</td> <td>   -0.039</td> <td>    0.033</td>\n",
       "</tr>\n",
       "<tr>\n",
       "  <th>Chembarambakkam_water_level_11</th> <td>   -0.0092</td> <td>    0.018</td> <td>   -0.506</td> <td> 0.613</td> <td>   -0.045</td> <td>    0.026</td>\n",
       "</tr>\n",
       "<tr>\n",
       "  <th>Chembarambakkam_water_level_12</th> <td>   -0.0058</td> <td>    0.018</td> <td>   -0.325</td> <td> 0.746</td> <td>   -0.041</td> <td>    0.029</td>\n",
       "</tr>\n",
       "<tr>\n",
       "  <th>Chembarambakkam_water_level_13</th> <td>   -0.0331</td> <td>    0.015</td> <td>   -2.255</td> <td> 0.024</td> <td>   -0.062</td> <td>   -0.004</td>\n",
       "</tr>\n",
       "</table>\n",
       "<table class=\"simpletable\">\n",
       "<tr>\n",
       "  <th>Omnibus:</th>       <td>6645.340</td> <th>  Durbin-Watson:     </th>   <td>   2.008</td>  \n",
       "</tr>\n",
       "<tr>\n",
       "  <th>Prob(Omnibus):</th>  <td> 0.000</td>  <th>  Jarque-Bera (JB):  </th> <td>37934638.922</td>\n",
       "</tr>\n",
       "<tr>\n",
       "  <th>Skew:</th>           <td> 7.282</td>  <th>  Prob(JB):          </th>   <td>    0.00</td>  \n",
       "</tr>\n",
       "<tr>\n",
       "  <th>Kurtosis:</th>       <td>444.863</td> <th>  Cond. No.          </th>   <td>1.46e+04</td>  \n",
       "</tr>\n",
       "</table><br/><br/>Warnings:<br/>[1] Standard Errors assume that the covariance matrix of the errors is correctly specified.<br/>[2] The condition number is large, 1.46e+04. This might indicate that there are<br/>strong multicollinearity or other numerical problems."
      ],
      "text/plain": [
       "<class 'statsmodels.iolib.summary.Summary'>\n",
       "\"\"\"\n",
       "                                 OLS Regression Results                                \n",
       "=======================================================================================\n",
       "Dep. Variable:     Chembarambakkam_water_level   R-squared:                       0.992\n",
       "Model:                                     OLS   Adj. R-squared:                  0.992\n",
       "Method:                          Least Squares   F-statistic:                 5.185e+04\n",
       "Date:                         Thu, 03 Sep 2020   Prob (F-statistic):               0.00\n",
       "Time:                                 00:15:46   Log-Likelihood:                -27281.\n",
       "No. Observations:                         4658   AIC:                         5.459e+04\n",
       "Df Residuals:                             4646   BIC:                         5.466e+04\n",
       "Df Model:                                   11                                         \n",
       "Covariance Type:                     nonrobust                                         \n",
       "==================================================================================================\n",
       "                                     coef    std err          t      P>|t|      [0.025      0.975]\n",
       "--------------------------------------------------------------------------------------------------\n",
       "const                              7.0227      3.036      2.313      0.021       1.070      12.975\n",
       "time                              -0.0003      0.001     -0.304      0.762      -0.002       0.002\n",
       "Chembarambakkam_water_level_1      0.7015      0.015     47.976      0.000       0.673       0.730\n",
       "Chembarambakkam_water_level_2      0.2393      0.018     13.379      0.000       0.204       0.274\n",
       "Chembarambakkam_water_level_3      0.0091      0.018      0.503      0.615      -0.026       0.044\n",
       "Chembarambakkam_water_level_4      0.0896      0.016      5.546      0.000       0.058       0.121\n",
       "Chembarambakkam_water_level_8      0.0082      0.016      0.504      0.614      -0.024       0.040\n",
       "Chembarambakkam_water_level_9     -0.0009      0.018     -0.048      0.962      -0.036       0.035\n",
       "Chembarambakkam_water_level_10    -0.0028      0.018     -0.152      0.879      -0.039       0.033\n",
       "Chembarambakkam_water_level_11    -0.0092      0.018     -0.506      0.613      -0.045       0.026\n",
       "Chembarambakkam_water_level_12    -0.0058      0.018     -0.325      0.746      -0.041       0.029\n",
       "Chembarambakkam_water_level_13    -0.0331      0.015     -2.255      0.024      -0.062      -0.004\n",
       "==============================================================================\n",
       "Omnibus:                     6645.340   Durbin-Watson:                   2.008\n",
       "Prob(Omnibus):                  0.000   Jarque-Bera (JB):         37934638.922\n",
       "Skew:                           7.282   Prob(JB):                         0.00\n",
       "Kurtosis:                     444.863   Cond. No.                     1.46e+04\n",
       "==============================================================================\n",
       "\n",
       "Warnings:\n",
       "[1] Standard Errors assume that the covariance matrix of the errors is correctly specified.\n",
       "[2] The condition number is large, 1.46e+04. This might indicate that there are\n",
       "strong multicollinearity or other numerical problems.\n",
       "\"\"\""
      ]
     },
     "execution_count": 52,
     "metadata": {},
     "output_type": "execute_result"
    }
   ],
   "source": [
    "fitted_ols.summary()"
   ]
  },
  {
   "cell_type": "code",
   "execution_count": 53,
   "metadata": {},
   "outputs": [
    {
     "data": {
      "text/plain": [
       "0.9919203727152522"
      ]
     },
     "execution_count": 53,
     "metadata": {},
     "output_type": "execute_result"
    }
   ],
   "source": [
    "y_train_preds = fitted_ols.predict(X_train)\n",
    "r2_score(y_train, y_train_preds)"
   ]
  },
  {
   "cell_type": "code",
   "execution_count": 54,
   "metadata": {},
   "outputs": [
    {
     "data": {
      "text/plain": [
       "0.9907998834085031"
      ]
     },
     "execution_count": 54,
     "metadata": {},
     "output_type": "execute_result"
    }
   ],
   "source": [
    "y_test_preds = fitted_ols.predict(X_test)\n",
    "r2_score(y_test, y_test_preds)"
   ]
  },
  {
   "cell_type": "code",
   "execution_count": 55,
   "metadata": {},
   "outputs": [
    {
     "data": {
      "image/png": "[encoded data removed]",
      "text/plain": [
       "<Figure size 864x432 with 1 Axes>"
      ]
     },
     "metadata": {},
     "output_type": "display_data"
    }
   ],
   "source": [
    "# Get forecasts for testing set\n",
    "preds = fitted_ols.predict(X_test)\n",
    "\n",
    "plt.figure(figsize=(12,6))\n",
    "plt.title(\"Water levels\")\n",
    "\n",
    "# Plot time series predictions against actual values for ENTIRE dataset\n",
    "y_train.plot(style=\"b\")\n",
    "y_test.plot(style=\"g\")\n",
    "preds.plot(style=\"r--\") # red with dash\n",
    "plt.xlabel(\"Year\")\n",
    "plt.ylabel(\"Chembarambakkam\")\n",
    "plt.legend(labels = [\"Training Dataset\", \"Testing Dataset\", \"Predictions\"]);"
   ]
  },
  {
   "cell_type": "code",
   "execution_count": 56,
   "metadata": {},
   "outputs": [
    {
     "data": {
      "image/png": "[encoded data removed]",
      "text/plain": [
       "<Figure size 432x288 with 1 Axes>"
      ]
     },
     "metadata": {},
     "output_type": "display_data"
    }
   ],
   "source": [
    "y_test.plot(style='g') \n",
    "preds.plot(style='r--')\n",
    "plt.xlabel(\"Year\")\n",
    "plt.ylabel(\"Chembarambakkam\")\n",
    "plt.title(\"Water levels\");"
   ]
  },
  {
   "cell_type": "markdown",
   "metadata": {},
   "source": [
    "## Conclusions and Recommendations"
   ]
  },
  {
   "cell_type": "markdown",
   "metadata": {},
   "source": [
    "## References"
   ]
  },
  {
   "cell_type": "code",
   "execution_count": null,
   "metadata": {},
   "outputs": [],
   "source": []
  }
 ],
 "metadata": {
  "kernelspec": {
   "display_name": "Python 3.7.6 64-bit ('anaconda3': virtualenv)",
   "language": "python",
   "name": "python37664bitanaconda3virtualenv441c1b97d3834ae998bbd4327ad5f1ad"
  },
  "language_info": {
   "codemirror_mode": {
    "name": "ipython",
    "version": 3
   },
   "file_extension": ".py",
   "mimetype": "text/x-python",
   "name": "python",
   "nbconvert_exporter": "python",
   "pygments_lexer": "ipython3",
   "version": "3.7.6"
  }
 },
 "nbformat": 4,
 "nbformat_minor": 4
}
